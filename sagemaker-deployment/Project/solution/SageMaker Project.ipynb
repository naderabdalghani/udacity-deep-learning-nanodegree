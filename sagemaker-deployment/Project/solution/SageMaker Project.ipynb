{
 "cells": [
  {
   "cell_type": "markdown",
   "metadata": {},
   "source": [
    "# Creating a Sentiment Analysis Web App\n",
    "## Using PyTorch and SageMaker\n",
    "\n",
    "_Deep Learning Nanodegree Program | Deployment_\n",
    "\n",
    "---\n",
    "\n",
    "Now that we have a basic understanding of how SageMaker works we will try to use it to construct a complete project from end to end. Our goal will be to have a simple web page which a user can use to enter a movie review. The web page will then send the review off to our deployed model which will predict the sentiment of the entered review.\n",
    "\n",
    "## Instructions\n",
    "\n",
    "Some template code has already been provided for you, and you will need to implement additional functionality to successfully complete this notebook. You will not need to modify the included code beyond what is requested. Sections that begin with '**TODO**' in the header indicate that you need to complete or implement some portion within them. Instructions will be provided for each section and the specifics of the implementation are marked in the code block with a `# TODO: ...` comment. Please be sure to read the instructions carefully!\n",
    "\n",
    "In addition to implementing code, there will be questions for you to answer which relate to the task and your implementation. Each section where you will answer a question is preceded by a '**Question:**' header. Carefully read each question and provide your answer below the '**Answer:**' header by editing the Markdown cell.\n",
    "\n",
    "> **Note**: Code and Markdown cells can be executed using the **Shift+Enter** keyboard shortcut. In addition, a cell can be edited by typically clicking it (double-click for Markdown cells) or by pressing **Enter** while it is highlighted.\n",
    "\n",
    "## General Outline\n",
    "\n",
    "Recall the general outline for SageMaker projects using a notebook instance.\n",
    "\n",
    "1. Download or otherwise retrieve the data.\n",
    "2. Process / Prepare the data.\n",
    "3. Upload the processed data to S3.\n",
    "4. Train a chosen model.\n",
    "5. Test the trained model (typically using a batch transform job).\n",
    "6. Deploy the trained model.\n",
    "7. Use the deployed model.\n",
    "\n",
    "For this project, you will be following the steps in the general outline with some modifications. \n",
    "\n",
    "First, you will not be testing the model in its own step. You will still be testing the model, however, you will do it by deploying your model and then using the deployed model by sending the test data to it. One of the reasons for doing this is so that you can make sure that your deployed model is working correctly before moving forward.\n",
    "\n",
    "In addition, you will deploy and use your trained model a second time. In the second iteration you will customize the way that your trained model is deployed by including some of your own code. In addition, your newly deployed model will be used in the sentiment analysis web app."
   ]
  },
  {
   "cell_type": "markdown",
   "metadata": {},
   "source": [
    "## Step 1: Downloading the data\n",
    "\n",
    "As in the XGBoost in SageMaker notebook, we will be using the [IMDb dataset](http://ai.stanford.edu/~amaas/data/sentiment/)\n",
    "\n",
    "> Maas, Andrew L., et al. [Learning Word Vectors for Sentiment Analysis](http://ai.stanford.edu/~amaas/data/sentiment/). In _Proceedings of the 49th Annual Meeting of the Association for Computational Linguistics: Human Language Technologies_. Association for Computational Linguistics, 2011."
   ]
  },
  {
   "cell_type": "code",
   "execution_count": 1,
   "metadata": {},
   "outputs": [
    {
     "name": "stdout",
     "output_type": "stream",
     "text": [
      "mkdir: cannot create directory ‘../data’: File exists\n",
      "--2020-09-10 12:02:29--  http://ai.stanford.edu/~amaas/data/sentiment/aclImdb_v1.tar.gz\n",
      "Resolving ai.stanford.edu (ai.stanford.edu)... 171.64.68.10\n",
      "Connecting to ai.stanford.edu (ai.stanford.edu)|171.64.68.10|:80... connected.\n",
      "HTTP request sent, awaiting response... 200 OK\n",
      "Length: 84125825 (80M) [application/x-gzip]\n",
      "Saving to: ‘../data/aclImdb_v1.tar.gz’\n",
      "\n",
      "../data/aclImdb_v1. 100%[===================>]  80.23M  21.3MB/s    in 6.3s    \n",
      "\n",
      "2020-09-10 12:02:36 (12.7 MB/s) - ‘../data/aclImdb_v1.tar.gz’ saved [84125825/84125825]\n",
      "\n"
     ]
    }
   ],
   "source": [
    "%mkdir ../data\n",
    "!wget -O ../data/aclImdb_v1.tar.gz http://ai.stanford.edu/~amaas/data/sentiment/aclImdb_v1.tar.gz\n",
    "!tar -zxf ../data/aclImdb_v1.tar.gz -C ../data"
   ]
  },
  {
   "cell_type": "markdown",
   "metadata": {},
   "source": [
    "## Step 2: Preparing and Processing the data\n",
    "\n",
    "Also, as in the XGBoost notebook, we will be doing some initial data processing. The first few steps are the same as in the XGBoost example. To begin with, we will read in each of the reviews and combine them into a single input structure. Then, we will split the dataset into a training set and a testing set."
   ]
  },
  {
   "cell_type": "code",
   "execution_count": 2,
   "metadata": {},
   "outputs": [],
   "source": [
    "import os\n",
    "import glob\n",
    "\n",
    "def read_imdb_data(data_dir='../data/aclImdb'):\n",
    "    data = {}\n",
    "    labels = {}\n",
    "    \n",
    "    for data_type in ['train', 'test']:\n",
    "        data[data_type] = {}\n",
    "        labels[data_type] = {}\n",
    "        \n",
    "        for sentiment in ['pos', 'neg']:\n",
    "            data[data_type][sentiment] = []\n",
    "            labels[data_type][sentiment] = []\n",
    "            \n",
    "            path = os.path.join(data_dir, data_type, sentiment, '*.txt')\n",
    "            files = glob.glob(path)\n",
    "            \n",
    "            for f in files:\n",
    "                with open(f) as review:\n",
    "                    data[data_type][sentiment].append(review.read())\n",
    "                    # Here we represent a positive review by '1' and a negative review by '0'\n",
    "                    labels[data_type][sentiment].append(1 if sentiment == 'pos' else 0)\n",
    "                    \n",
    "            assert len(data[data_type][sentiment]) == len(labels[data_type][sentiment]), \\\n",
    "                    \"{}/{} data size does not match labels size\".format(data_type, sentiment)\n",
    "                \n",
    "    return data, labels"
   ]
  },
  {
   "cell_type": "code",
   "execution_count": 3,
   "metadata": {},
   "outputs": [
    {
     "name": "stdout",
     "output_type": "stream",
     "text": [
      "IMDB reviews: train = 12500 pos / 12500 neg, test = 12500 pos / 12500 neg\n"
     ]
    }
   ],
   "source": [
    "data, labels = read_imdb_data()\n",
    "print(\"IMDB reviews: train = {} pos / {} neg, test = {} pos / {} neg\".format(\n",
    "            len(data['train']['pos']), len(data['train']['neg']),\n",
    "            len(data['test']['pos']), len(data['test']['neg'])))"
   ]
  },
  {
   "cell_type": "markdown",
   "metadata": {},
   "source": [
    "Now that we've read the raw training and testing data from the downloaded dataset, we will combine the positive and negative reviews and shuffle the resulting records."
   ]
  },
  {
   "cell_type": "code",
   "execution_count": 4,
   "metadata": {},
   "outputs": [],
   "source": [
    "from sklearn.utils import shuffle\n",
    "\n",
    "def prepare_imdb_data(data, labels):\n",
    "    \"\"\"Prepare training and test sets from IMDb movie reviews.\"\"\"\n",
    "    \n",
    "    #Combine positive and negative reviews and labels\n",
    "    data_train = data['train']['pos'] + data['train']['neg']\n",
    "    data_test = data['test']['pos'] + data['test']['neg']\n",
    "    labels_train = labels['train']['pos'] + labels['train']['neg']\n",
    "    labels_test = labels['test']['pos'] + labels['test']['neg']\n",
    "    \n",
    "    #Shuffle reviews and corresponding labels within training and test sets\n",
    "    data_train, labels_train = shuffle(data_train, labels_train)\n",
    "    data_test, labels_test = shuffle(data_test, labels_test)\n",
    "    \n",
    "    # Return a unified training data, test data, training labels, test labets\n",
    "    return data_train, data_test, labels_train, labels_test"
   ]
  },
  {
   "cell_type": "code",
   "execution_count": 5,
   "metadata": {},
   "outputs": [
    {
     "name": "stdout",
     "output_type": "stream",
     "text": [
      "IMDb reviews (combined): train = 25000, test = 25000\n"
     ]
    }
   ],
   "source": [
    "train_X, test_X, train_y, test_y = prepare_imdb_data(data, labels)\n",
    "print(\"IMDb reviews (combined): train = {}, test = {}\".format(len(train_X), len(test_X)))"
   ]
  },
  {
   "cell_type": "markdown",
   "metadata": {},
   "source": [
    "Now that we have our training and testing sets unified and prepared, we should do a quick check and see an example of the data our model will be trained on. This is generally a good idea as it allows you to see how each of the further processing steps affects the reviews and it also ensures that the data has been loaded correctly."
   ]
  },
  {
   "cell_type": "code",
   "execution_count": 6,
   "metadata": {},
   "outputs": [
    {
     "name": "stdout",
     "output_type": "stream",
     "text": [
      "We purchased this series on DVD because of all of the glowing reviews we had seen here. I gave it three stars because there can be little doubt that sometimes the acting, directing and writing are brilliant. In fact they are so brilliant we did not see the propaganda that was being transmitted so smoothly on the series. If one watches it with discernment, one will see the entire litany of the radical right wing beliefs being promulgated by the Fox (Faux) News Network. To avoid giving away any spoilers I will refrain from pointing out all of the dozens of specific instances. A brief look at the plots found here on IMDb will disclose that everything from torture to gun control to the right of a network to provide \"Infomercials\" and call them news is justified with cute plot twists and impassioned speeches given by some of the best actors in the world. We watched many shows and finally gave up in disgust when they justified torture using Attorney General Gonzales as a shining example of why all kinds of torture should be used in the name of protecting all of us. The series also manages to demean male and female gays in subtle ways by using them as plot devices depicting evil people. All in all the complete litany of the radical religious right wing.<br /><br />No doubt the popularity of this program will be used by future historians as proof that America lost its way in the early part of the this century. As a student of history myself I would characterize this program as being in a league with the propaganda produced by Goebbels for Hitler and some of the propaganda produced by Hollywood for the American audience during WWII.<br /><br />So if you want to use this as a teaching tool to help your students understand how subtle propaganda can be then by all means do so. Just be sure to purchase an inexpensive used copy so you can avoid enriching the ultra right wingers at Faux Network who produced this travesty.\n",
      "1940\n",
      "0\n"
     ]
    }
   ],
   "source": [
    "print(train_X[100])\n",
    "print(len(train_X[100]))\n",
    "print(train_y[100])"
   ]
  },
  {
   "cell_type": "markdown",
   "metadata": {},
   "source": [
    "The first step in processing the reviews is to make sure that any html tags that appear should be removed. In addition we wish to tokenize our input, that way words such as *entertained* and *entertaining* are considered the same with regard to sentiment analysis."
   ]
  },
  {
   "cell_type": "code",
   "execution_count": 7,
   "metadata": {},
   "outputs": [],
   "source": [
    "import nltk\n",
    "from nltk.corpus import stopwords\n",
    "from nltk.stem.porter import *\n",
    "\n",
    "import re\n",
    "from bs4 import BeautifulSoup\n",
    "\n",
    "def review_to_words(review):\n",
    "    nltk.download(\"stopwords\", quiet=True)\n",
    "    stemmer = PorterStemmer()\n",
    "    \n",
    "    text = BeautifulSoup(review, \"html.parser\").get_text() # Remove HTML tags\n",
    "    text = re.sub(r\"[^a-zA-Z0-9]\", \" \", text.lower()) # Convert to lower case\n",
    "    words = text.split() # Split string into words\n",
    "    words = [w for w in words if w not in stopwords.words(\"english\")] # Remove stopwords\n",
    "    words = [PorterStemmer().stem(w) for w in words] # stem\n",
    "    \n",
    "    return words"
   ]
  },
  {
   "cell_type": "markdown",
   "metadata": {},
   "source": [
    "The `review_to_words` method defined above uses `BeautifulSoup` to remove any html tags that appear and uses the `nltk` package to tokenize the reviews. As a check to ensure we know how everything is working, try applying `review_to_words` to one of the reviews in the training set."
   ]
  },
  {
   "cell_type": "code",
   "execution_count": 8,
   "metadata": {},
   "outputs": [
    {
     "data": {
      "text/plain": [
       "['purchas',\n",
       " 'seri',\n",
       " 'dvd',\n",
       " 'glow',\n",
       " 'review',\n",
       " 'seen',\n",
       " 'gave',\n",
       " 'three',\n",
       " 'star',\n",
       " 'littl',\n",
       " 'doubt',\n",
       " 'sometim',\n",
       " 'act',\n",
       " 'direct',\n",
       " 'write',\n",
       " 'brilliant',\n",
       " 'fact',\n",
       " 'brilliant',\n",
       " 'see',\n",
       " 'propaganda',\n",
       " 'transmit',\n",
       " 'smoothli',\n",
       " 'seri',\n",
       " 'one',\n",
       " 'watch',\n",
       " 'discern',\n",
       " 'one',\n",
       " 'see',\n",
       " 'entir',\n",
       " 'litani',\n",
       " 'radic',\n",
       " 'right',\n",
       " 'wing',\n",
       " 'belief',\n",
       " 'promulg',\n",
       " 'fox',\n",
       " 'faux',\n",
       " 'news',\n",
       " 'network',\n",
       " 'avoid',\n",
       " 'give',\n",
       " 'away',\n",
       " 'spoiler',\n",
       " 'refrain',\n",
       " 'point',\n",
       " 'dozen',\n",
       " 'specif',\n",
       " 'instanc',\n",
       " 'brief',\n",
       " 'look',\n",
       " 'plot',\n",
       " 'found',\n",
       " 'imdb',\n",
       " 'disclos',\n",
       " 'everyth',\n",
       " 'tortur',\n",
       " 'gun',\n",
       " 'control',\n",
       " 'right',\n",
       " 'network',\n",
       " 'provid',\n",
       " 'infomerci',\n",
       " 'call',\n",
       " 'news',\n",
       " 'justifi',\n",
       " 'cute',\n",
       " 'plot',\n",
       " 'twist',\n",
       " 'impass',\n",
       " 'speech',\n",
       " 'given',\n",
       " 'best',\n",
       " 'actor',\n",
       " 'world',\n",
       " 'watch',\n",
       " 'mani',\n",
       " 'show',\n",
       " 'final',\n",
       " 'gave',\n",
       " 'disgust',\n",
       " 'justifi',\n",
       " 'tortur',\n",
       " 'use',\n",
       " 'attorney',\n",
       " 'gener',\n",
       " 'gonzal',\n",
       " 'shine',\n",
       " 'exampl',\n",
       " 'kind',\n",
       " 'tortur',\n",
       " 'use',\n",
       " 'name',\n",
       " 'protect',\n",
       " 'us',\n",
       " 'seri',\n",
       " 'also',\n",
       " 'manag',\n",
       " 'demean',\n",
       " 'male',\n",
       " 'femal',\n",
       " 'gay',\n",
       " 'subtl',\n",
       " 'way',\n",
       " 'use',\n",
       " 'plot',\n",
       " 'devic',\n",
       " 'depict',\n",
       " 'evil',\n",
       " 'peopl',\n",
       " 'complet',\n",
       " 'litani',\n",
       " 'radic',\n",
       " 'religi',\n",
       " 'right',\n",
       " 'wing',\n",
       " 'doubt',\n",
       " 'popular',\n",
       " 'program',\n",
       " 'use',\n",
       " 'futur',\n",
       " 'historian',\n",
       " 'proof',\n",
       " 'america',\n",
       " 'lost',\n",
       " 'way',\n",
       " 'earli',\n",
       " 'part',\n",
       " 'centuri',\n",
       " 'student',\n",
       " 'histori',\n",
       " 'would',\n",
       " 'character',\n",
       " 'program',\n",
       " 'leagu',\n",
       " 'propaganda',\n",
       " 'produc',\n",
       " 'goebbel',\n",
       " 'hitler',\n",
       " 'propaganda',\n",
       " 'produc',\n",
       " 'hollywood',\n",
       " 'american',\n",
       " 'audienc',\n",
       " 'wwii',\n",
       " 'want',\n",
       " 'use',\n",
       " 'teach',\n",
       " 'tool',\n",
       " 'help',\n",
       " 'student',\n",
       " 'understand',\n",
       " 'subtl',\n",
       " 'propaganda',\n",
       " 'mean',\n",
       " 'sure',\n",
       " 'purchas',\n",
       " 'inexpens',\n",
       " 'use',\n",
       " 'copi',\n",
       " 'avoid',\n",
       " 'enrich',\n",
       " 'ultra',\n",
       " 'right',\n",
       " 'winger',\n",
       " 'faux',\n",
       " 'network',\n",
       " 'produc',\n",
       " 'travesti']"
      ]
     },
     "execution_count": 8,
     "metadata": {},
     "output_type": "execute_result"
    }
   ],
   "source": [
    "# TODO: Apply review_to_words to a review (train_X[100] or any other review)\n",
    "review_to_words(train_X[100])"
   ]
  },
  {
   "cell_type": "markdown",
   "metadata": {},
   "source": [
    "**Question:** Above we mentioned that `review_to_words` method removes html formatting and allows us to tokenize the words found in a review, for example, converting *entertained* and *entertaining* into *entertain* so that they are treated as though they are the same word. What else, if anything, does this method do to the input?"
   ]
  },
  {
   "cell_type": "markdown",
   "metadata": {},
   "source": [
    "**Answer:** Beside removing HTML formatting and word tokenization (stemming), it removes punctuation marks, converts all letters to lowercase and removes English stopwords (e.g. and, the, a, etc.)"
   ]
  },
  {
   "cell_type": "markdown",
   "metadata": {},
   "source": [
    "The method below applies the `review_to_words` method to each of the reviews in the training and testing datasets. In addition it caches the results. This is because performing this processing step can take a long time. This way if you are unable to complete the notebook in the current session, you can come back without needing to process the data a second time."
   ]
  },
  {
   "cell_type": "code",
   "execution_count": 9,
   "metadata": {},
   "outputs": [],
   "source": [
    "import pickle\n",
    "\n",
    "cache_dir = os.path.join(\"../cache\", \"sentiment_analysis\")  # where to store cache files\n",
    "os.makedirs(cache_dir, exist_ok=True)  # ensure cache directory exists\n",
    "\n",
    "def preprocess_data(data_train, data_test, labels_train, labels_test,\n",
    "                    cache_dir=cache_dir, cache_file=\"preprocessed_data.pkl\"):\n",
    "    \"\"\"Convert each review to words; read from cache if available.\"\"\"\n",
    "\n",
    "    # If cache_file is not None, try to read from it first\n",
    "    cache_data = None\n",
    "    if cache_file is not None:\n",
    "        try:\n",
    "            with open(os.path.join(cache_dir, cache_file), \"rb\") as f:\n",
    "                cache_data = pickle.load(f)\n",
    "            print(\"Read preprocessed data from cache file:\", cache_file)\n",
    "        except:\n",
    "            pass  # unable to read from cache, but that's okay\n",
    "    \n",
    "    # If cache is missing, then do the heavy lifting\n",
    "    if cache_data is None:\n",
    "        # Preprocess training and test data to obtain words for each review\n",
    "        #words_train = list(map(review_to_words, data_train))\n",
    "        #words_test = list(map(review_to_words, data_test))\n",
    "        words_train = [review_to_words(review) for review in data_train]\n",
    "        words_test = [review_to_words(review) for review in data_test]\n",
    "        \n",
    "        # Write to cache file for future runs\n",
    "        if cache_file is not None:\n",
    "            cache_data = dict(words_train=words_train, words_test=words_test,\n",
    "                              labels_train=labels_train, labels_test=labels_test)\n",
    "            with open(os.path.join(cache_dir, cache_file), \"wb\") as f:\n",
    "                pickle.dump(cache_data, f)\n",
    "            print(\"Wrote preprocessed data to cache file:\", cache_file)\n",
    "    else:\n",
    "        # Unpack data loaded from cache file\n",
    "        words_train, words_test, labels_train, labels_test = (cache_data['words_train'],\n",
    "                cache_data['words_test'], cache_data['labels_train'], cache_data['labels_test'])\n",
    "    \n",
    "    return words_train, words_test, labels_train, labels_test"
   ]
  },
  {
   "cell_type": "code",
   "execution_count": 10,
   "metadata": {},
   "outputs": [
    {
     "name": "stdout",
     "output_type": "stream",
     "text": [
      "Read preprocessed data from cache file: preprocessed_data.pkl\n"
     ]
    }
   ],
   "source": [
    "# Preprocess data\n",
    "train_X, test_X, train_y, test_y = preprocess_data(train_X, test_X, train_y, test_y)"
   ]
  },
  {
   "cell_type": "markdown",
   "metadata": {},
   "source": [
    "## Transform the data\n",
    "\n",
    "In the XGBoost notebook we transformed the data from its word representation to a bag-of-words feature representation. For the model we are going to construct in this notebook we will construct a feature representation which is very similar. To start, we will represent each word as an integer. Of course, some of the words that appear in the reviews occur very infrequently and so likely don't contain much information for the purposes of sentiment analysis. The way we will deal with this problem is that we will fix the size of our working vocabulary and we will only include the words that appear most frequently. We will then combine all of the infrequent words into a single category and, in our case, we will label it as `1`.\n",
    "\n",
    "Since we will be using a recurrent neural network, it will be convenient if the length of each review is the same. To do this, we will fix a size for our reviews and then pad short reviews with the category 'no word' (which we will label `0`) and truncate long reviews."
   ]
  },
  {
   "cell_type": "markdown",
   "metadata": {},
   "source": [
    "### (TODO) Create a word dictionary\n",
    "\n",
    "To begin with, we need to construct a way to map words that appear in the reviews to integers. Here we fix the size of our vocabulary (including the 'no word' and 'infrequent' categories) to be `5000` but you may wish to change this to see how it affects the model.\n",
    "\n",
    "> **TODO:** Complete the implementation for the `build_dict()` method below. Note that even though the vocab_size is set to `5000`, we only want to construct a mapping for the most frequently appearing `4998` words. This is because we want to reserve the special labels `0` for 'no word' and `1` for 'infrequent word'."
   ]
  },
  {
   "cell_type": "code",
   "execution_count": 11,
   "metadata": {},
   "outputs": [],
   "source": [
    "import numpy as np\n",
    "from collections import Counter\n",
    "\n",
    "def build_dict(data, vocab_size = 5000):\n",
    "    \"\"\"Construct and return a dictionary mapping each of the most frequently appearing words to a unique integer.\"\"\"\n",
    "    \n",
    "    # TODO: Determine how often each word appears in `data`. Note that `data` is a list of sentences and that a\n",
    "    #       sentence is a list of words.\n",
    "    words = [j for i in data for j in i]\n",
    "    word_count = {} # A dict storing the words that appear in the reviews along with how often they occur\n",
    "    word_count = Counter(words)\n",
    "    \n",
    "    # TODO: Sort the words found in `data` so that sorted_words[0] is the most frequently appearing word and\n",
    "    #       sorted_words[-1] is the least frequently appearing word.\n",
    "    \n",
    "    sorted_words = sorted(word_count, key=word_count.get, reverse=True)\n",
    "    word_dict = {} # This is what we are building, a dictionary that translates words into integers\n",
    "    for idx, word in enumerate(sorted_words[:vocab_size - 2]): # The -2 is so that we save room for the 'no word'\n",
    "        word_dict[word] = idx + 2                              # 'infrequent' labels\n",
    "        \n",
    "    return word_dict"
   ]
  },
  {
   "cell_type": "code",
   "execution_count": 12,
   "metadata": {},
   "outputs": [],
   "source": [
    "word_dict = build_dict(train_X)"
   ]
  },
  {
   "cell_type": "markdown",
   "metadata": {},
   "source": [
    "**Question:** What are the five most frequently appearing (tokenized) words in the training set? Does it makes sense that these words appear frequently in the training set?"
   ]
  },
  {
   "cell_type": "markdown",
   "metadata": {},
   "source": [
    "**Answer:** The five most frequently appearing words in the training set are: 'movi', 'film', 'one', 'like' and 'time'. Since the reviews are all about movies, this makes total sense"
   ]
  },
  {
   "cell_type": "code",
   "execution_count": 13,
   "metadata": {},
   "outputs": [
    {
     "name": "stdout",
     "output_type": "stream",
     "text": [
      "{'movi': 2, 'film': 3, 'one': 4, 'like': 5, 'time': 6, 'good': 7, 'make': 8, 'charact': 9, 'get': 10, 'see': 11, 'watch': 12, 'stori': 13, 'even': 14, 'would': 15, 'realli': 16, 'well': 17, 'scene': 18, 'look': 19, 'show': 20, 'much': 21, 'end': 22, 'peopl': 23, 'bad': 24, 'go': 25, 'great': 26, 'also': 27, 'first': 28, 'love': 29, 'think': 30, 'way': 31, 'act': 32, 'play': 33, 'made': 34, 'thing': 35, 'could': 36, 'know': 37, 'say': 38, 'seem': 39, 'work': 40, 'plot': 41, 'two': 42, 'actor': 43, 'year': 44, 'come': 45, 'mani': 46, 'seen': 47, 'take': 48, 'life': 49, 'want': 50, 'never': 51, 'littl': 52, 'best': 53, 'tri': 54, 'man': 55, 'ever': 56, 'give': 57, 'better': 58, 'still': 59, 'perform': 60, 'find': 61, 'feel': 62, 'part': 63, 'back': 64, 'use': 65, 'someth': 66, 'director': 67, 'actual': 68, 'interest': 69, 'lot': 70, 'real': 71, 'old': 72, 'cast': 73, 'though': 74, 'live': 75, 'star': 76, 'enjoy': 77, 'guy': 78, 'anoth': 79, 'new': 80, 'role': 81, 'noth': 82, '10': 83, 'funni': 84, 'music': 85, 'point': 86, 'start': 87, 'set': 88, 'girl': 89, 'origin': 90, 'day': 91, 'world': 92, 'everi': 93, 'believ': 94, 'turn': 95, 'quit': 96, 'us': 97, 'direct': 98, 'thought': 99, 'fact': 100, 'minut': 101, 'horror': 102, 'kill': 103, 'action': 104, 'comedi': 105, 'pretti': 106, 'young': 107, 'wonder': 108, 'happen': 109, 'around': 110, 'got': 111, 'effect': 112, 'right': 113, 'long': 114, 'howev': 115, 'big': 116, 'line': 117, 'famili': 118, 'enough': 119, 'seri': 120, 'may': 121, 'need': 122, 'fan': 123, 'bit': 124, 'script': 125, 'beauti': 126, 'person': 127, 'becom': 128, 'without': 129, 'must': 130, 'alway': 131, 'friend': 132, 'tell': 133, 'reason': 134, 'saw': 135, 'last': 136, 'final': 137, 'kid': 138, 'almost': 139, 'put': 140, 'least': 141, 'sure': 142, 'done': 143, 'whole': 144, 'place': 145, 'complet': 146, 'kind': 147, 'differ': 148, 'expect': 149, 'shot': 150, 'far': 151, 'mean': 152, 'anyth': 153, 'book': 154, 'laugh': 155, 'might': 156, 'name': 157, 'sinc': 158, 'begin': 159, '2': 160, 'probabl': 161, 'woman': 162, 'help': 163, 'entertain': 164, 'let': 165, 'screen': 166, 'call': 167, 'tv': 168, 'moment': 169, 'away': 170, 'read': 171, 'yet': 172, 'rather': 173, 'worst': 174, 'run': 175, 'fun': 176, 'lead': 177, 'hard': 178, 'audienc': 179, 'idea': 180, 'anyon': 181, 'episod': 182, 'american': 183, 'found': 184, 'appear': 185, 'bore': 186, 'especi': 187, 'although': 188, 'hope': 189, 'keep': 190, 'cours': 191, 'anim': 192, 'job': 193, 'goe': 194, 'move': 195, 'sens': 196, 'version': 197, 'dvd': 198, 'war': 199, 'money': 200, 'someon': 201, 'mind': 202, 'mayb': 203, 'problem': 204, 'true': 205, 'hous': 206, 'everyth': 207, 'nice': 208, 'second': 209, 'rate': 210, 'three': 211, 'night': 212, 'follow': 213, 'face': 214, 'recommend': 215, 'product': 216, 'main': 217, 'worth': 218, 'leav': 219, 'human': 220, 'special': 221, 'excel': 222, 'togeth': 223, 'wast': 224, 'everyon': 225, 'sound': 226, 'john': 227, 'hand': 228, '1': 229, 'father': 230, 'later': 231, 'eye': 232, 'said': 233, 'view': 234, 'instead': 235, 'review': 236, 'boy': 237, 'high': 238, 'hour': 239, 'miss': 240, 'talk': 241, 'classic': 242, 'wife': 243, 'understand': 244, 'left': 245, 'care': 246, 'black': 247, 'death': 248, 'open': 249, 'murder': 250, 'write': 251, 'half': 252, 'head': 253, 'rememb': 254, 'chang': 255, 'viewer': 256, 'fight': 257, 'gener': 258, 'surpris': 259, 'includ': 260, 'short': 261, 'die': 262, 'fall': 263, 'less': 264, 'els': 265, 'entir': 266, 'piec': 267, 'involv': 268, 'pictur': 269, 'simpli': 270, 'top': 271, 'power': 272, 'home': 273, 'total': 274, 'usual': 275, 'budget': 276, 'attempt': 277, 'suppos': 278, 'releas': 279, 'hollywood': 280, 'terribl': 281, 'song': 282, 'men': 283, 'possibl': 284, 'featur': 285, 'portray': 286, 'disappoint': 287, 'poor': 288, '3': 289, 'coupl': 290, 'stupid': 291, 'camera': 292, 'dead': 293, 'wrong': 294, 'produc': 295, 'low': 296, 'either': 297, 'video': 298, 'aw': 299, 'definit': 300, 'except': 301, 'rest': 302, 'given': 303, 'absolut': 304, 'women': 305, 'lack': 306, 'word': 307, 'writer': 308, 'titl': 309, 'talent': 310, 'decid': 311, 'full': 312, 'perfect': 313, 'along': 314, 'style': 315, 'close': 316, 'truli': 317, 'school': 318, 'emot': 319, 'save': 320, 'sex': 321, 'age': 322, 'next': 323, 'bring': 324, 'mr': 325, 'case': 326, 'killer': 327, 'heart': 328, 'comment': 329, 'sort': 330, 'creat': 331, 'perhap': 332, 'came': 333, 'brother': 334, 'sever': 335, 'joke': 336, 'art': 337, 'dialogu': 338, 'game': 339, 'small': 340, 'base': 341, 'flick': 342, 'written': 343, 'sequenc': 344, 'meet': 345, 'earli': 346, 'often': 347, 'other': 348, 'mother': 349, 'develop': 350, 'humor': 351, 'actress': 352, 'consid': 353, 'dark': 354, 'guess': 355, 'amaz': 356, 'unfortun': 357, 'lost': 358, 'light': 359, 'exampl': 360, 'cinema': 361, 'drama': 362, 'ye': 363, 'white': 364, 'experi': 365, 'imagin': 366, 'mention': 367, 'stop': 368, 'natur': 369, 'forc': 370, 'manag': 371, 'felt': 372, 'cut': 373, 'present': 374, 'children': 375, 'fail': 376, 'son': 377, 'qualiti': 378, 'support': 379, 'car': 380, 'ask': 381, 'hit': 382, 'side': 383, 'voic': 384, 'extrem': 385, 'impress': 386, 'wors': 387, 'evil': 388, 'went': 389, 'stand': 390, 'certainli': 391, 'basic': 392, 'oh': 393, 'overal': 394, 'favorit': 395, 'horribl': 396, 'mysteri': 397, 'number': 398, 'type': 399, 'danc': 400, 'wait': 401, 'hero': 402, 'alreadi': 403, '5': 404, 'learn': 405, 'matter': 406, '4': 407, 'michael': 408, 'genr': 409, 'fine': 410, 'despit': 411, 'throughout': 412, 'walk': 413, 'success': 414, 'histori': 415, 'question': 416, 'zombi': 417, 'town': 418, 'realiz': 419, 'relationship': 420, 'child': 421, 'past': 422, 'daughter': 423, 'late': 424, 'b': 425, 'wish': 426, 'credit': 427, 'hate': 428, 'event': 429, 'theme': 430, 'touch': 431, 'citi': 432, 'today': 433, 'sometim': 434, 'behind': 435, 'god': 436, 'twist': 437, 'sit': 438, 'deal': 439, 'annoy': 440, 'stay': 441, 'abl': 442, 'rent': 443, 'pleas': 444, 'edit': 445, 'blood': 446, 'deserv': 447, 'comic': 448, 'anyway': 449, 'appar': 450, 'soon': 451, 'gave': 452, 'etc': 453, 'level': 454, 'slow': 455, 'chanc': 456, 'score': 457, 'bodi': 458, 'brilliant': 459, 'incred': 460, 'figur': 461, 'situat': 462, 'self': 463, 'major': 464, 'stuff': 465, 'decent': 466, 'element': 467, 'dream': 468, 'return': 469, 'obvious': 470, 'continu': 471, 'order': 472, 'pace': 473, 'ridicul': 474, 'happi': 475, 'group': 476, 'add': 477, 'highli': 478, 'thank': 479, 'ladi': 480, 'novel': 481, 'pain': 482, 'speak': 483, 'career': 484, 'shoot': 485, 'strang': 486, 'heard': 487, 'sad': 488, 'polic': 489, 'husband': 490, 'import': 491, 'break': 492, 'took': 493, 'cannot': 494, 'strong': 495, 'robert': 496, 'predict': 497, 'violenc': 498, 'hilari': 499, 'recent': 500, 'countri': 501, 'known': 502, 'particularli': 503, 'pick': 504, 'documentari': 505, 'season': 506, 'critic': 507, 'jame': 508, 'compar': 509, 'alon': 510, 'obviou': 511, 'told': 512, 'state': 513, 'visual': 514, 'rock': 515, 'offer': 516, 'exist': 517, 'theater': 518, 'opinion': 519, 'gore': 520, 'crap': 521, 'hold': 522, 'result': 523, 'room': 524, 'realiti': 525, 'hear': 526, 'effort': 527, 'clich': 528, 'thriller': 529, 'caus': 530, 'sequel': 531, 'explain': 532, 'serious': 533, 'king': 534, 'local': 535, 'ago': 536, 'hell': 537, 'none': 538, 'note': 539, 'allow': 540, 'david': 541, 'sister': 542, 'simpl': 543, 'femal': 544, 'deliv': 545, 'ok': 546, 'class': 547, 'convinc': 548, 'check': 549, 'suspens': 550, 'win': 551, 'buy': 552, 'oscar': 553, 'huge': 554, 'valu': 555, 'sexual': 556, 'scari': 557, 'cool': 558, 'similar': 559, 'excit': 560, 'provid': 561, 'apart': 562, 'exactli': 563, 'shown': 564, 'avoid': 565, 'seriou': 566, 'english': 567, 'taken': 568, 'whose': 569, 'cinematographi': 570, 'shock': 571, 'polit': 572, 'spoiler': 573, 'offic': 574, 'across': 575, 'middl': 576, 'street': 577, 'pass': 578, 'messag': 579, 'somewhat': 580, 'silli': 581, 'charm': 582, 'modern': 583, 'filmmak': 584, 'confus': 585, 'form': 586, 'tale': 587, 'singl': 588, 'jack': 589, 'mostli': 590, 'attent': 591, 'william': 592, 'carri': 593, 'sing': 594, 'subject': 595, 'five': 596, 'richard': 597, 'prove': 598, 'stage': 599, 'team': 600, 'unlik': 601, 'cop': 602, 'georg': 603, 'monster': 604, 'televis': 605, 'earth': 606, 'cover': 607, 'villain': 608, 'pay': 609, 'marri': 610, 'toward': 611, 'build': 612, 'pull': 613, 'parent': 614, 'due': 615, 'fill': 616, 'respect': 617, 'four': 618, 'dialog': 619, 'remind': 620, 'futur': 621, 'weak': 622, 'typic': 623, '7': 624, 'cheap': 625, 'intellig': 626, 'atmospher': 627, 'british': 628, 'clearli': 629, '80': 630, 'non': 631, 'dog': 632, 'paul': 633, 'fast': 634, '8': 635, 'artist': 636, 'knew': 637, 'crime': 638, 'easili': 639, 'escap': 640, 'doubt': 641, 'adult': 642, 'detail': 643, 'date': 644, 'member': 645, 'fire': 646, 'romant': 647, 'drive': 648, 'gun': 649, 'straight': 650, 'fit': 651, 'beyond': 652, 'attack': 653, 'imag': 654, 'upon': 655, 'posit': 656, 'whether': 657, 'peter': 658, 'fantast': 659, 'aspect': 660, 'captur': 661, 'appreci': 662, 'ten': 663, 'plan': 664, 'discov': 665, 'remain': 666, 'near': 667, 'period': 668, 'realist': 669, 'air': 670, 'mark': 671, 'red': 672, 'dull': 673, 'adapt': 674, 'within': 675, 'lose': 676, 'spend': 677, 'color': 678, 'materi': 679, 'chase': 680, 'mari': 681, 'storylin': 682, 'forget': 683, 'bunch': 684, 'clear': 685, 'lee': 686, 'victim': 687, 'nearli': 688, 'box': 689, 'york': 690, 'inspir': 691, 'match': 692, 'mess': 693, 'finish': 694, 'standard': 695, 'easi': 696, 'truth': 697, 'suffer': 698, 'busi': 699, 'dramat': 700, 'bill': 701, 'space': 702, 'western': 703, 'e': 704, 'list': 705, 'battl': 706, 'notic': 707, 'de': 708, 'french': 709, 'ad': 710, '9': 711, 'tom': 712, 'larg': 713, 'among': 714, 'eventu': 715, 'accept': 716, 'train': 717, 'agre': 718, 'soundtrack': 719, 'spirit': 720, 'third': 721, 'teenag': 722, 'soldier': 723, 'adventur': 724, 'drug': 725, 'suggest': 726, 'sorri': 727, 'famou': 728, 'normal': 729, 'cri': 730, 'babi': 731, 'ultim': 732, 'troubl': 733, 'contain': 734, 'certain': 735, 'cultur': 736, 'romanc': 737, 'rare': 738, 'lame': 739, 'somehow': 740, 'mix': 741, 'disney': 742, 'gone': 743, 'cartoon': 744, 'student': 745, 'reveal': 746, 'fear': 747, 'kept': 748, 'suck': 749, 'attract': 750, 'appeal': 751, 'premis': 752, 'greatest': 753, 'secret': 754, 'design': 755, 'shame': 756, 'throw': 757, 'copi': 758, 'scare': 759, 'wit': 760, 'admit': 761, 'america': 762, 'relat': 763, 'brought': 764, 'particular': 765, 'screenplay': 766, 'whatev': 767, 'pure': 768, '70': 769, 'averag': 770, 'harri': 771, 'master': 772, 'describ': 773, 'treat': 774, 'male': 775, '20': 776, 'fantasi': 777, 'issu': 778, 'warn': 779, 'inde': 780, 'forward': 781, 'background': 782, 'project': 783, 'free': 784, 'memor': 785, 'japanes': 786, 'poorli': 787, 'award': 788, 'locat': 789, 'amus': 790, 'potenti': 791, 'struggl': 792, 'magic': 793, 'weird': 794, 'societi': 795, 'okay': 796, 'doctor': 797, 'accent': 798, 'imdb': 799, 'hot': 800, 'water': 801, 'dr': 802, 'alien': 803, 'express': 804, '30': 805, 'odd': 806, 'crazi': 807, 'choic': 808, 'fiction': 809, 'studio': 810, 'becam': 811, 'control': 812, 'masterpiec': 813, 'difficult': 814, 'fli': 815, 'joe': 816, 'scream': 817, 'costum': 818, 'lover': 819, 'uniqu': 820, 'refer': 821, 'remak': 822, 'girlfriend': 823, 'vampir': 824, 'prison': 825, 'execut': 826, 'wear': 827, 'jump': 828, 'wood': 829, 'unless': 830, 'creepi': 831, 'cheesi': 832, 'superb': 833, 'otherwis': 834, 'parti': 835, 'ghost': 836, 'roll': 837, 'public': 838, 'mad': 839, 'depict': 840, 'earlier': 841, 'badli': 842, 'moral': 843, 'week': 844, 'jane': 845, 'fi': 846, 'dumb': 847, 'grow': 848, 'flaw': 849, 'sci': 850, 'deep': 851, 'maker': 852, 'cat': 853, 'footag': 854, 'connect': 855, 'older': 856, 'plenti': 857, 'bother': 858, 'outsid': 859, 'stick': 860, 'gay': 861, 'catch': 862, 'co': 863, 'plu': 864, 'popular': 865, 'equal': 866, 'social': 867, 'disturb': 868, 'quickli': 869, 'perfectli': 870, 'dress': 871, '90': 872, 'era': 873, 'mistak': 874, 'lie': 875, 'previou': 876, 'ride': 877, 'combin': 878, 'concept': 879, 'band': 880, 'surviv': 881, 'answer': 882, 'rich': 883, 'front': 884, 'christma': 885, 'sweet': 886, 'insid': 887, 'bare': 888, 'eat': 889, 'concern': 890, 'ben': 891, 'beat': 892, 'listen': 893, 'c': 894, 'serv': 895, 'term': 896, 'la': 897, 'german': 898, 'meant': 899, 'hardli': 900, 'stereotyp': 901, 'law': 902, 'innoc': 903, 'desper': 904, 'promis': 905, 'memori': 906, 'intent': 907, 'cute': 908, 'variou': 909, 'inform': 910, 'steal': 911, 'brain': 912, 'post': 913, 'tone': 914, 'island': 915, 'amount': 916, 'nuditi': 917, 'compani': 918, 'track': 919, 'claim': 920, 'store': 921, 'flat': 922, 'hair': 923, '50': 924, 'univers': 925, 'land': 926, 'kick': 927, 'fairli': 928, 'danger': 929, 'scott': 930, 'player': 931, 'plain': 932, 'step': 933, 'crew': 934, 'toni': 935, 'share': 936, 'tast': 937, 'centuri': 938, 'engag': 939, 'achiev': 940, 'cold': 941, 'travel': 942, 'record': 943, 'suit': 944, 'rip': 945, 'manner': 946, 'sadli': 947, 'wrote': 948, 'tension': 949, 'spot': 950, 'fascin': 951, 'intens': 952, 'familiar': 953, 'remark': 954, 'depth': 955, 'burn': 956, 'histor': 957, 'destroy': 958, 'sleep': 959, 'purpos': 960, 'languag': 961, 'ignor': 962, 'ruin': 963, 'delight': 964, 'italian': 965, 'unbeliev': 966, 'collect': 967, 'soul': 968, 'abil': 969, 'clever': 970, 'detect': 971, 'violent': 972, 'rape': 973, 'reach': 974, 'door': 975, 'scienc': 976, 'trash': 977, 'liter': 978, 'caught': 979, 'commun': 980, 'reveng': 981, 'creatur': 982, 'trip': 983, 'approach': 984, 'fashion': 985, 'intrigu': 986, 'skill': 987, 'paint': 988, 'introduc': 989, 'complex': 990, 'channel': 991, 'camp': 992, 'christian': 993, 'hole': 994, 'extra': 995, 'mental': 996, 'ann': 997, 'limit': 998, 'immedi': 999, '6': 1000, 'comput': 1001, 'million': 1002, 'slightli': 1003, 'mere': 1004, 'conclus': 1005, 'slasher': 1006, 'imposs': 1007, 'suddenli': 1008, 'neither': 1009, 'teen': 1010, 'crimin': 1011, 'nation': 1012, 'physic': 1013, 'spent': 1014, 'respons': 1015, 'planet': 1016, 'fake': 1017, 'receiv': 1018, 'blue': 1019, 'sick': 1020, 'bizarr': 1021, 'embarrass': 1022, 'indian': 1023, 'ring': 1024, '15': 1025, 'pop': 1026, 'drop': 1027, 'drag': 1028, 'haunt': 1029, 'suspect': 1030, 'pointless': 1031, 'edg': 1032, 'search': 1033, 'handl': 1034, 'common': 1035, 'biggest': 1036, 'arriv': 1037, 'faith': 1038, 'hurt': 1039, 'technic': 1040, 'angel': 1041, 'genuin': 1042, 'dad': 1043, 'solid': 1044, 'f': 1045, 'awesom': 1046, 'focu': 1047, 'colleg': 1048, 'van': 1049, 'former': 1050, 'count': 1051, 'tear': 1052, 'heavi': 1053, 'wall': 1054, 'rais': 1055, 'visit': 1056, 'younger': 1057, 'laughabl': 1058, 'sign': 1059, 'excus': 1060, 'fair': 1061, 'cult': 1062, 'key': 1063, 'tough': 1064, 'motion': 1065, 'super': 1066, 'desir': 1067, 'addit': 1068, 'stun': 1069, 'exploit': 1070, 'cloth': 1071, 'smith': 1072, 'tortur': 1073, 'race': 1074, 'davi': 1075, 'cross': 1076, 'author': 1077, 'jim': 1078, 'minor': 1079, 'consist': 1080, 'compel': 1081, 'focus': 1082, 'chemistri': 1083, 'commit': 1084, 'pathet': 1085, 'park': 1086, 'obsess': 1087, 'tradit': 1088, 'frank': 1089, 'grade': 1090, 'asid': 1091, '60': 1092, 'brutal': 1093, 'steve': 1094, 'somewher': 1095, 'depress': 1096, 'rule': 1097, 'opportun': 1098, 'grant': 1099, 'u': 1100, 'explor': 1101, 'honest': 1102, 'besid': 1103, 'anti': 1104, 'dub': 1105, 'intend': 1106, 'trailer': 1107, 'bar': 1108, 'regard': 1109, 'west': 1110, 'longer': 1111, 'scientist': 1112, 'decad': 1113, 'judg': 1114, 'silent': 1115, 'armi': 1116, 'creativ': 1117, 'wild': 1118, 'g': 1119, 'south': 1120, 'stewart': 1121, 'draw': 1122, 'road': 1123, 'govern': 1124, 'ex': 1125, 'boss': 1126, 'practic': 1127, 'club': 1128, 'festiv': 1129, 'motiv': 1130, 'gang': 1131, 'surprisingli': 1132, 'redeem': 1133, 'green': 1134, 'page': 1135, 'london': 1136, 'machin': 1137, 'display': 1138, 'idiot': 1139, 'aliv': 1140, 'militari': 1141, 'thrill': 1142, 'repeat': 1143, 'nobodi': 1144, 'yeah': 1145, '100': 1146, 'folk': 1147, '40': 1148, 'garbag': 1149, 'journey': 1150, 'smile': 1151, 'ground': 1152, 'tire': 1153, 'mood': 1154, 'bought': 1155, 'cost': 1156, 'sam': 1157, 'stone': 1158, 'mouth': 1159, 'noir': 1160, 'terrif': 1161, 'agent': 1162, 'requir': 1163, 'utterli': 1164, 'sexi': 1165, 'honestli': 1166, 'area': 1167, 'report': 1168, 'geniu': 1169, 'enter': 1170, 'glad': 1171, 'humour': 1172, 'investig': 1173, 'serial': 1174, 'occasion': 1175, 'passion': 1176, 'narr': 1177, 'marriag': 1178, 'climax': 1179, 'studi': 1180, 'industri': 1181, 'ship': 1182, 'center': 1183, 'demon': 1184, 'charli': 1185, 'nowher': 1186, 'hors': 1187, 'bear': 1188, 'loos': 1189, 'wow': 1190, 'hang': 1191, 'graphic': 1192, 'admir': 1193, 'giant': 1194, 'send': 1195, 'damn': 1196, 'loud': 1197, 'profession': 1198, 'subtl': 1199, 'rel': 1200, 'nake': 1201, 'blow': 1202, 'bottom': 1203, 'insult': 1204, 'batman': 1205, 'kelli': 1206, 'r': 1207, 'doubl': 1208, 'boyfriend': 1209, 'initi': 1210, 'frame': 1211, 'gem': 1212, 'opera': 1213, 'affect': 1214, 'challeng': 1215, 'drawn': 1216, 'cinemat': 1217, 'church': 1218, 'evid': 1219, 'nightmar': 1220, 'j': 1221, 'seek': 1222, 'fulli': 1223, 'l': 1224, 'arm': 1225, 'conflict': 1226, 'essenti': 1227, 'wind': 1228, 'henri': 1229, 'christoph': 1230, 'grace': 1231, 'assum': 1232, 'narrat': 1233, 'witch': 1234, 'push': 1235, 'hunt': 1236, 'wise': 1237, 'chri': 1238, 'repres': 1239, 'month': 1240, 'nomin': 1241, 'avail': 1242, 'sceneri': 1243, 'affair': 1244, 'hide': 1245, 'smart': 1246, 'justic': 1247, 'thu': 1248, 'bond': 1249, 'interview': 1250, 'flashback': 1251, 'outstand': 1252, 'constantli': 1253, 'presenc': 1254, 'satisfi': 1255, 'central': 1256, 'bed': 1257, 'iron': 1258, 'sell': 1259, 'content': 1260, 'everybodi': 1261, 'gag': 1262, 'slowli': 1263, 'hotel': 1264, 'hire': 1265, 'system': 1266, 'adam': 1267, 'individu': 1268, 'charl': 1269, 'thrown': 1270, 'hey': 1271, 'allen': 1272, 'mediocr': 1273, 'jone': 1274, 'lesson': 1275, 'billi': 1276, 'ray': 1277, 'cameo': 1278, 'photographi': 1279, 'fellow': 1280, 'pari': 1281, 'strike': 1282, 'rise': 1283, 'absurd': 1284, 'brief': 1285, 'independ': 1286, 'neg': 1287, 'impact': 1288, 'phone': 1289, 'model': 1290, 'born': 1291, 'ill': 1292, 'spoil': 1293, 'angl': 1294, 'fresh': 1295, 'likabl': 1296, 'abus': 1297, 'discuss': 1298, 'hill': 1299, 'ahead': 1300, 'sight': 1301, 'photograph': 1302, 'sent': 1303, 'logic': 1304, 'occur': 1305, 'blame': 1306, 'shine': 1307, 'mainli': 1308, 'bruce': 1309, 'forev': 1310, 'commerci': 1311, 'skip': 1312, 'held': 1313, 'surround': 1314, 'segment': 1315, 'teacher': 1316, 'blond': 1317, 'zero': 1318, 'trap': 1319, 'satir': 1320, 'summer': 1321, 'resembl': 1322, 'queen': 1323, 'six': 1324, 'ball': 1325, 'fool': 1326, 'twice': 1327, 'sub': 1328, 'tragedi': 1329, 'reaction': 1330, 'pack': 1331, 'bomb': 1332, 'will': 1333, 'protagonist': 1334, 'hospit': 1335, 'sport': 1336, 'mile': 1337, 'drink': 1338, 'trust': 1339, 'vote': 1340, 'mom': 1341, 'jerri': 1342, 'encount': 1343, 'plane': 1344, 'program': 1345, 'current': 1346, 'station': 1347, 'al': 1348, 'celebr': 1349, 'martin': 1350, 'choos': 1351, 'join': 1352, 'favourit': 1353, 'lord': 1354, 'tragic': 1355, 'round': 1356, 'field': 1357, 'robot': 1358, 'vision': 1359, 'jean': 1360, 'tie': 1361, 'arthur': 1362, 'fortun': 1363, 'random': 1364, 'roger': 1365, 'dread': 1366, 'psycholog': 1367, 'intern': 1368, 'epic': 1369, 'nonsens': 1370, 'prefer': 1371, 'improv': 1372, 'formula': 1373, 'pleasur': 1374, 'legend': 1375, 'highlight': 1376, '11': 1377, 'tape': 1378, 'dollar': 1379, 'porn': 1380, 'wide': 1381, 'object': 1382, 'fox': 1383, 'thin': 1384, 'gorgeou': 1385, 'ugli': 1386, 'buddi': 1387, 'influenc': 1388, 'prepar': 1389, 'nasti': 1390, 'ii': 1391, 'progress': 1392, 'supposedli': 1393, 'reflect': 1394, 'warm': 1395, 'youth': 1396, 'worthi': 1397, 'unusu': 1398, 'length': 1399, 'latter': 1400, 'crash': 1401, 'superior': 1402, 'shop': 1403, 'seven': 1404, 'childhood': 1405, 'theatr': 1406, 'remot': 1407, 'funniest': 1408, 'disgust': 1409, 'pilot': 1410, 'paid': 1411, 'trick': 1412, 'fell': 1413, 'convers': 1414, 'castl': 1415, 'rob': 1416, 'establish': 1417, 'disast': 1418, 'gangster': 1419, 'suicid': 1420, 'disappear': 1421, 'heaven': 1422, 'ident': 1423, 'mine': 1424, 'forgotten': 1425, 'singer': 1426, 'decis': 1427, 'mask': 1428, 'tend': 1429, 'heroin': 1430, 'brian': 1431, 'partner': 1432, 'desert': 1433, 'alan': 1434, 'recogn': 1435, 'p': 1436, 'ms': 1437, 'thoroughli': 1438, 'stuck': 1439, 'sky': 1440, 'replac': 1441, 'accur': 1442, 'market': 1443, 'commentari': 1444, 'seemingli': 1445, 'andi': 1446, 'uncl': 1447, 'clue': 1448, 'eddi': 1449, 'danni': 1450, 'devil': 1451, 'jackson': 1452, 'that': 1453, 'pair': 1454, 'refus': 1455, 'therefor': 1456, 'ed': 1457, 'unit': 1458, 'accid': 1459, 'fault': 1460, 'river': 1461, 'fate': 1462, 'tune': 1463, 'afraid': 1464, 'russian': 1465, 'hidden': 1466, 'clean': 1467, 'stephen': 1468, 'captain': 1469, 'convey': 1470, 'irrit': 1471, 'test': 1472, 'instanc': 1473, 'readi': 1474, 'quick': 1475, 'european': 1476, 'insan': 1477, 'daniel': 1478, 'frustrat': 1479, '1950': 1480, 'food': 1481, 'rescu': 1482, 'chines': 1483, 'wed': 1484, 'dirti': 1485, 'angri': 1486, 'lock': 1487, 'joy': 1488, 'price': 1489, 'steven': 1490, 'bland': 1491, 'cage': 1492, 'anymor': 1493, 'rang': 1494, 'wooden': 1495, 'news': 1496, 'rush': 1497, 'jason': 1498, 'n': 1499, 'twenti': 1500, 'led': 1501, 'martial': 1502, 'board': 1503, '12': 1504, 'worri': 1505, 'transform': 1506, 'cgi': 1507, 'hunter': 1508, 'symbol': 1509, 'piti': 1510, 'onto': 1511, 'invent': 1512, 'x': 1513, 'sentiment': 1514, 'johnni': 1515, 'explan': 1516, 'process': 1517, 'attitud': 1518, 'awar': 1519, 'owner': 1520, 'aim': 1521, 'favor': 1522, 'energi': 1523, 'floor': 1524, 'target': 1525, 'necessari': 1526, 'religi': 1527, 'opposit': 1528, 'chick': 1529, 'insight': 1530, 'blind': 1531, 'window': 1532, 'movement': 1533, 'comparison': 1534, 'research': 1535, 'deepli': 1536, 'mountain': 1537, 'possess': 1538, 'grand': 1539, 'comed': 1540, 'whatsoev': 1541, 'rain': 1542, 'bank': 1543, 'mid': 1544, 'shadow': 1545, 'began': 1546, 'parodi': 1547, 'princ': 1548, 'weapon': 1549, 'credibl': 1550, 'taylor': 1551, 'friendship': 1552, 'pre': 1553, 'flesh': 1554, 'teach': 1555, 'dougla': 1556, 'bloodi': 1557, 'hint': 1558, 'protect': 1559, 'terror': 1560, 'marvel': 1561, 'leader': 1562, 'anybodi': 1563, 'superman': 1564, 'accord': 1565, 'load': 1566, 'watchabl': 1567, 'drunk': 1568, 'brown': 1569, 'freddi': 1570, 'hitler': 1571, 'tim': 1572, 'seat': 1573, 'jeff': 1574, 'appropri': 1575, 'villag': 1576, 'unknown': 1577, 'keaton': 1578, 'charg': 1579, 'knock': 1580, 'media': 1581, 'unnecessari': 1582, 'empti': 1583, 'england': 1584, 'enemi': 1585, 'strength': 1586, 'perspect': 1587, 'craft': 1588, 'utter': 1589, 'dare': 1590, 'buck': 1591, 'wave': 1592, 'nativ': 1593, 'ford': 1594, 'correct': 1595, 'kiss': 1596, 'contrast': 1597, 'nazi': 1598, 'chill': 1599, 'magnific': 1600, 'knowledg': 1601, 'distract': 1602, 'soap': 1603, 'speed': 1604, 'anywher': 1605, 'mission': 1606, 'fred': 1607, 'breath': 1608, '1980': 1609, 'ice': 1610, 'crowd': 1611, 'moon': 1612, 'joan': 1613, 'jr': 1614, 'frighten': 1615, 'soft': 1616, '000': 1617, 'kate': 1618, 'dan': 1619, 'nick': 1620, 'hundr': 1621, 'dick': 1622, 'somebodi': 1623, 'dozen': 1624, 'radio': 1625, 'simon': 1626, 'shakespear': 1627, 'thousand': 1628, 'loss': 1629, 'academi': 1630, 'andrew': 1631, 'account': 1632, 'root': 1633, 'quot': 1634, 'sum': 1635, 'vehicl': 1636, '1970': 1637, 'behavior': 1638, 'convent': 1639, 'leg': 1640, 'regular': 1641, 'gold': 1642, 'compet': 1643, 'demand': 1644, 'worker': 1645, 'pretenti': 1646, 'notabl': 1647, 'privat': 1648, 'stretch': 1649, 'lynch': 1650, 'candi': 1651, 'explos': 1652, 'japan': 1653, 'interpret': 1654, 'constant': 1655, 'debut': 1656, 'tarzan': 1657, 'prais': 1658, 'sea': 1659, 'translat': 1660, 'revolv': 1661, 'spi': 1662, 'failur': 1663, 'technolog': 1664, 'threaten': 1665, 'jesu': 1666, 'sat': 1667, 'ass': 1668, 'quiet': 1669, 'franc': 1670, 'toy': 1671, 'aid': 1672, 'punch': 1673, 'kevin': 1674, 'met': 1675, 'higher': 1676, 'interact': 1677, 'abandon': 1678, 'vh': 1679, 'mike': 1680, 'bet': 1681, 'command': 1682, 'separ': 1683, 'confront': 1684, 'site': 1685, 'servic': 1686, 'gotten': 1687, 'recal': 1688, 'techniqu': 1689, 'stunt': 1690, 'belong': 1691, 'cabl': 1692, 'foot': 1693, 'bug': 1694, 'freak': 1695, 'fu': 1696, 'african': 1697, 'bright': 1698, 'jimmi': 1699, 'capabl': 1700, 'stock': 1701, 'succeed': 1702, 'fat': 1703, 'presid': 1704, 'clark': 1705, 'boat': 1706, 'gene': 1707, 'spanish': 1708, 'structur': 1709, 'paper': 1710, 'kidnap': 1711, 'factor': 1712, 'belief': 1713, 'whilst': 1714, 'educ': 1715, 'tree': 1716, 'witti': 1717, 'bob': 1718, 'complic': 1719, 'realis': 1720, 'attend': 1721, 'realism': 1722, 'finest': 1723, 'broken': 1724, 'assist': 1725, 'santa': 1726, 'smoke': 1727, 'v': 1728, 'determin': 1729, 'depart': 1730, 'up': 1731, 'observ': 1732, 'rubbish': 1733, 'fame': 1734, 'hat': 1735, 'domin': 1736, 'lewi': 1737, 'routin': 1738, 'oper': 1739, 'advanc': 1740, 'foreign': 1741, 'hook': 1742, 'morgan': 1743, 'kinda': 1744, 'safe': 1745, 'lone': 1746, 'numer': 1747, 'rank': 1748, 'shallow': 1749, 'vs': 1750, 'washington': 1751, 'shape': 1752, 'civil': 1753, 'rose': 1754, 'werewolf': 1755, 'morn': 1756, 'gari': 1757, 'accomplish': 1758, 'winner': 1759, 'ordinari': 1760, 'kong': 1761, 'virtual': 1762, 'peac': 1763, 'grab': 1764, 'whenev': 1765, 'offens': 1766, 'h': 1767, 'luck': 1768, 'bigger': 1769, 'complain': 1770, 'activ': 1771, 'patient': 1772, 'unfunni': 1773, 'contriv': 1774, 'welcom': 1775, 'trek': 1776, 'pretend': 1777, 'dimension': 1778, 'con': 1779, 'dri': 1780, 'lesbian': 1781, 'cain': 1782, 'wake': 1783, 'eric': 1784, 'flash': 1785, 'code': 1786, 'guard': 1787, 'statu': 1788, 'manipul': 1789, 'albert': 1790, 'dancer': 1791, 'corrupt': 1792, 'gain': 1793, 'signific': 1794, 'awkward': 1795, 'speech': 1796, 'context': 1797, 'sourc': 1798, 'clip': 1799, 'psycho': 1800, 'sean': 1801, '13': 1802, 'corni': 1803, 'anthoni': 1804, 'advic': 1805, 'priest': 1806, 'curiou': 1807, 'theatric': 1808, 'religion': 1809, 'w': 1810, 'reli': 1811, 'addict': 1812, 'flow': 1813, 'jennif': 1814, 'skin': 1815, 'asian': 1816, 'howard': 1817, 'specif': 1818, 'secur': 1819, 'core': 1820, 'organ': 1821, 'luke': 1822, 'golden': 1823, 'comfort': 1824, 'promot': 1825, 'cash': 1826, 'lucki': 1827, 'cheat': 1828, 'dislik': 1829, 'associ': 1830, 'lower': 1831, 'regret': 1832, 'devic': 1833, 'wing': 1834, 'degre': 1835, 'frankli': 1836, 'spell': 1837, 'frequent': 1838, 'balanc': 1839, 'contribut': 1840, 'forgiv': 1841, 'lake': 1842, 'sake': 1843, 'print': 1844, 'thoma': 1845, 'mass': 1846, 'betti': 1847, 'crack': 1848, 'unexpect': 1849, 'gordon': 1850, 'construct': 1851, 'unfold': 1852, 'grown': 1853, 'categori': 1854, 'depend': 1855, 'amateur': 1856, 'invit': 1857, 'walter': 1858, 'intellectu': 1859, 'condit': 1860, 'grew': 1861, 'honor': 1862, 'matur': 1863, 'anna': 1864, 'sole': 1865, 'veteran': 1866, 'spectacular': 1867, 'mirror': 1868, 'sudden': 1869, 'experienc': 1870, 'meanwhil': 1871, 'grip': 1872, 'freedom': 1873, 'overli': 1874, 'card': 1875, 'robin': 1876, 'gift': 1877, 'liner': 1878, 'demonstr': 1879, 'brilliantli': 1880, 'colour': 1881, 'theori': 1882, 'unabl': 1883, 'circumst': 1884, 'oliv': 1885, 'section': 1886, 'drew': 1887, 'subtitl': 1888, 'sheriff': 1889, 'crappi': 1890, 'cook': 1891, 'sheer': 1892, 'pile': 1893, 'laughter': 1894, 'matt': 1895, 'altern': 1896, 'path': 1897, 'parker': 1898, 'relief': 1899, 'lawyer': 1900, 'treatment': 1901, 'wander': 1902, 'hall': 1903, 'accident': 1904, 'defin': 1905, 'sinatra': 1906, 'captiv': 1907, 'hank': 1908, 'dragon': 1909, 'gratuit': 1910, 'moor': 1911, 'halloween': 1912, 'wound': 1913, 'unintent': 1914, 'kung': 1915, 'k': 1916, 'jacki': 1917, 'broadway': 1918, 'barbara': 1919, 'wayn': 1920, 'cowboy': 1921, 'spoof': 1922, 'statement': 1923, 'canadian': 1924, 'surreal': 1925, 'winter': 1926, 'compos': 1927, 'gonna': 1928, 'fish': 1929, 'cheer': 1930, 'treasur': 1931, 'fare': 1932, 'unrealist': 1933, 'sensit': 1934, 'emerg': 1935, 'woodi': 1936, 'victor': 1937, 'ran': 1938, 'neighbor': 1939, 'sympathet': 1940, 'driven': 1941, 'authent': 1942, 'glass': 1943, 'topic': 1944, 'expos': 1945, 'overlook': 1946, 'menac': 1947, 'handsom': 1948, 'gross': 1949, 'michel': 1950, 'chief': 1951, 'ancient': 1952, 'feet': 1953, 'comedian': 1954, 'stranger': 1955, 'nevertheless': 1956, 'russel': 1957, 'cinderella': 1958, 'contemporari': 1959, 'built': 1960, 'network': 1961, 'pleasant': 1962, 'miser': 1963, 'letter': 1964, 'consider': 1965, 'earn': 1966, 'underr': 1967, 'endless': 1968, 'gori': 1969, 'blockbust': 1970, 'switch': 1971, 'brook': 1972, 'solv': 1973, 'joseph': 1974, 'virgin': 1975, 'convict': 1976, 'edward': 1977, 'bullet': 1978, 'victoria': 1979, 'alex': 1980, 'scale': 1981, 'scenario': 1982, 'chosen': 1983, 'cynic': 1984, '0': 1985, 'outrag': 1986, 'com': 1987, 'sword': 1988, 'gut': 1989, 'curs': 1990, 'monkey': 1991, 'substanc': 1992, 'driver': 1993, 'uk': 1994, 'screenwrit': 1995, 'proper': 1996, 'wrap': 1997, 'juli': 1998, 'par': 1999, 'court': 2000, 'indic': 2001, 'bird': 2002, 'remov': 2003, 'roy': 2004, 'rental': 2005, 'inevit': 2006, 'advertis': 2007, 'loser': 2008, 'nanci': 2009, 'consequ': 2010, 'grave': 2011, 'naiv': 2012, 'germani': 2013, 'invis': 2014, 'fatal': 2015, 'slap': 2016, 'bridg': 2017, 'brave': 2018, 'le': 2019, 'footbal': 2020, 'anger': 2021, 'provok': 2022, 'loui': 2023, 'ador': 2024, 'chan': 2025, 'anderson': 2026, 'alcohol': 2027, 'willi': 2028, 'stumbl': 2029, 'ryan': 2030, 'professor': 2031, '1930': 2032, 'patrick': 2033, 'bat': 2034, 'sharp': 2035, 'australian': 2036, 'assassin': 2037, 'lousi': 2038, 'amateurish': 2039, 'cell': 2040, 'eight': 2041, 'saturday': 2042, 'liber': 2043, 'deni': 2044, 'refresh': 2045, 'trilog': 2046, 'strongli': 2047, 'heck': 2048, 'ape': 2049, 'sin': 2050, 'san': 2051, 'vagu': 2052, 'justifi': 2053, 'resid': 2054, 'mini': 2055, 'sympathi': 2056, 'reput': 2057, 'creator': 2058, 'defeat': 2059, 'terrifi': 2060, 'indi': 2061, 'prevent': 2062, 'endur': 2063, 'task': 2064, 'tediou': 2065, 'expert': 2066, 'tabl': 2067, 'trial': 2068, 'offend': 2069, 'rival': 2070, 'employ': 2071, 'che': 2072, 'basebal': 2073, 'imit': 2074, 'max': 2075, 'weekend': 2076, 'fairi': 2077, 'beach': 2078, 'pitch': 2079, 'complaint': 2080, 'europ': 2081, 'dig': 2082, 'risk': 2083, 'format': 2084, 'murphi': 2085, 'purchas': 2086, 'tini': 2087, 'glimps': 2088, 'reminisc': 2089, 'bite': 2090, 'harsh': 2091, 'titan': 2092, 'powel': 2093, 'nois': 2094, 'hype': 2095, 'fals': 2096, 'till': 2097, 'north': 2098, '14': 2099, 'asleep': 2100, 'prime': 2101, 'strip': 2102, 'africa': 2103, 'revel': 2104, 'destruct': 2105, 'descript': 2106, 'texa': 2107, 'surfac': 2108, 'uninterest': 2109, 'semi': 2110, 'arrest': 2111, 'spin': 2112, 'inner': 2113, 'excess': 2114, 'sitcom': 2115, 'massiv': 2116, 'maintain': 2117, 'controversi': 2118, 'twin': 2119, 'hitchcock': 2120, 'makeup': 2121, 'dinosaur': 2122, 'argu': 2123, 'reject': 2124, 'ludicr': 2125, 'kim': 2126, 'ideal': 2127, 'expens': 2128, 'stare': 2129, 'melodrama': 2130, 'insist': 2131, 'subplot': 2132, 'ala': 2133, 'forest': 2134, 'press': 2135, 'supernatur': 2136, 'erot': 2137, 'atroci': 2138, 'ga': 2139, 'nail': 2140, 'host': 2141, 'columbo': 2142, 'notch': 2143, 'identifi': 2144, 'cant': 2145, 'dude': 2146, 'presum': 2147, 'guest': 2148, 'character': 2149, 'crude': 2150, 'forgett': 2151, 'closer': 2152, 'plagu': 2153, 'method': 2154, 'ear': 2155, 'landscap': 2156, 'foster': 2157, 'princess': 2158, 'lion': 2159, 'border': 2160, 'beast': 2161, 'damag': 2162, 'jungl': 2163, 'birth': 2164, 'previous': 2165, 'accus': 2166, 'bound': 2167, 'storytel': 2168, 'aunt': 2169, 'urban': 2170, 'pacino': 2171, 'propaganda': 2172, 'thirti': 2173, 'chose': 2174, 'jess': 2175, 'emma': 2176, 'nude': 2177, 'guid': 2178, 'doll': 2179, 'mainstream': 2180, 'pet': 2181, '25': 2182, 'whoever': 2183, 'warrior': 2184, 'mate': 2185, 'gritti': 2186, 'poster': 2187, 'exact': 2188, 'upset': 2189, 'latest': 2190, 'deadli': 2191, 'cooper': 2192, 'friday': 2193, 'size': 2194, 'merit': 2195, 'citizen': 2196, 'sun': 2197, 'ton': 2198, 'contact': 2199, 'warner': 2200, '1990': 2201, 'popul': 2202, 'rough': 2203, 'wilson': 2204, 'blend': 2205, 'contest': 2206, 'settl': 2207, 'corps': 2208, 'buff': 2209, 'select': 2210, 'alic': 2211, 'rat': 2212, 'bu': 2213, 'overcom': 2214, 'metal': 2215, 'pitt': 2216, 'environ': 2217, 'mgm': 2218, 'widow': 2219, 'guilti': 2220, 'lift': 2221, 'revolut': 2222, 'link': 2223, 'particip': 2224, 'ted': 2225, 'corpor': 2226, 'afternoon': 2227, 'matrix': 2228, 'moron': 2229, 'exagger': 2230, 'prostitut': 2231, '1960': 2232, 'corner': 2233, 'johnson': 2234, 'accompani': 2235, 'instal': 2236, 'multipl': 2237, 'clair': 2238, 'leagu': 2239, 'hood': 2240, 'doom': 2241, 'friendli': 2242, 'holm': 2243, 'sincer': 2244, 'defend': 2245, 'string': 2246, 'examin': 2247, 'advis': 2248, 'campi': 2249, 'junk': 2250, 'hip': 2251, 'sunday': 2252, 'grim': 2253, 'irish': 2254, 'aka': 2255, 'lugosi': 2256, 'blah': 2257, 'tight': 2258, 'icon': 2259, 'pro': 2260, 'rachel': 2261, 'confid': 2262, 'shut': 2263, 'shake': 2264, 'varieti': 2265, 'mexican': 2266, 'directli': 2267, 'jaw': 2268, 'medic': 2269, 'denni': 2270, 'goal': 2271, 'attach': 2272, 'sullivan': 2273, 'prior': 2274, 'terrorist': 2275, 'breast': 2276, 'legendari': 2277, 'bourn': 2278, 'courag': 2279, 'sarah': 2280, 'duke': 2281, 'vietnam': 2282, 'sentenc': 2283, 'dean': 2284, 'truck': 2285, 'donald': 2286, 'split': 2287, 'entri': 2288, 'yell': 2289, 'un': 2290, 'behav': 2291, 'hong': 2292, 'nose': 2293, 'proceed': 2294, 'stolen': 2295, 'borrow': 2296, 'buri': 2297, 'swim': 2298, 'confess': 2299, 'crush': 2300, 'forth': 2301, 'unconvinc': 2302, 'jerk': 2303, 'lifetim': 2304, 'concentr': 2305, 'everywher': 2306, 'gather': 2307, 'turkey': 2308, 'california': 2309, 'deliveri': 2310, 'julia': 2311, 'pan': 2312, 'lip': 2313, 'spite': 2314, 'proud': 2315, 'freeman': 2316, 'flight': 2317, 'downright': 2318, 'reward': 2319, 'offici': 2320, 'hoffman': 2321, 'quest': 2322, 'china': 2323, 'fade': 2324, 'notori': 2325, 'worthwhil': 2326, 'fabul': 2327, 'betray': 2328, 'jail': 2329, 'jon': 2330, 'lazi': 2331, 'sink': 2332, 'inept': 2333, 'encourag': 2334, 'sir': 2335, 'retard': 2336, 'storm': 2337, 'lisa': 2338, 'survivor': 2339, 'bag': 2340, 'teeth': 2341, 'cousin': 2342, 'susan': 2343, 'relev': 2344, 'shower': 2345, 'branagh': 2346, 'bell': 2347, 'imageri': 2348, 'toler': 2349, 'hugh': 2350, 'tremend': 2351, 'bride': 2352, 'trade': 2353, 'alright': 2354, 'summari': 2355, 'facial': 2356, 'shark': 2357, 'mexico': 2358, 'quirki': 2359, 'finger': 2360, 'stab': 2361, 'hyster': 2362, 'blown': 2363, 'ha': 2364, 'bitter': 2365, 'pose': 2366, 'von': 2367, 'ron': 2368, 'christ': 2369, 'larri': 2370, 'scheme': 2371, 'address': 2372, 'bone': 2373, 'cruel': 2374, 'afterward': 2375, 'ned': 2376, 'thumb': 2377, 'screw': 2378, 'pursu': 2379, 'traci': 2380, 'beg': 2381, 'swear': 2382, 'snake': 2383, 'tour': 2384, 'feed': 2385, 'distinct': 2386, 'occas': 2387, 'chair': 2388, 'mechan': 2389, 'raw': 2390, 'obscur': 2391, 'photo': 2392, 'stomach': 2393, 'southern': 2394, 'sidney': 2395, 'heavili': 2396, 'argument': 2397, 'gruesom': 2398, 'resist': 2399, 'chain': 2400, 'hardi': 2401, 'cabin': 2402, 'holiday': 2403, 'render': 2404, 'necessarili': 2405, 'understood': 2406, 'indulg': 2407, 'philip': 2408, 'satan': 2409, 'racist': 2410, 'india': 2411, 'fourth': 2412, 'integr': 2413, 'belov': 2414, 'forgot': 2415, 'pregnant': 2416, 'tongu': 2417, 'lay': 2418, 'stalk': 2419, 'outfit': 2420, 'midnight': 2421, 'obnoxi': 2422, '17': 2423, 'magazin': 2424, 'slapstick': 2425, 'garden': 2426, 'ticket': 2427, 'restor': 2428, 'inhabit': 2429, 'carol': 2430, 'deeper': 2431, 'incid': 2432, 'brad': 2433, 'devot': 2434, 'lincoln': 2435, 'shoe': 2436, 'divorc': 2437, 'anticip': 2438, 'benefit': 2439, 'sandler': 2440, 'underground': 2441, 'maria': 2442, 'disbelief': 2443, 'guarante': 2444, 'lili': 2445, 'elizabeth': 2446, 'explod': 2447, 'creation': 2448, 'cring': 2449, 'mildli': 2450, 'slave': 2451, 'amazingli': 2452, 'capit': 2453, 'princip': 2454, 'bbc': 2455, 'greater': 2456, 'lesli': 2457, 'extraordinari': 2458, 'introduct': 2459, 'halfway': 2460, 'funnier': 2461, 'overwhelm': 2462, 'transfer': 2463, 'enhanc': 2464, 'text': 2465, 'advantag': 2466, 'punish': 2467, 'extent': 2468, 'tap': 2469, 'wreck': 2470, 'east': 2471, 'plant': 2472, 'jessica': 2473, 'error': 2474, 'deliber': 2475, 'dynam': 2476, 'preview': 2477, 'lo': 2478, 'horrif': 2479, 'lane': 2480, 'homosexu': 2481, 'sophist': 2482, 'vacat': 2483, 'miscast': 2484, 'ensu': 2485, '2000': 2486, 'miller': 2487, 'basi': 2488, 'appli': 2489, 'vincent': 2490, 'sleazi': 2491, 'mansion': 2492, 'extend': 2493, 'elev': 2494, 'spoken': 2495, 'via': 2496, 'measur': 2497, 'steel': 2498, 'reed': 2499, 'bollywood': 2500, 'uncomfort': 2501, 'overact': 2502, 'beer': 2503, 'mous': 2504, 'goofi': 2505, 'stanley': 2506, 'fix': 2507, 'assign': 2508, 'daili': 2509, 'conceiv': 2510, 'savag': 2511, 'blair': 2512, 'alter': 2513, 'cathol': 2514, 'dentist': 2515, 'breathtak': 2516, 'hippi': 2517, 'melt': 2518, 'subsequ': 2519, 'properli': 2520, 'sacrific': 2521, 'succe': 2522, 'oppos': 2523, 'everyday': 2524, 'carpent': 2525, 'burt': 2526, 'nowaday': 2527, 'inspector': 2528, 'massacr': 2529, 'circl': 2530, 'laura': 2531, 'block': 2532, 'neck': 2533, 'grey': 2534, 'lesser': 2535, 'fallen': 2536, 'mob': 2537, 'portrait': 2538, 'pool': 2539, 'fay': 2540, 'concert': 2541, 'access': 2542, 'christi': 2543, 'seagal': 2544, 'competit': 2545, 'usa': 2546, 'relax': 2547, 'jewish': 2548, 'isol': 2549, 'react': 2550, 'sinist': 2551, 'chees': 2552, 'jake': 2553, 'chop': 2554, 'appal': 2555, 'suitabl': 2556, 'immens': 2557, 'spiritu': 2558, 'nonetheless': 2559, 'nine': 2560, 'creep': 2561, '2006': 2562, 'lyric': 2563, 'stink': 2564, 'ironi': 2565, 'franchis': 2566, 'needless': 2567, 'nut': 2568, 'shirt': 2569, 'sold': 2570, 'reduc': 2571, 'rage': 2572, 'navi': 2573, 'adopt': 2574, 'user': 2575, 'showcas': 2576, 'spring': 2577, 'luci': 2578, 'retir': 2579, 'nurs': 2580, 'asham': 2581, 'digit': 2582, 'uninspir': 2583, 'jay': 2584, 'per': 2585, 'bath': 2586, 'zone': 2587, 'bulli': 2588, 'stanwyck': 2589, 'oddli': 2590, '2001': 2591, 'upper': 2592, 'laid': 2593, 'illustr': 2594, 'sutherland': 2595, '1940': 2596, 'broadcast': 2597, 'amongst': 2598, 'aspir': 2599, 'disguis': 2600, 'throat': 2601, 'brando': 2602, 'baker': 2603, 'stylish': 2604, 'fulfil': 2605, 'wanna': 2606, 'pound': 2607, '18': 2608, 'pride': 2609, 'neighborhood': 2610, 'nobl': 2611, 'thief': 2612, 'endear': 2613, 'wwii': 2614, 'em': 2615, 'impli': 2616, 'cinematograph': 2617, 'distribut': 2618, 'diseas': 2619, 'albeit': 2620, '16': 2621, 'prop': 2622, 'coher': 2623, 'shift': 2624, 'tens': 2625, 'shoulder': 2626, 'dawn': 2627, 'bo': 2628, 'rochest': 2629, 'dinner': 2630, 'bett': 2631, 'forti': 2632, 'rebel': 2633, 'poignant': 2634, 'surf': 2635, 'function': 2636, 'knife': 2637, 'silenc': 2638, 'wash': 2639, 'snow': 2640, 'contract': 2641, 'shout': 2642, 'matthau': 2643, 'eeri': 2644, 'internet': 2645, 'henc': 2646, 'height': 2647, 'duti': 2648, 'chuck': 2649, 'derek': 2650, 'widmark': 2651, 'proof': 2652, 'horrend': 2653, 'instinct': 2654, 'silver': 2655, 'cancel': 2656, 'heat': 2657, 'cannib': 2658, 'reunion': 2659, 'mindless': 2660, 'elvira': 2661, 'repetit': 2662, 'alik': 2663, 'mill': 2664, 'innov': 2665, 'absorb': 2666, 'pie': 2667, 'premier': 2668, 'etern': 2669, 'torn': 2670, 'neat': 2671, 'spielberg': 2672, 'incoher': 2673, 'elvi': 2674, 'greatli': 2675, 'glori': 2676, 'musician': 2677, 'homag': 2678, 'infam': 2679, 'crisi': 2680, 'itali': 2681, 'burton': 2682, 'diamond': 2683, 'britain': 2684, 'precis': 2685, 'nelson': 2686, 'redempt': 2687, 'trite': 2688, 'announc': 2689, 'racism': 2690, 'lovabl': 2691, 'bang': 2692, 'horrifi': 2693, 'wealthi': 2694, 'blank': 2695, 'fbi': 2696, 'dedic': 2697, 'flop': 2698, 'hammer': 2699, 'resolut': 2700, 'streisand': 2701, 'parallel': 2702, 'happili': 2703, 'ensembl': 2704, 'wilder': 2705, 'helen': 2706, 'chaplin': 2707, 'pat': 2708, 'mar': 2709, 'factori': 2710, 'disagre': 2711, 'plastic': 2712, 'triumph': 2713, 'st': 2714, 'conclud': 2715, 'carter': 2716, 'cube': 2717, 'oil': 2718, 'broke': 2719, 'weight': 2720, 'march': 2721, 'fighter': 2722, 'climb': 2723, 'bush': 2724, 'row': 2725, 'vega': 2726, 'chuckl': 2727, 'rocket': 2728, 'own': 2729, 'wherea': 2730, 'spare': 2731, 'unforgett': 2732, 'kurt': 2733, 'mst3k': 2734, 'meaning': 2735, 'dane': 2736, 'lust': 2737, 'thug': 2738, 'dump': 2739, 'luca': 2740, 'sensibl': 2741, 'boot': 2742, 'enorm': 2743, 'stress': 2744, 'difficulti': 2745, 'caricatur': 2746, 'dear': 2747, 'adequ': 2748, 'engin': 2749, 'butt': 2750, 'threat': 2751, 'fifti': 2752, 'brand': 2753, 'karloff': 2754, 'bobbi': 2755, 'rap': 2756, 'arnold': 2757, 'secretari': 2758, 'journalist': 2759, 'fest': 2760, 'homeless': 2761, 'barri': 2762, 'elabor': 2763, 'ego': 2764, 'ralph': 2765, 'polish': 2766, 'swing': 2767, 'hamlet': 2768, 'arrog': 2769, 'flynn': 2770, 'fanci': 2771, 'conspiraci': 2772, 'induc': 2773, 'spike': 2774, 'resort': 2775, 'simpson': 2776, 'unbear': 2777, 'arrang': 2778, 'grate': 2779, 'float': 2780, 'puppet': 2781, 'tool': 2782, 'tribut': 2783, 'boll': 2784, 'cruis': 2785, 'exercis': 2786, 'guilt': 2787, 'pig': 2788, 'phillip': 2789, 'choreograph': 2790, 'basement': 2791, 'muppet': 2792, 'puzzl': 2793, 'document': 2794, 'editor': 2795, 'item': 2796, 'medium': 2797, 'toilet': 2798, 'tower': 2799, 'slip': 2800, 'fianc': 2801, 'babe': 2802, '24': 2803, 'stan': 2804, 'layer': 2805, 'ward': 2806, 'ham': 2807, 'korean': 2808, 'scarecrow': 2809, 'file': 2810, 'superfici': 2811, 'slaughter': 2812, 'denzel': 2813, 'assur': 2814, 'orient': 2815, 'librari': 2816, 'portion': 2817, 'philosoph': 2818, 'doc': 2819, 'catherin': 2820, 'minim': 2821, 'territori': 2822, 'persona': 2823, 'spark': 2824, 'glover': 2825, 'larger': 2826, 'inexplic': 2827, 'transit': 2828, 'jeremi': 2829, 'wolf': 2830, 'owe': 2831, 'curti': 2832, 'boredom': 2833, 'financi': 2834, 'sneak': 2835, 'walken': 2836, 'pg': 2837, 'shi': 2838, 'jet': 2839, 'dorothi': 2840, 'ban': 2841, 'multi': 2842, 'metaphor': 2843, 'cusack': 2844, 'ambigu': 2845, 'backdrop': 2846, 'profound': 2847, 'hudson': 2848, 'eleph': 2849, 'whale': 2850, 'stiff': 2851, '2005': 2852, 'rave': 2853, 'birthday': 2854, 'elsewher': 2855, 'union': 2856, 'ultra': 2857, 'hack': 2858, 'implaus': 2859, 'notion': 2860, 'viru': 2861, 'gadget': 2862, 'canada': 2863, 'squar': 2864, 'disc': 2865, 'bibl': 2866, 'slight': 2867, 'eastwood': 2868, 'pad': 2869, 'newspap': 2870, 'afford': 2871, '1st': 2872, 'reader': 2873, 'poison': 2874, 'distanc': 2875, 'hawk': 2876, 'deriv': 2877, 'lloyd': 2878, 'eva': 2879, 'urg': 2880, 'superhero': 2881, 'skit': 2882, 'heston': 2883, 'button': 2884, 'essenc': 2885, 'cure': 2886, 'sadist': 2887, 'charisma': 2888, 'spread': 2889, 'huh': 2890, 'health': 2891, 'drown': 2892, 'montag': 2893, 'restaur': 2894, 'maniac': 2895, 'gradual': 2896, 'muslim': 2897, 'scoobi': 2898, 'fetch': 2899, 'estat': 2900, 'peak': 2901, 'godfath': 2902, 'dealt': 2903, 'invest': 2904, 'lab': 2905, 'companion': 2906, 'subtleti': 2907, 'cup': 2908, 'tea': 2909, 'alli': 2910, 'countless': 2911, 'servant': 2912, 'kane': 2913, 'gothic': 2914, 'miik': 2915, 'ritter': 2916, 'iii': 2917, 'electr': 2918, 'charismat': 2919, 'elect': 2920, 'salli': 2921, 'heroic': 2922, 'briefli': 2923, 'resourc': 2924, 'nuanc': 2925, 'reel': 2926, 'tender': 2927, 'grandmoth': 2928, 'toss': 2929, 'ingredi': 2930, 'wannab': 2931, 'admittedli': 2932, 'neil': 2933, 'bud': 2934, 'cole': 2935, 'stood': 2936, 'stronger': 2937, 'carrey': 2938, 'kubrick': 2939, 'punk': 2940, 'pit': 2941, 'mafia': 2942, 'mild': 2943, 'poverti': 2944, 'label': 2945, 'shall': 2946, 'pauli': 2947, 'gate': 2948, 'dawson': 2949, 'reev': 2950, 'cox': 2951, 'fond': 2952, 'assault': 2953, 'cardboard': 2954, 'tag': 2955, 'useless': 2956, 'outcom': 2957, 'astair': 2958, 'ian': 2959, 'easier': 2960, 'smash': 2961, 'smooth': 2962, 'updat': 2963, 'burst': 2964, 'terri': 2965, 'bakshi': 2966, 'increasingli': 2967, 'samurai': 2968, 'exchang': 2969, 'divers': 2970, 'qualifi': 2971, 'vari': 2972, '2002': 2973, 'melodramat': 2974, 'sketch': 2975, 'resolv': 2976, 'vulner': 2977, 'fist': 2978, 'rex': 2979, 'coincid': 2980, 'insert': 2981, 'conveni': 2982, 'reynold': 2983, 'brillianc': 2984, 'blast': 2985, 'suspend': 2986, 'tame': 2987, 'be': 2988, 'scratch': 2989, 'luckili': 2990, 'templ': 2991, 'ambiti': 2992, 'seventi': 2993, 'coach': 2994, 'meat': 2995, 'hamilton': 2996, 'fisher': 2997, 'matthew': 2998, 'strictli': 2999, 'gotta': 3000, 'nuclear': 3001, 'farm': 3002, 'jami': 3003, 'walker': 3004, 'soprano': 3005, 'pin': 3006, 'ninja': 3007, 'eccentr': 3008, 'spooki': 3009, 'monk': 3010, 'instantli': 3011, 'kudo': 3012, 'recreat': 3013, 'struck': 3014, 'grasp': 3015, 'revers': 3016, 'butcher': 3017, 'worthless': 3018, 'convolut': 3019, 'clock': 3020, 'brosnan': 3021, 'closet': 3022, 'joey': 3023, 'discoveri': 3024, 'cave': 3025, 'empir': 3026, 'timeless': 3027, 'fifteen': 3028, 'inconsist': 3029, 'importantli': 3030, 'wipe': 3031, 'eighti': 3032, 'communist': 3033, 'declar': 3034, 'sidekick': 3035, 'miracl': 3036, 'bleak': 3037, 'pal': 3038, 'gray': 3039, 'cliff': 3040, 'sloppi': 3041, 'mitchel': 3042, 'partli': 3043, 'selfish': 3044, 'clown': 3045, 'seller': 3046, 'evok': 3047, 'norman': 3048, 'enthusiast': 3049, 'stoog': 3050, 'piano': 3051, 'aforement': 3052, 'chew': 3053, 'lifestyl': 3054, 'websit': 3055, 'flawless': 3056, 'psychiatrist': 3057, '45': 3058, 'debat': 3059, 'ho': 3060, 'cheek': 3061, 'farc': 3062, 'superbl': 3063, 'australia': 3064, 'destin': 3065, 'seed': 3066, 'dash': 3067, 'regardless': 3068, 'incompet': 3069, 'directori': 3070, 'bash': 3071, 'soviet': 3072, 'kitchen': 3073, 'drivel': 3074, 'pressur': 3075, 'abc': 3076, 'splatter': 3077, 'dire': 3078, 'akshay': 3079, 'slice': 3080, 'wrestl': 3081, 'wick': 3082, 'anni': 3083, 'emili': 3084, 'suppli': 3085, 'distant': 3086, 'lou': 3087, 'cameron': 3088, 'helicopt': 3089, 'flower': 3090, 'doo': 3091, 'increas': 3092, 'chapter': 3093, 'seduc': 3094, 'beaten': 3095, 'artifici': 3096, 'duo': 3097, 'jar': 3098, 'blob': 3099, 'pleasantli': 3100, 'curios': 3101, 'recov': 3102, 'cagney': 3103, 'judi': 3104, 'boil': 3105, 'dave': 3106, 'ken': 3107, 'glow': 3108, 'prize': 3109, 'cia': 3110, 'mann': 3111, 'psychot': 3112, 'drunken': 3113, 'francisco': 3114, 'ellen': 3115, 'favour': 3116, 'craven': 3117, 'eleg': 3118, 'glenn': 3119, 'craig': 3120, 'panic': 3121, 'laurel': 3122, 'web': 3123, 'combat': 3124, 'ranger': 3125, 'goldberg': 3126, 'perri': 3127, 'splendid': 3128, 'hop': 3129, 'turner': 3130, 'plausibl': 3131, 'modesti': 3132, '20th': 3133, 'shortli': 3134, 'gandhi': 3135, 'slightest': 3136, 'alexand': 3137, 'gentl': 3138, 'hatr': 3139, 'philosophi': 3140, 'rid': 3141, 'graduat': 3142, 'wizard': 3143, 'min': 3144, 'greek': 3145, 'flip': 3146, 'fx': 3147, 'ruth': 3148, 'falk': 3149, 'fund': 3150, 'preciou': 3151, 'harm': 3152, 'jealou': 3153, 'ocean': 3154, 'holi': 3155, 'we': 3156, 'legal': 3157, 'lend': 3158, 'felix': 3159, 'manhattan': 3160, 'dracula': 3161, 'unpleas': 3162, 'tall': 3163, 'knight': 3164, 'futurist': 3165, 'digniti': 3166, 'forbidden': 3167, 'mock': 3168, 'scientif': 3169, 'tank': 3170, 'overdon': 3171, 'ami': 3172, 'bless': 3173, 'childish': 3174, 'thread': 3175, 'giallo': 3176, 'nod': 3177, 'reviv': 3178, 'explicit': 3179, 'margaret': 3180, '99': 3181, 'awaken': 3182, '2004': 3183, 'yesterday': 3184, 'awe': 3185, 'fever': 3186, 'eve': 3187, 'repeatedli': 3188, 'torment': 3189, 'thick': 3190, 'nerv': 3191, 'elderli': 3192, 'unwatch': 3193, 'verhoeven': 3194, 'mel': 3195, 'pirat': 3196, 'broad': 3197, 'uniform': 3198, 'timothi': 3199, 'griffith': 3200, 'automat': 3201, 'ambit': 3202, 'roman': 3203, 'absenc': 3204, 'bin': 3205, 'publish': 3206, 'ah': 3207, 'lean': 3208, 'rivet': 3209, 'eas': 3210, 'acclaim': 3211, 'kay': 3212, 'politician': 3213, 'custom': 3214, 'royal': 3215, 'stiller': 3216, 'romero': 3217, 'launch': 3218, 'pulp': 3219, 'crook': 3220, 'warren': 3221, 'darker': 3222, 'pierc': 3223, 'bathroom': 3224, 'wallac': 3225, 'transport': 3226, 'tomato': 3227, 'phrase': 3228, 'antic': 3229, 'termin': 3230, 'stinker': 3231, 'gabriel': 3232, 'purpl': 3233, 'homicid': 3234, 'sunshin': 3235, 'foul': 3236, 'q': 3237, 'kenneth': 3238, 'sixti': 3239, 'karen': 3240, 'album': 3241, 'pray': 3242, 'marin': 3243, 'revolutionari': 3244, 'hollow': 3245, 'contrari': 3246, 'donna': 3247, 'juvenil': 3248, 'eyr': 3249, 'choreographi': 3250, 'packag': 3251, 'awak': 3252, '2003': 3253, 'prom': 3254, 'rambo': 3255, 'evolv': 3256, 'coloni': 3257, 'li': 3258, 'saint': 3259, 'brazil': 3260, 'viciou': 3261, 'ought': 3262, 'horrid': 3263, 'blade': 3264, 'nerd': 3265, 'overr': 3266, 'beatti': 3267, 'conserv': 3268, 'candid': 3269, 'ireland': 3270, 'twelv': 3271, 'option': 3272, 'ramon': 3273, 'defi': 3274, 'boast': 3275, 'mildr': 3276, 'dose': 3277, 'stole': 3278, 'kapoor': 3279, 'mummi': 3280, 'funer': 3281, 'jazz': 3282, 'global': 3283, 'altman': 3284, 'collabor': 3285, 'flame': 3286, 'confirm': 3287, 'kirk': 3288, 'detract': 3289, 'astonish': 3290, 'natali': 3291, 'trio': 3292, 'fulci': 3293, 'protest': 3294, 'audio': 3295, 'blake': 3296, 'nicholson': 3297, 'leap': 3298, 'bottl': 3299, 'yellow': 3300, 'destini': 3301, 'racial': 3302, 'delici': 3303, 'spit': 3304, 'enterpris': 3305, 'mystic': 3306, 'tommi': 3307, 'shade': 3308, 'bull': 3309, 'whip': 3310, 'staff': 3311, 'threw': 3312, 'inherit': 3313, 'meaningless': 3314, 'neo': 3315, 'pseudo': 3316, 'popcorn': 3317, 'fonda': 3318, 'vivid': 3319, 'adolesc': 3320, 'visibl': 3321, 'swedish': 3322, 'enchant': 3323, 'harder': 3324, 'bedroom': 3325, 'todd': 3326, 'altogeth': 3327, 'reunit': 3328, 'merci': 3329, 'leonard': 3330, 'fanat': 3331, 'tip': 3332, 'roommat': 3333, 'await': 3334, 'ruthless': 3335, 'suspici': 3336, 'lawrenc': 3337, 'exhibit': 3338, 'voight': 3339, 'bust': 3340, 'synopsi': 3341, 'befriend': 3342, 'reserv': 3343, 'kennedi': 3344, 'wire': 3345, 'madonna': 3346, 'crocodil': 3347, 'moodi': 3348, 'lemmon': 3349, 'edi': 3350, 'uneven': 3351, 'decor': 3352, 'jew': 3353, 'atlanti': 3354, 'respond': 3355, 'dimens': 3356, 'voyag': 3357, 'clint': 3358, 'garner': 3359, 'bargain': 3360, 'incident': 3361, 'chao': 3362, 'clumsi': 3363, 'bold': 3364, '2007': 3365, 'ventur': 3366, 'carl': 3367, 'audit': 3368, 'bradi': 3369, 'abysm': 3370, 'centr': 3371, 'rural': 3372, 'unsettl': 3373, 'holli': 3374, 'palma': 3375, 'lit': 3376, 'versu': 3377, 'mall': 3378, 'humili': 3379, 'immigr': 3380, 'imperson': 3381, 'cd': 3382, '2nd': 3383, 'acknowledg': 3384, 'elimin': 3385, 'neglect': 3386, 'cuba': 3387, 'wealth': 3388, 'hart': 3389, 'trail': 3390, 'characterist': 3391, 'cari': 3392, 'nearbi': 3393, 'poetic': 3394, 'daddi': 3395, 'timon': 3396, 'ant': 3397, 'tiger': 3398, 'echo': 3399, 'troop': 3400, 'saga': 3401, 'pun': 3402, 'solo': 3403, 'domest': 3404, 'jeffrey': 3405, 'collaps': 3406, 'mistaken': 3407, 'celluloid': 3408, 'prejudic': 3409, 'paus': 3410, 'infect': 3411, 'marshal': 3412, 'mickey': 3413, 'repuls': 3414, 'homer': 3415, 'hbo': 3416, 'inappropri': 3417, 'milk': 3418, 'apolog': 3419, 'chest': 3420, 'coffe': 3421, 'coat': 3422, 'ginger': 3423, 'harvey': 3424, 'interrupt': 3425, 'leon': 3426, 'assembl': 3427, 'undoubtedli': 3428, 'pant': 3429, 'tribe': 3430, '1996': 3431, 'inan': 3432, 'promin': 3433, 'olivi': 3434, 'sore': 3435, 'equip': 3436, 'gear': 3437, 'cake': 3438, 'embrac': 3439, 'trace': 3440, 'pen': 3441, 'pot': 3442, 'colleagu': 3443, 'colonel': 3444, 'humbl': 3445, 'institut': 3446, 'maggi': 3447, 'instant': 3448, 'highest': 3449, 'solut': 3450, 'florida': 3451, 'aveng': 3452, 'furthermor': 3453, 'jenni': 3454, 'exot': 3455, 'primari': 3456, 'brooklyn': 3457, 'vulgar': 3458, 'consum': 3459, 'devast': 3460, 'retain': 3461, 'airplan': 3462, 'polanski': 3463, 'illog': 3464, 'seduct': 3465, '3rd': 3466, 'dutch': 3467, 'sale': 3468, 'smaller': 3469, 'descend': 3470, '1999': 3471, 'principl': 3472, 'outer': 3473, 'ya': 3474, 'wive': 3475, 'gender': 3476, 'rick': 3477, 'dian': 3478, 'godzilla': 3479, 'linda': 3480, 'strain': 3481, 'disabl': 3482, 'cope': 3483, 'poke': 3484, 'bowl': 3485, 'gloriou': 3486, 'predecessor': 3487, 'cue': 3488, 'inferior': 3489, 'secondli': 3490, 'glamor': 3491, 'primarili': 3492, 'yard': 3493, 'bubbl': 3494, 'beneath': 3495, 'scope': 3496, 'vast': 3497, 'lol': 3498, 'devoid': 3499, 'rabbit': 3500, 'mixtur': 3501, 'dive': 3502, 'blatant': 3503, 'gundam': 3504, 'dud': 3505, 'hal': 3506, 'disjoint': 3507, 'trademark': 3508, 'invas': 3509, 'aggress': 3510, 'streep': 3511, 'myer': 3512, 'alfr': 3513, 'alert': 3514, 'april': 3515, 'museum': 3516, 'z': 3517, 'hideou': 3518, 'simplist': 3519, 'breed': 3520, 'pearl': 3521, 'garbo': 3522, 'countrysid': 3523, 'talki': 3524, 'shirley': 3525, 'shelf': 3526, 'casual': 3527, 'senseless': 3528, 'et': 3529, 'arab': 3530, 'grinch': 3531, 'domino': 3532, 'uwe': 3533, 'vanish': 3534, 'stir': 3535, 'sh': 3536, 'experiment': 3537, 'boom': 3538, 'obtain': 3539, 'hardcor': 3540, 'mayor': 3541, 'defens': 3542, 'disgrac': 3543, 'slide': 3544, 'robberi': 3545, 'oz': 3546, 'maci': 3547, 'applaud': 3548, 'robinson': 3549, 'acid': 3550, 'hopeless': 3551, 'illeg': 3552, 'stellar': 3553, 'rendit': 3554, 'loyal': 3555, 'unhappi': 3556, 'stack': 3557, 'mail': 3558, 'khan': 3559, 'span': 3560, 'emphasi': 3561, 'declin': 3562, 'grandfath': 3563, 'tempt': 3564, 'blew': 3565, 'recruit': 3566, 'rifl': 3567, 'soccer': 3568, 'counter': 3569, 'fri': 3570, 'spider': 3571, 'wont': 3572, 'amanda': 3573, 'diana': 3574, 'dismiss': 3575, 'psychic': 3576, 'incomprehens': 3577, 'tenant': 3578, 'dicken': 3579, 'hartley': 3580, 'berlin': 3581, 'scroog': 3582, 'craze': 3583, 'topless': 3584, 'porno': 3585, 'sibl': 3586, 'ration': 3587, 'sympath': 3588, 'niro': 3589, 'parad': 3590, 'riot': 3591, 'faster': 3592, 'goer': 3593, 'bitch': 3594, 'resurrect': 3595, 'shed': 3596, 'lumet': 3597, 'trashi': 3598, 'shaw': 3599, 'justin': 3600, 'intim': 3601, 'woo': 3602, 'wet': 3603, 'revolt': 3604, 'ethnic': 3605, 'rider': 3606, 'wendi': 3607, 'partial': 3608, 'choru': 3609, 'hesit': 3610, 'patriot': 3611, 'immort': 3612, 'biographi': 3613, 'farmer': 3614, 'gap': 3615, 'dealer': 3616, 'unreal': 3617, 'commend': 3618, 'nephew': 3619, 'worm': 3620, 'slick': 3621, 'weakest': 3622, 'ballet': 3623, 'lena': 3624, 'hopper': 3625, 'feminist': 3626, 'mario': 3627, 'andr': 3628, 'honesti': 3629, '00': 3630, 'region': 3631, 'enlighten': 3632, 'wheel': 3633, 'eager': 3634, 'steam': 3635, 'ensur': 3636, 'jonathan': 3637, 'victori': 3638, 'wore': 3639, 'prequel': 3640, 'nostalg': 3641, 'skull': 3642, 'vice': 3643, 'psychopath': 3644, 'repress': 3645, 'snap': 3646, 'util': 3647, 'owen': 3648, 'safeti': 3649, 'confin': 3650, 'mutant': 3651, 'sappi': 3652, 'hung': 3653, 'properti': 3654, 'franco': 3655, 'morri': 3656, 'charlott': 3657, 'macarthur': 3658, 'composit': 3659, 'leo': 3660, 'sandra': 3661, 'similarli': 3662, 'kingdom': 3663, 'blunt': 3664, 'cg': 3665, 'compens': 3666, 'valuabl': 3667, 'rocki': 3668, 'emperor': 3669, 'repli': 3670, 'drain': 3671, 'del': 3672, 'drum': 3673, 'recycl': 3674, 'pattern': 3675, 'rambl': 3676, 'bumbl': 3677, 'hyde': 3678, 'rope': 3679, 'heartbreak': 3680, 'tad': 3681, 'thru': 3682, 'deed': 3683, 'despair': 3684, 'miseri': 3685, 'speci': 3686, 'whoopi': 3687, 'tail': 3688, 'acquir': 3689, 'bergman': 3690, 'latin': 3691, '1972': 3692, 'compass': 3693, 'exit': 3694, 'bonu': 3695, 'strand': 3696, 'snl': 3697, 'kyle': 3698, 'dust': 3699, 'montana': 3700, 'campbel': 3701, 'farrel': 3702, 'nervou': 3703, 'bow': 3704, 'dalton': 3705, 'tonight': 3706, 'rotten': 3707, 'airport': 3708, 'rapist': 3709, 'gimmick': 3710, 'contempl': 3711, 'radic': 3712, 'carradin': 3713, 'romp': 3714, 'chess': 3715, 'slug': 3716, 'pour': 3717, 'roth': 3718, 'mistress': 3719, 'bleed': 3720, 'orson': 3721, 'percept': 3722, 'downhil': 3723, 'da': 3724, '35': 3725, 'martian': 3726, 'wacki': 3727, 'olli': 3728, 'gal': 3729, 'oppress': 3730, 'belt': 3731, 'arguabl': 3732, 'shelley': 3733, 'edgar': 3734, 'taught': 3735, 'preach': 3736, 'unpredict': 3737, 'programm': 3738, 'banal': 3739, 'attorney': 3740, 'pervert': 3741, 'slash': 3742, 'tooth': 3743, 'stilt': 3744, 'tackl': 3745, 'heal': 3746, 'pursuit': 3747, 'pervers': 3748, 'melodi': 3749, 'mislead': 3750, '1983': 3751, 'arc': 3752, 'champion': 3753, 'dazzl': 3754, 'paltrow': 3755, 'graham': 3756, 'orang': 3757, 'chicken': 3758, 'duval': 3759, 'employe': 3760, 'raymond': 3761, 'closest': 3762, 'gambl': 3763, 'maid': 3764, 'mesmer': 3765, 'vocal': 3766, 'cleverli': 3767, 'plight': 3768, 'bela': 3769, 'uplift': 3770, 'marti': 3771, 'passeng': 3772, 'tiresom': 3773, 'rubi': 3774, 'sensat': 3775, 'poem': 3776, 'franki': 3777, 'virginia': 3778, 'conneri': 3779, 'vengeanc': 3780, 'dixon': 3781, 'inject': 3782, 'convincingli': 3783, 'numb': 3784, '1968': 3785, 'yawn': 3786, 'quarter': 3787, 'giggl': 3788, 'habit': 3789, 'engross': 3790, 'gerard': 3791, 'crystal': 3792, 'iran': 3793, 'lundgren': 3794, 'paranoia': 3795, 'outing': 3796, 'abraham': 3797, 'bay': 3798, 'calm': 3799, 'secretli': 3800, 'climact': 3801, 'suffic': 3802, 'amitabh': 3803, 'clone': 3804, 'swallow': 3805, 'tube': 3806, 'extens': 3807, 'mute': 3808, 'monologu': 3809, 'pokemon': 3810, 'scottish': 3811, 'volum': 3812, 'profan': 3813, 'whine': 3814, 'sirk': 3815, 'backward': 3816, 'underst': 3817, 'meander': 3818, 'profess': 3819, 'plod': 3820, 'junior': 3821, 'trend': 3822, 'bend': 3823, 'ethan': 3824, 'franci': 3825, 'grotesqu': 3826, 'richardson': 3827, 'nichola': 3828, 'chicago': 3829, 'fed': 3830, 'frankenstein': 3831, 'im': 3832, 'dispos': 3833, 'taxi': 3834, 'surpass': 3835, 'austen': 3836, 'lowest': 3837, 'poetri': 3838, 'abort': 3839, 'expand': 3840, 'earl': 3841, 'septemb': 3842, 'linger': 3843, 'spock': 3844, 'descent': 3845, 'der': 3846, 'myth': 3847, 'sue': 3848, 'mundan': 3849, 'greedi': 3850, 'tourist': 3851, 'rant': 3852, 'econom': 3853, 'simplic': 3854, 'household': 3855, 'compliment': 3856, 'dysfunct': 3857, 'lure': 3858, 'instrument': 3859, 'stallon': 3860, 'literatur': 3861, 'spoke': 3862, 'hum': 3863, 'catchi': 3864, 'cannon': 3865, 'waitress': 3866, 'rubber': 3867, 'muddl': 3868, 'eugen': 3869, 'nostalgia': 3870, 'firstli': 3871, 'mortal': 3872, 'irrelev': 3873, 'omen': 3874, 'june': 3875, 'occupi': 3876, 'dictat': 3877, 'crucial': 3878, 'lang': 3879, 'randi': 3880, 'mankind': 3881, 'recognis': 3882, 'louis': 3883, 'hello': 3884, 'dement': 3885, 'recognit': 3886, 'duck': 3887, 'furi': 3888, 'carel': 3889, 'map': 3890, 'insur': 3891, 'stale': 3892, 'phoni': 3893, 'alongsid': 3894, 'equival': 3895, 'coast': 3896, 'flee': 3897, 'eaten': 3898, 'deaf': 3899, 'phantom': 3900, 'molli': 3901, 'cent': 3902, 'damon': 3903, 'bacal': 3904, 'sissi': 3905, 'lengthi': 3906, 'blackmail': 3907, '1973': 3908, 'biko': 3909, 'bike': 3910, 'bump': 3911, 'newli': 3912, 'wisdom': 3913, 'labor': 3914, 'antwon': 3915, 'freez': 3916, 'dreari': 3917, 'heel': 3918, 'onlin': 3919, 'ashley': 3920, 'daisi': 3921, 'rooney': 3922, 'loyalti': 3923, 'drake': 3924, 'likewis': 3925, 'damm': 3926, 'rude': 3927, 'distinguish': 3928, 'grayson': 3929, 'cyborg': 3930, 'twilight': 3931, 'reign': 3932, 'buffalo': 3933, 'interior': 3934, 'approv': 3935, 'unorigin': 3936, 'basketbal': 3937, 'nineti': 3938, 'pink': 3939, 'attribut': 3940, 'emphas': 3941, 'worn': 3942, 'keith': 3943, 'analysi': 3944, 'butler': 3945, 'prey': 3946, 'incorpor': 3947, 'baddi': 3948, 'vein': 3949, 'barrymor': 3950, 'provoc': 3951, 'tunnel': 3952, 'proce': 3953, 'chronicl': 3954, 'ridden': 3955, 'startl': 3956, 'sailor': 3957, 'inher': 3958, 'exposur': 3959, 'boxer': 3960, 'er': 3961, 'unrel': 3962, 'elm': 3963, 'degrad': 3964, 'nicol': 3965, 'bunni': 3966, 'underli': 3967, 'robbin': 3968, 'predat': 3969, 'drift': 3970, 'walsh': 3971, 'condemn': 3972, 'hypnot': 3973, 'barrel': 3974, 'fleet': 3975, 'carla': 3976, 'stalker': 3977, 'indiffer': 3978, 'substitut': 3979, 'meg': 3980, 'belushi': 3981, 'undeni': 3982, 'julian': 3983, 'mormon': 3984, 'improvis': 3985, 'simmon': 3986, 'millionair': 3987, 'mighti': 3988, 'othello': 3989, 'meyer': 3990, 'shove': 3991, 'lampoon': 3992, 'roof': 3993, '3d': 3994, 'firm': 3995, 'vital': 3996, 'edgi': 3997, 'agenda': 3998, 'dolph': 3999, 'alison': 4000, 'unawar': 4001, 'greed': 4002, 'exquisit': 4003, 'hay': 4004, 'reid': 4005, 'nyc': 4006, 'palac': 4007, 'rukh': 4008, 'disord': 4009, 'alarm': 4010, 'priceless': 4011, 'errol': 4012, 'watson': 4013, 'warmth': 4014, 'marion': 4015, 'enthusiasm': 4016, 'novak': 4017, 'mtv': 4018, 'simultan': 4019, 'what': 4020, 'peck': 4021, 'championship': 4022, 'sergeant': 4023, 'coup': 4024, 'drip': 4025, 'profit': 4026, '1933': 4027, 'cassidi': 4028, 'distort': 4029, 'minimum': 4030, 'crown': 4031, 'angela': 4032, 'randomli': 4033, 'ponder': 4034, 'thompson': 4035, 'gestur': 4036, 'showdown': 4037, 'session': 4038, 'glanc': 4039, 'unleash': 4040, 'eastern': 4041, 'peril': 4042, 'orlean': 4043, 'testament': 4044, '13th': 4045, 'campaign': 4046, 'nun': 4047, 'beatl': 4048, 'preserv': 4049, 'pamela': 4050, 'israel': 4051, 'iraq': 4052, 'zizek': 4053, 'valentin': 4054, 'petti': 4055, 'spain': 4056, 'empathi': 4057, 'valley': 4058, 'cooki': 4059, 'perpetu': 4060, 'bro': 4061, 'travesti': 4062, 'stake': 4063, 'climat': 4064, 'regist': 4065, 'stroke': 4066, 'shootout': 4067, 'crawl': 4068, 'buster': 4069, 'sabrina': 4070, '1984': 4071, 'unimagin': 4072, 'represent': 4073, 'kurosawa': 4074, 'din': 4075, 'realm': 4076, 'jan': 4077, 'rout': 4078, 'reson': 4079, 'brenda': 4080, 'miyazaki': 4081, 'wig': 4082, 'quinn': 4083, 'gentleman': 4084, 'cream': 4085, 'han': 4086, 'scotland': 4087, 'exposit': 4088, 'crow': 4089, 'calib': 4090, 'restrain': 4091, 'mon': 4092, 'contradict': 4093, 'fido': 4094, 'cloud': 4095, 'pole': 4096, 'perceiv': 4097, 'warrant': 4098, 'traumat': 4099, 'absent': 4100, '1997': 4101, 'pretens': 4102, '1987': 4103, 'sucker': 4104, 'soderbergh': 4105, 'monoton': 4106, 'meryl': 4107, 'wax': 4108, 'delic': 4109, 'josh': 4110, 'compromis': 4111, 'unsatisfi': 4112, 'femm': 4113, 'demis': 4114, 'tacki': 4115, 'painter': 4116, 'crawford': 4117, 'fuller': 4118, 'unseen': 4119, 'dana': 4120, 'sammi': 4121, 'distress': 4122, 'abomin': 4123, 'ross': 4124, 'stargat': 4125, 'greg': 4126, 'shoddi': 4127, 'passabl': 4128, 'baldwin': 4129, 'mclaglen': 4130, 'shaki': 4131, 'businessman': 4132, 'darren': 4133, 'censor': 4134, 'ustinov': 4135, 'spacey': 4136, 'derang': 4137, 'geek': 4138, 'wholli': 4139, 'primit': 4140, 'expedit': 4141, 'fenc': 4142, 'tarantino': 4143, 'norm': 4144, 'judgment': 4145, 'anchor': 4146, 'jewel': 4147, 'click': 4148, 'exclus': 4149, '1993': 4150, 'valid': 4151, 'unravel': 4152, 'dee': 4153, 'verbal': 4154, 'tech': 4155, 'deceas': 4156, 'kumar': 4157, 'deniro': 4158, 'reluct': 4159, 'seal': 4160, 'correctli': 4161, 'clash': 4162, 'polici': 4163, 'sid': 4164, 'austin': 4165, 'uncov': 4166, 'antonioni': 4167, 'nathan': 4168, 'fog': 4169, 'accuraci': 4170, 'furiou': 4171, '3000': 4172, 'fabric': 4173, 'sheet': 4174, 'patienc': 4175, 'debt': 4176, '1971': 4177, 'logan': 4178, 'bake': 4179, 'temper': 4180, 'unfair': 4181, 'wang': 4182, 'murray': 4183, 'sustain': 4184, 'trait': 4185, 'fought': 4186, 'slam': 4187, '2008': 4188, 'conduct': 4189, 'tax': 4190, 'nicola': 4191, 'dreck': 4192, 'wretch': 4193, '1995': 4194, 'joel': 4195, 'fart': 4196, 'roller': 4197, 'sunni': 4198, 'hallucin': 4199, 'behold': 4200, 'pocket': 4201, 'shanghai': 4202, 'clerk': 4203, 'malon': 4204, 'enforc': 4205, 'mode': 4206, 'ritual': 4207, 'alec': 4208, 'vanc': 4209, 'seldom': 4210, 'sand': 4211, 'darn': 4212, 'crippl': 4213, 'preston': 4214, 'pete': 4215, 'stark': 4216, 'fundament': 4217, 'phil': 4218, 'squad': 4219, 'bias': 4220, 'conscious': 4221, 'outlin': 4222, 'soup': 4223, 'despis': 4224, 'exhaust': 4225, 'guitar': 4226, 'legaci': 4227, 'preposter': 4228, 'sweep': 4229, 'shell': 4230, 'divid': 4231, 'critiqu': 4232, 'rita': 4233, 'schedul': 4234, 'grief': 4235, 'robber': 4236, 'penni': 4237, 'stuart': 4238, 'bridget': 4239, 'technicolor': 4240, 'isabel': 4241, 'scriptwrit': 4242, 'clau': 4243, 'runner': 4244, 'helpless': 4245, 'tactic': 4246, 'canyon': 4247, 'boyl': 4248, 'palanc': 4249, 'alley': 4250, 'kansa': 4251, 'russia': 4252, 'sugar': 4253, 'gregori': 4254, 'delv': 4255, 'culmin': 4256, 'inabl': 4257, 'rehash': 4258, 'alicia': 4259, 'downey': 4260, 'newman': 4261, 'restrict': 4262, 'marc': 4263, 'unexpectedli': 4264, 'invad': 4265, 'jacket': 4266, 'consciou': 4267, 'liberti': 4268, 'drove': 4269, 'bloom': 4270, 'jodi': 4271, 'vomit': 4272, 'flair': 4273, 'lacklust': 4274, 'sentinel': 4275, 'passag': 4276, 'rear': 4277, 'agenc': 4278, 'propos': 4279, 'connor': 4280, 'cigarett': 4281, 'sniper': 4282, 'implic': 4283, 'feat': 4284, 'cap': 4285, 'improb': 4286, 'tripe': 4287, 'rod': 4288, 'vet': 4289, 'delet': 4290, 'arrow': 4291, '1936': 4292, 'rampag': 4293, 'aesthet': 4294, 'wrench': 4295, 'asylum': 4296, 'karl': 4297, 'behaviour': 4298, 'rehears': 4299, 'mccoy': 4300, 'awhil': 4301, 'sharon': 4302, 'ladder': 4303, 'pale': 4304, '22': 4305, 'bacon': 4306, 'kolchak': 4307, 'chainsaw': 4308, 'foxx': 4309, 'yeti': 4310, 'tendenc': 4311, 'horn': 4312, 'lush': 4313, 'newcom': 4314, 'amazon': 4315, 'tasteless': 4316, 'lurk': 4317, 'wagner': 4318, 'underneath': 4319, '1978': 4320, 'globe': 4321, 'tomorrow': 4322, 'conscienc': 4323, 'weav': 4324, 'paramount': 4325, 'hackney': 4326, 'rumor': 4327, 'basing': 4328, 'rhythm': 4329, 'suffici': 4330, 'financ': 4331, 'elit': 4332, 'hungri': 4333, '19th': 4334, 'shortcom': 4335, 'filler': 4336, 'visitor': 4337, 'loneli': 4338, 'stream': 4339, 'scoop': 4340, 'aristocrat': 4341, 'prank': 4342, 'coaster': 4343, 'spice': 4344, 'thunderbird': 4345, '1988': 4346, '1920': 4347, 'paradis': 4348, 'hulk': 4349, 'wildli': 4350, 'sung': 4351, 'el': 4352, 'minu': 4353, 'suspicion': 4354, 'fright': 4355, 'rub': 4356, 'iv': 4357, 'grudg': 4358, 'secondari': 4359, 'worship': 4360, 'smell': 4361, 'straightforward': 4362, 'penn': 4363, 'choppi': 4364, 'dirt': 4365, 'cancer': 4366, 'lectur': 4367, 'leigh': 4368, 'counterpart': 4369, 'ingeni': 4370, 'couch': 4371, 'brit': 4372, 'heist': 4373, '75': 4374, '1939': 4375, 'minist': 4376, '1989': 4377, 'beverli': 4378, 'impos': 4379, 'ram': 4380, 'abrupt': 4381, 'atroc': 4382, 'en': 4383, 'curli': 4384, 'immers': 4385, 'quietli': 4386, 'recogniz': 4387, 'literari': 4388, 'inmat': 4389, 'standout': 4390, 'tierney': 4391, 'entranc': 4392, 'naughti': 4393, 'posey': 4394, 'bread': 4395, 'chamberlain': 4396, 'hopkin': 4397, 'chavez': 4398, 'teas': 4399, 'paxton': 4400, 'springer': 4401, 'wwe': 4402, 'attenborough': 4403, 'skeptic': 4404, 'injuri': 4405, 'heartfelt': 4406, 'nemesi': 4407, 'nolan': 4408, 'ace': 4409, 'bernard': 4410, 'morbid': 4411, 'transcend': 4412, 'enthral': 4413, '1986': 4414, 'convert': 4415, 'moreov': 4416, 'quaid': 4417, 'cattl': 4418, 'lindsay': 4419, 'sassi': 4420, 'clan': 4421, 'missil': 4422, 'yearn': 4423, 'geni': 4424, 'misguid': 4425, 'policeman': 4426, 'variat': 4427, 'net': 4428, 'entitl': 4429, 'duel': 4430, 'watcher': 4431, 'esther': 4432, 'laurenc': 4433, 'sublim': 4434, 'ratso': 4435, 'characteris': 4436, 'steadi': 4437, 'reliabl': 4438, 'vader': 4439, 'kidman': 4440, 'bye': 4441, 'moder': 4442, 'diari': 4443, 'poe': 4444, 'brood': 4445, 'buzz': 4446, 'kitti': 4447, 'spiral': 4448, 'hopelessli': 4449, 'rosemari': 4450, 'graini': 4451, 'tyler': 4452, 'cruelti': 4453, 'youngest': 4454, 'grin': 4455, '1979': 4456, 'puppi': 4457, 'egg': 4458, 'setup': 4459, 'uncut': 4460, 'out': 4461, 'dont': 4462, 'bean': 4463, 'artsi': 4464, 'hk': 4465, 'obstacl': 4466, 'enabl': 4467, 'carlito': 4468, 'unexplain': 4469, 'facil': 4470, 'mytholog': 4471, 'weather': 4472, 'kline': 4473, 'narrow': 4474, 'clueless': 4475, 'christin': 4476, 'disastr': 4477, 'acquaint': 4478, 'bewar': 4479, 'brendan': 4480, 'bronson': 4481, 'baffl': 4482, 'decept': 4483, 'athlet': 4484, 'gina': 4485, 'exterior': 4486, 'oblig': 4487, 'effici': 4488, 'spontan': 4489, 'hammi': 4490, 'underworld': 4491, 'hain': 4492, 'niec': 4493, 'despic': 4494, 'bounc': 4495, 'fuel': 4496, 'sweat': 4497, '1969': 4498, 'heap': 4499, 'gillian': 4500, 'martha': 4501, 'preming': 4502, 'patricia': 4503, 'loath': 4504, 'taboo': 4505, 'tick': 4506, 'rome': 4507, 'goof': 4508, '19': 4509, 'suprem': 4510, 'candl': 4511, 'hepburn': 4512, 'dandi': 4513, 'insipid': 4514, 'outlaw': 4515, 'dilemma': 4516, 'angst': 4517, 'shatter': 4518, 'housewif': 4519, 'viewpoint': 4520, 'mermaid': 4521, 'circu': 4522, 'biker': 4523, 'astound': 4524, 'mayhem': 4525, 'injur': 4526, 'preachi': 4527, 'uh': 4528, 'trigger': 4529, 'lester': 4530, 'sleepwalk': 4531, 'enlist': 4532, 'virtu': 4533, 'fontain': 4534, 'renaiss': 4535, 'headach': 4536, 'loi': 4537, 'harmless': 4538, 'sooner': 4539, 'scar': 4540, 'analyz': 4541, '73': 4542, 'redund': 4543, 'camcord': 4544, 'filth': 4545, 'surgeri': 4546, 'contempt': 4547, 'immatur': 4548, 'scorses': 4549, 'gere': 4550, 'stair': 4551, 'hostag': 4552, 'whore': 4553, 'fluff': 4554, 'intric': 4555, 'dish': 4556, 'amor': 4557, 'hooker': 4558, 'hokey': 4559, 'boston': 4560, 'sox': 4561, 'ariel': 4562, 'guin': 4563, 'steer': 4564, 'spade': 4565, 'tripl': 4566, 'bent': 4567, 'oldest': 4568, 'foolish': 4569, 'zoom': 4570, 'glorifi': 4571, 'claustrophob': 4572, 'phenomenon': 4573, 'salt': 4574, 'stimul': 4575, 'idol': 4576, 'slimi': 4577, 'overlong': 4578, 'ebert': 4579, 'cassavet': 4580, 'dismal': 4581, 'macho': 4582, 'corbett': 4583, 'schlock': 4584, 'astronaut': 4585, 'trivia': 4586, 'cohen': 4587, 'spree': 4588, 'joker': 4589, 'nolt': 4590, 'zane': 4591, 'proport': 4592, 'perman': 4593, 'alvin': 4594, 'fascist': 4595, 'gasp': 4596, 'keen': 4597, 'widescreen': 4598, 'obligatori': 4599, 'mutual': 4600, 'shield': 4601, 'flashi': 4602, 'flirt': 4603, 'gabl': 4604, 'margin': 4605, 'harold': 4606, 'naschi': 4607, '1976': 4608, 'flag': 4609, 'frantic': 4610, 'transplant': 4611, 'cush': 4612, 'rhyme': 4613, '1981': 4614, 'radiat': 4615, 'conquer': 4616, 'corman': 4617, 'down': 4618, 'preced': 4619, 'mount': 4620, 'dwarf': 4621, 'antagonist': 4622, 'shred': 4623, 'messi': 4624, 'strongest': 4625, 'assert': 4626, 'remad': 4627, 'beard': 4628, 'cow': 4629, 'spinal': 4630, 'faint': 4631, 'muscl': 4632, 'vaniti': 4633, 'info': 4634, 'deer': 4635, 'www': 4636, 'departur': 4637, 'mobil': 4638, 'brush': 4639, 'boob': 4640, 'sensual': 4641, 'discern': 4642, 'bachelor': 4643, '1945': 4644, 'danish': 4645, 'interestingli': 4646, 'hara': 4647, '28': 4648, 'neurot': 4649, 'barn': 4650, 'off': 4651, 'scandal': 4652, 'archiv': 4653, 'raj': 4654, 'inflict': 4655, 'wield': 4656, 'ritchi': 4657, 'persuad': 4658, 'fishburn': 4659, 'divin': 4660, 'flock': 4661, 'resum': 4662, 'someday': 4663, 'triangl': 4664, 'carey': 4665, '95': 4666, 'instruct': 4667, 'bitten': 4668, 'claud': 4669, 'strive': 4670, 'mol': 4671, 'repris': 4672, 'aborigin': 4673, 'frontier': 4674, 'miracul': 4675, 'carlo': 4676, 'proclaim': 4677, 'heartwarm': 4678, 'fragil': 4679, 'senior': 4680, 'undermin': 4681, 'bate': 4682, 'anton': 4683, 'earnest': 4684, 'biblic': 4685, 'hapless': 4686, 'cher': 4687, 'harrison': 4688, 'rot': 4689, 'pixar': 4690, 'melissa': 4691, 'dim': 4692, 'mobster': 4693, 'dylan': 4694, 'europa': 4695, 'recit': 4696, 'cycl': 4697, 'hug': 4698, 'ish': 4699, 'dame': 4700, 'casino': 4701, 'timberlak': 4702, 'luka': 4703, 'prophet': 4704, 'clad': 4705, 'loretta': 4706, 'traffic': 4707, 'cliffhang': 4708, 'banter': 4709, 'hilar': 4710, 'submit': 4711, 'cb': 4712, 'jade': 4713, 'neill': 4714, 'kathryn': 4715, 'pacif': 4716, 'parson': 4717, 'helm': 4718, 'axe': 4719, 'artwork': 4720, 'vibrant': 4721, 'colin': 4722, 'pickford': 4723, 'wendigo': 4724, 'electron': 4725, 'feast': 4726, 'articl': 4727, 'illus': 4728, 'flavor': 4729, 'vile': 4730, 'static': 4731, 'northern': 4732, 'http': 4733, 'isra': 4734, 'pc': 4735, 'lucil': 4736, 'estrang': 4737, 'choke': 4738, 'rooki': 4739, 'vanessa': 4740, 'redneck': 4741, 'cerebr': 4742, 'marlon': 4743, 'trier': 4744, 'token': 4745, 'wardrob': 4746, 'seedi': 4747, 'eli': 4748, 'nope': 4749, 'blatantli': 4750, 'akin': 4751, 'aris': 4752, 'antholog': 4753, 'uma': 4754, 'foil': 4755, 'misfortun': 4756, 'orphan': 4757, 'toronto': 4758, 'mason': 4759, 'mathieu': 4760, 'milo': 4761, 'breakfast': 4762, 'alexandr': 4763, 'lui': 4764, 'venom': 4765, 'shepherd': 4766, 'bikini': 4767, 'razor': 4768, 'legitim': 4769, 'holocaust': 4770, 'bondag': 4771, 'winchest': 4772, 'jordan': 4773, 'sicken': 4774, 'jo': 4775, 'nightclub': 4776, 'charlton': 4777, 'ceremoni': 4778, 'boyer': 4779, 'feminin': 4780, 'peer': 4781, 'glare': 4782, 'ideolog': 4783, 'fifth': 4784, 'deem': 4785, 'audrey': 4786, 'cartoonish': 4787, 'dudley': 4788, 'affleck': 4789, 'huston': 4790, 'magician': 4791, 'clinic': 4792, 'swept': 4793, 'frog': 4794, 'tack': 4795, 'shorter': 4796, 'psych': 4797, 'gunga': 4798, 'linear': 4799, 'retriev': 4800, 'abund': 4801, 'oppon': 4802, 'comprehend': 4803, 'outdat': 4804, 'turd': 4805, 'wrestler': 4806, 'styliz': 4807, 'disregard': 4808, 'gilbert': 4809, 'knightley': 4810, 'highway': 4811, 'howl': 4812, 'smack': 4813, 'leather': 4814, 'durat': 4815, 'newer': 4816, 'corn': 4817, 'evolut': 4818, 'uniformli': 4819, '1991': 4820, 'compris': 4821, 'lighter': 4822, 'greet': 4823, 'einstein': 4824, 'toe': 4825, '1994': 4826, 'deliver': 4827, 'energet': 4828, 'cemeteri': 4829, 'snatch': 4830, 'bogu': 4831, 'sleaz': 4832, 'plate': 4833, 'client': 4834, 'monument': 4835, 'cuban': 4836, 'spawn': 4837, 'chip': 4838, 'boo': 4839, 'summar': 4840, 'collector': 4841, 'tara': 4842, '4th': 4843, 'breakdown': 4844, 'moe': 4845, 'conrad': 4846, 'braveheart': 4847, 'bastard': 4848, 'lavish': 4849, 'senat': 4850, 'spine': 4851, 'mitch': 4852, 'btw': 4853, 'phenomen': 4854, 'lifeless': 4855, 'whack': 4856, 'goldsworthi': 4857, 'potter': 4858, 'salman': 4859, 'inaccuraci': 4860, 'belli': 4861, 'lex': 4862, 'capot': 4863, 'jedi': 4864, 'signal': 4865, 'randolph': 4866, 'bulk': 4867, 'alleg': 4868, 'ol': 4869, 'eleven': 4870, 'firmli': 4871, 'constitut': 4872, 'pronounc': 4873, 'undertak': 4874, 'appl': 4875, 'nina': 4876, 'historian': 4877, 'wtf': 4878, 'embark': 4879, 'jam': 4880, 'fluid': 4881, 'bori': 4882, 'jule': 4883, 'sorrow': 4884, 'spectacl': 4885, 'neatli': 4886, 'occup': 4887, 'trauma': 4888, 'mcqueen': 4889, 'ie': 4890, 'creek': 4891, 'replay': 4892, '1974': 4893, 'cecil': 4894, 'jare': 4895, 'kazan': 4896, '1977': 4897, 'armstrong': 4898, 'judd': 4899, 'healthi': 4900, 'liu': 4901, 'luxuri': 4902, 'gilliam': 4903, 'clara': 4904, 'outright': 4905, 'undead': 4906, 'kent': 4907, 'evelyn': 4908, 'inaccur': 4909, 'subtli': 4910, 'propheci': 4911, 'decapit': 4912, 'forgiven': 4913, 'truman': 4914, 'antonio': 4915, 'carmen': 4916, 'sidewalk': 4917, 'cape': 4918, 'comb': 4919, 'congratul': 4920, 'miniseri': 4921, 'curtain': 4922, 'mum': 4923, 'groan': 4924, 'vignett': 4925, 'galaxi': 4926, 'vain': 4927, 'knee': 4928, 'comprehens': 4929, 'id': 4930, 'tokyo': 4931, 'relentless': 4932, 'spray': 4933, 'bsg': 4934, 'inclus': 4935, 'pepper': 4936, 'unattract': 4937, 'roar': 4938, 'kiddi': 4939, 'unsuspect': 4940, 'walt': 4941, '1985': 4942, 'poker': 4943, 'porter': 4944, 'palm': 4945, 'genet': 4946, 'conan': 4947, 'abound': 4948, 'miami': 4949, 'fruit': 4950, 'lanc': 4951, 'pioneer': 4952, 'lauren': 4953, 'paula': 4954, 'meal': 4955, 'ash': 4956, 'aussi': 4957, 'blur': 4958, 'basket': 4959, 'goldblum': 4960, 'rosario': 4961, 'sacrif': 4962, 'bait': 4963, 'vastli': 4964, 'profil': 4965, 'hackman': 4966, 'sophi': 4967, 'frontal': 4968, 'drone': 4969, 'reincarn': 4970, 'playboy': 4971, 'victorian': 4972, 'assort': 4973, 'incorrect': 4974, 'monti': 4975, 'handicap': 4976, 'optimist': 4977, 'epitom': 4978, 'verg': 4979, 'hostil': 4980, 'masterson': 4981, 'omin': 4982, 'substanti': 4983, 'detach': 4984, 'bravo': 4985, 'sparkl': 4986, 'ingrid': 4987, 'turtl': 4988, 'scariest': 4989, 'jill': 4990, 'ghetto': 4991, 'weaker': 4992, '21st': 4993, 'evan': 4994, 'growth': 4995, 'motorcycl': 4996, 'rapidli': 4997, 'weari': 4998, 'macabr': 4999}\n"
     ]
    }
   ],
   "source": [
    "# TODO: Use this space to determine the five most frequently appearing words in the training set.\n",
    "print(word_dict)"
   ]
  },
  {
   "cell_type": "markdown",
   "metadata": {},
   "source": [
    "### Save `word_dict`\n",
    "\n",
    "Later on when we construct an endpoint which processes a submitted review we will need to make use of the `word_dict` which we have created. As such, we will save it to a file now for future use."
   ]
  },
  {
   "cell_type": "code",
   "execution_count": 14,
   "metadata": {},
   "outputs": [],
   "source": [
    "data_dir = '../data/pytorch' # The folder we will use for storing data\n",
    "if not os.path.exists(data_dir): # Make sure that the folder exists\n",
    "    os.makedirs(data_dir)"
   ]
  },
  {
   "cell_type": "code",
   "execution_count": 15,
   "metadata": {},
   "outputs": [],
   "source": [
    "with open(os.path.join(data_dir, 'word_dict.pkl'), \"wb\") as f:\n",
    "    pickle.dump(word_dict, f)"
   ]
  },
  {
   "cell_type": "markdown",
   "metadata": {},
   "source": [
    "### Transform the reviews\n",
    "\n",
    "Now that we have our word dictionary which allows us to transform the words appearing in the reviews into integers, it is time to make use of it and convert our reviews to their integer sequence representation, making sure to pad or truncate to a fixed length, which in our case is `500`."
   ]
  },
  {
   "cell_type": "code",
   "execution_count": 16,
   "metadata": {},
   "outputs": [],
   "source": [
    "def convert_and_pad(word_dict, sentence, pad=500):\n",
    "    NOWORD = 0 # We will use 0 to represent the 'no word' category\n",
    "    INFREQ = 1 # and we use 1 to represent the infrequent words, i.e., words not appearing in word_dict\n",
    "    \n",
    "    working_sentence = [NOWORD] * pad\n",
    "    \n",
    "    for word_index, word in enumerate(sentence[:pad]):\n",
    "        if word in word_dict:\n",
    "            working_sentence[word_index] = word_dict[word]\n",
    "        else:\n",
    "            working_sentence[word_index] = INFREQ\n",
    "            \n",
    "    return working_sentence, min(len(sentence), pad)\n",
    "\n",
    "def convert_and_pad_data(word_dict, data, pad=500):\n",
    "    result = []\n",
    "    lengths = []\n",
    "    \n",
    "    for sentence in data:\n",
    "        converted, leng = convert_and_pad(word_dict, sentence, pad)\n",
    "        result.append(converted)\n",
    "        lengths.append(leng)\n",
    "        \n",
    "    return np.array(result), np.array(lengths)"
   ]
  },
  {
   "cell_type": "code",
   "execution_count": 17,
   "metadata": {},
   "outputs": [],
   "source": [
    "train_X, train_X_len = convert_and_pad_data(word_dict, train_X)\n",
    "test_X, test_X_len = convert_and_pad_data(word_dict, test_X)"
   ]
  },
  {
   "cell_type": "markdown",
   "metadata": {},
   "source": [
    "As a quick check to make sure that things are working as intended, check to see what one of the reviews in the training set looks like after having been processeed. Does this look reasonable? What is the length of a review in the training set?"
   ]
  },
  {
   "cell_type": "code",
   "execution_count": 18,
   "metadata": {},
   "outputs": [
    {
     "name": "stdout",
     "output_type": "stream",
     "text": [
      "[  38   21    1  947  172   68   11  144   35  371   11  124  267    1\n",
      "   47  304 1046  123 2433 2216  761  841    2   17    7   81   32   26\n",
      "    9  346   39  729   17  796  831  354  794   37  729    1  399  355\n",
      "    1 1737   60  188   11  121  440   30  356  947  172   11   22  171\n",
      "  236  226    7  287  761  426  541    1  727 1837 4974  124  922  796\n",
      "  243    9   58   99   60   53    2  106    7 2538    1    1  856  542\n",
      "  399  503   18  346 1431   25   33 2539    1  593    4    4    6  223\n",
      "   12   18  141 1327   59   30   32  108    4  319    1  286  241  973\n",
      "  211   78   62  346  593 1330  207   30  313  152  203  763  124  142\n",
      " 2433 2216   33 1174  327   68   10   11   99   26    2 2216   47  770\n",
      "  218   11   30   56   47  281 2216    2   32 1712    2    4   95   26\n",
      "   60    1 2382 1364    5   32    7   19  152    9    2  563 1948  908\n",
      "  152 2216  354 4445 2318  557    6  172   27 1930   84  208   14   29\n",
      "  611    1 1099  950   34   50  974  168    1  161    9 2216   33    2\n",
      "   27   20    7 2216   32    2   34  683   33    9    7   32  278  210\n",
      "  426   36   38   16   38  129   47   22   47    2  979    1  251 1378\n",
      "    1  189  251  146  236  231   50  936   99    2   99   66   16  558\n",
      "   66   39 1687 1946    0    0    0    0    0    0    0    0    0    0\n",
      "    0    0    0    0    0    0    0    0    0    0    0    0    0    0\n",
      "    0    0    0    0    0    0    0    0    0    0    0    0    0    0\n",
      "    0    0    0    0    0    0    0    0    0    0    0    0    0    0\n",
      "    0    0    0    0    0    0    0    0    0    0    0    0    0    0\n",
      "    0    0    0    0    0    0    0    0    0    0    0    0    0    0\n",
      "    0    0    0    0    0    0    0    0    0    0    0    0    0    0\n",
      "    0    0    0    0    0    0    0    0    0    0    0    0    0    0\n",
      "    0    0    0    0    0    0    0    0    0    0    0    0    0    0\n",
      "    0    0    0    0    0    0    0    0    0    0    0    0    0    0\n",
      "    0    0    0    0    0    0    0    0    0    0    0    0    0    0\n",
      "    0    0    0    0    0    0    0    0    0    0    0    0    0    0\n",
      "    0    0    0    0    0    0    0    0    0    0    0    0    0    0\n",
      "    0    0    0    0    0    0    0    0    0    0    0    0    0    0\n",
      "    0    0    0    0    0    0    0    0    0    0    0    0    0    0\n",
      "    0    0    0    0    0    0    0    0    0    0    0    0    0    0\n",
      "    0    0    0    0    0    0    0    0    0    0    0    0    0    0\n",
      "    0    0    0    0    0    0    0    0    0    0    0    0    0    0\n",
      "    0    0    0    0    0    0    0    0    0    0]\n",
      "\n",
      "500\n"
     ]
    }
   ],
   "source": [
    "# Use this cell to examine one of the processed reviews to make sure everything is working as intended.\n",
    "print(train_X[100])\n",
    "print()\n",
    "print(len(train_X[100]))"
   ]
  },
  {
   "cell_type": "markdown",
   "metadata": {},
   "source": [
    "**Question:** In the cells above we use the `preprocess_data` and `convert_and_pad_data` methods to process both the training and testing set. Why or why not might this be a problem?"
   ]
  },
  {
   "cell_type": "markdown",
   "metadata": {},
   "source": [
    "**Answer:** Passing the training and testing sets through mentioned functions has its own set of advantages and disadvantages. For instance, preprocessing the data removes noise from datasets which makes the model more accurate and the training process more computationally efficient since it doesn't deal with useless data. However, truncating the data might affect the model understanding of a review sentiment as the indicating words of a particular review might be at the very end of it. "
   ]
  },
  {
   "cell_type": "markdown",
   "metadata": {},
   "source": [
    "## Step 3: Upload the data to S3\n",
    "\n",
    "As in the XGBoost notebook, we will need to upload the training dataset to S3 in order for our training code to access it. For now we will save it locally and we will upload to S3 later on.\n",
    "\n",
    "### Save the processed training dataset locally\n",
    "\n",
    "It is important to note the format of the data that we are saving as we will need to know it when we write the training code. In our case, each row of the dataset has the form `label`, `length`, `review[500]` where `review[500]` is a sequence of `500` integers representing the words in the review."
   ]
  },
  {
   "cell_type": "code",
   "execution_count": 19,
   "metadata": {},
   "outputs": [],
   "source": [
    "import pandas as pd\n",
    "    \n",
    "pd.concat([pd.DataFrame(train_y), pd.DataFrame(train_X_len), pd.DataFrame(train_X)], axis=1) \\\n",
    "        .to_csv(os.path.join(data_dir, 'train.csv'), header=False, index=False)"
   ]
  },
  {
   "cell_type": "markdown",
   "metadata": {},
   "source": [
    "### Uploading the training data\n",
    "\n",
    "\n",
    "Next, we need to upload the training data to the SageMaker default S3 bucket so that we can provide access to it while training our model."
   ]
  },
  {
   "cell_type": "code",
   "execution_count": 20,
   "metadata": {},
   "outputs": [],
   "source": [
    "import sagemaker\n",
    "\n",
    "sagemaker_session = sagemaker.Session()\n",
    "\n",
    "bucket = sagemaker_session.default_bucket()\n",
    "prefix = 'sagemaker/sentiment_rnn'\n",
    "\n",
    "role = sagemaker.get_execution_role()"
   ]
  },
  {
   "cell_type": "code",
   "execution_count": 21,
   "metadata": {},
   "outputs": [],
   "source": [
    "input_data = sagemaker_session.upload_data(path=data_dir, bucket=bucket, key_prefix=prefix)"
   ]
  },
  {
   "cell_type": "markdown",
   "metadata": {},
   "source": [
    "**NOTE:** The cell above uploads the entire contents of our data directory. This includes the `word_dict.pkl` file. This is fortunate as we will need this later on when we create an endpoint that accepts an arbitrary review. For now, we will just take note of the fact that it resides in the data directory (and so also in the S3 training bucket) and that we will need to make sure it gets saved in the model directory."
   ]
  },
  {
   "cell_type": "markdown",
   "metadata": {},
   "source": [
    "## Step 4: Build and Train the PyTorch Model\n",
    "\n",
    "In the XGBoost notebook we discussed what a model is in the SageMaker framework. In particular, a model comprises three objects\n",
    "\n",
    " - Model Artifacts,\n",
    " - Training Code, and\n",
    " - Inference Code,\n",
    " \n",
    "each of which interact with one another. In the XGBoost example we used training and inference code that was provided by Amazon. Here we will still be using containers provided by Amazon with the added benefit of being able to include our own custom code.\n",
    "\n",
    "We will start by implementing our own neural network in PyTorch along with a training script. For the purposes of this project we have provided the necessary model object in the `model.py` file, inside of the `train` folder. You can see the provided implementation by running the cell below."
   ]
  },
  {
   "cell_type": "code",
   "execution_count": 22,
   "metadata": {},
   "outputs": [
    {
     "name": "stdout",
     "output_type": "stream",
     "text": [
      "\u001b[34mimport\u001b[39;49;00m \u001b[04m\u001b[36mtorch\u001b[39;49;00m\u001b[04m\u001b[36m.\u001b[39;49;00m\u001b[04m\u001b[36mnn\u001b[39;49;00m \u001b[34mas\u001b[39;49;00m \u001b[04m\u001b[36mnn\u001b[39;49;00m\n",
      "\n",
      "\u001b[34mclass\u001b[39;49;00m \u001b[04m\u001b[32mLSTMClassifier\u001b[39;49;00m(nn.Module):\n",
      "    \u001b[33m\"\"\"\u001b[39;49;00m\n",
      "\u001b[33m    This is the simple RNN model we will be using to perform Sentiment Analysis.\u001b[39;49;00m\n",
      "\u001b[33m    \"\"\"\u001b[39;49;00m\n",
      "\n",
      "    \u001b[34mdef\u001b[39;49;00m \u001b[32m__init__\u001b[39;49;00m(\u001b[36mself\u001b[39;49;00m, embedding_dim, hidden_dim, vocab_size):\n",
      "        \u001b[33m\"\"\"\u001b[39;49;00m\n",
      "\u001b[33m        Initialize the model by settingg up the various layers.\u001b[39;49;00m\n",
      "\u001b[33m        \"\"\"\u001b[39;49;00m\n",
      "        \u001b[36msuper\u001b[39;49;00m(LSTMClassifier, \u001b[36mself\u001b[39;49;00m).\u001b[32m__init__\u001b[39;49;00m()\n",
      "\n",
      "        \u001b[36mself\u001b[39;49;00m.embedding = nn.Embedding(vocab_size, embedding_dim, padding_idx=\u001b[34m0\u001b[39;49;00m)\n",
      "        \u001b[36mself\u001b[39;49;00m.lstm = nn.LSTM(embedding_dim, hidden_dim)\n",
      "        \u001b[36mself\u001b[39;49;00m.dense = nn.Linear(in_features=hidden_dim, out_features=\u001b[34m1\u001b[39;49;00m)\n",
      "        \u001b[36mself\u001b[39;49;00m.sig = nn.Sigmoid()\n",
      "        \n",
      "        \u001b[36mself\u001b[39;49;00m.word_dict = \u001b[34mNone\u001b[39;49;00m\n",
      "\n",
      "    \u001b[34mdef\u001b[39;49;00m \u001b[32mforward\u001b[39;49;00m(\u001b[36mself\u001b[39;49;00m, x):\n",
      "        \u001b[33m\"\"\"\u001b[39;49;00m\n",
      "\u001b[33m        Perform a forward pass of our model on some input.\u001b[39;49;00m\n",
      "\u001b[33m        \"\"\"\u001b[39;49;00m\n",
      "        x = x.t()\n",
      "        lengths = x[\u001b[34m0\u001b[39;49;00m,:]\n",
      "        reviews = x[\u001b[34m1\u001b[39;49;00m:,:]\n",
      "        embeds = \u001b[36mself\u001b[39;49;00m.embedding(reviews)\n",
      "        lstm_out, _ = \u001b[36mself\u001b[39;49;00m.lstm(embeds)\n",
      "        out = \u001b[36mself\u001b[39;49;00m.dense(lstm_out)\n",
      "        out = out[lengths - \u001b[34m1\u001b[39;49;00m, \u001b[36mrange\u001b[39;49;00m(\u001b[36mlen\u001b[39;49;00m(lengths))]\n",
      "        \u001b[34mreturn\u001b[39;49;00m \u001b[36mself\u001b[39;49;00m.sig(out.squeeze())\n"
     ]
    }
   ],
   "source": [
    "!pygmentize train/model.py"
   ]
  },
  {
   "cell_type": "markdown",
   "metadata": {},
   "source": [
    "The important takeaway from the implementation provided is that there are three parameters that we may wish to tweak to improve the performance of our model. These are the embedding dimension, the hidden dimension and the size of the vocabulary. We will likely want to make these parameters configurable in the training script so that if we wish to modify them we do not need to modify the script itself. We will see how to do this later on. To start we will write some of the training code in the notebook so that we can more easily diagnose any issues that arise.\n",
    "\n",
    "First we will load a small portion of the training data set to use as a sample. It would be very time consuming to try and train the model completely in the notebook as we do not have access to a gpu and the compute instance that we are using is not particularly powerful. However, we can work on a small bit of the data to get a feel for how our training script is behaving."
   ]
  },
  {
   "cell_type": "code",
   "execution_count": 23,
   "metadata": {},
   "outputs": [],
   "source": [
    "import torch\n",
    "import torch.utils.data\n",
    "\n",
    "# Read in only the first 250 rows\n",
    "train_sample = pd.read_csv(os.path.join(data_dir, 'train.csv'), header=None, names=None, nrows=250)\n",
    "\n",
    "# Turn the input pandas dataframe into tensors\n",
    "train_sample_y = torch.from_numpy(train_sample[[0]].values).float().squeeze()\n",
    "train_sample_X = torch.from_numpy(train_sample.drop([0], axis=1).values).long()\n",
    "\n",
    "# Build the dataset\n",
    "train_sample_ds = torch.utils.data.TensorDataset(train_sample_X, train_sample_y)\n",
    "# Build the dataloader\n",
    "train_sample_dl = torch.utils.data.DataLoader(train_sample_ds, batch_size=50)"
   ]
  },
  {
   "cell_type": "markdown",
   "metadata": {},
   "source": [
    "### (TODO) Writing the training method\n",
    "\n",
    "Next we need to write the training code itself. This should be very similar to training methods that you have written before to train PyTorch models. We will leave any difficult aspects such as model saving / loading and parameter loading until a little later."
   ]
  },
  {
   "cell_type": "code",
   "execution_count": 24,
   "metadata": {},
   "outputs": [],
   "source": [
    "def train(model, train_loader, epochs, optimizer, loss_fn, device):\n",
    "    for epoch in range(1, epochs + 1):\n",
    "        model.train()\n",
    "        total_loss = 0\n",
    "        for batch in train_loader:         \n",
    "            batch_X, batch_y = batch\n",
    "            \n",
    "            batch_X = batch_X.to(device)\n",
    "            batch_y = batch_y.to(device)\n",
    "            \n",
    "            # TODO: Complete this train method to train the model provided.\n",
    "            model.zero_grad()\n",
    "            output = model(batch_X)\n",
    "            loss = loss_fn(output, batch_y)\n",
    "            loss.backward()\n",
    "            optimizer.step()\n",
    "            \n",
    "            total_loss += loss.data.item()\n",
    "        print(\"Epoch: {}, BCELoss: {}\".format(epoch, total_loss / len(train_loader)))"
   ]
  },
  {
   "cell_type": "markdown",
   "metadata": {},
   "source": [
    "Supposing we have the training method above, we will test that it is working by writing a bit of code in the notebook that executes our training method on the small sample training set that we loaded earlier. The reason for doing this in the notebook is so that we have an opportunity to fix any errors that arise early when they are easier to diagnose."
   ]
  },
  {
   "cell_type": "code",
   "execution_count": 25,
   "metadata": {},
   "outputs": [
    {
     "name": "stdout",
     "output_type": "stream",
     "text": [
      "Epoch: 1, BCELoss: 0.6950652122497558\n",
      "Epoch: 2, BCELoss: 0.6860353350639343\n",
      "Epoch: 3, BCELoss: 0.678533959388733\n",
      "Epoch: 4, BCELoss: 0.6703558683395385\n",
      "Epoch: 5, BCELoss: 0.6605463266372681\n"
     ]
    }
   ],
   "source": [
    "import torch.optim as optim\n",
    "from train.model import LSTMClassifier\n",
    "\n",
    "device = torch.device(\"cuda\" if torch.cuda.is_available() else \"cpu\")\n",
    "model = LSTMClassifier(32, 100, 5000).to(device)\n",
    "optimizer = optim.Adam(model.parameters())\n",
    "loss_fn = torch.nn.BCELoss()\n",
    "\n",
    "train(model, train_sample_dl, 5, optimizer, loss_fn, device)"
   ]
  },
  {
   "cell_type": "markdown",
   "metadata": {},
   "source": [
    "In order to construct a PyTorch model using SageMaker we must provide SageMaker with a training script. We may optionally include a directory which will be copied to the container and from which our training code will be run. When the training container is executed it will check the uploaded directory (if there is one) for a `requirements.txt` file and install any required Python libraries, after which the training script will be run."
   ]
  },
  {
   "cell_type": "markdown",
   "metadata": {},
   "source": [
    "### (TODO) Training the model\n",
    "\n",
    "When a PyTorch model is constructed in SageMaker, an entry point must be specified. This is the Python file which will be executed when the model is trained. Inside of the `train` directory is a file called `train.py` which has been provided and which contains most of the necessary code to train our model. The only thing that is missing is the implementation of the `train()` method which you wrote earlier in this notebook.\n",
    "\n",
    "**TODO**: Copy the `train()` method written above and paste it into the `train/train.py` file where required.\n",
    "\n",
    "The way that SageMaker passes hyperparameters to the training script is by way of arguments. These arguments can then be parsed and used in the training script. To see how this is done take a look at the provided `train/train.py` file."
   ]
  },
  {
   "cell_type": "code",
   "execution_count": 26,
   "metadata": {},
   "outputs": [],
   "source": [
    "from sagemaker.pytorch import PyTorch\n",
    "\n",
    "estimator = PyTorch(entry_point=\"train.py\",\n",
    "                    source_dir=\"train\",\n",
    "                    role=role,\n",
    "                    framework_version='0.4.0',\n",
    "                    train_instance_count=1,\n",
    "                    train_instance_type='ml.p2.xlarge',\n",
    "                    hyperparameters={\n",
    "                        'epochs': 9,\n",
    "                        'hidden_dim': 200,\n",
    "                    })"
   ]
  },
  {
   "cell_type": "code",
   "execution_count": 27,
   "metadata": {},
   "outputs": [
    {
     "name": "stderr",
     "output_type": "stream",
     "text": [
      "'create_image_uri' will be deprecated in favor of 'ImageURIProvider' class in SageMaker Python SDK v2.\n",
      "'s3_input' class will be renamed to 'TrainingInput' in SageMaker Python SDK v2.\n",
      "'create_image_uri' will be deprecated in favor of 'ImageURIProvider' class in SageMaker Python SDK v2.\n"
     ]
    },
    {
     "name": "stdout",
     "output_type": "stream",
     "text": [
      "2020-09-10 12:03:18 Starting - Starting the training job...\n",
      "2020-09-10 12:03:20 Starting - Launching requested ML instances.........\n",
      "2020-09-10 12:04:52 Starting - Preparing the instances for training......\n",
      "2020-09-10 12:06:00 Downloading - Downloading input data...\n",
      "2020-09-10 12:06:32 Training - Downloading the training image...\n",
      "2020-09-10 12:07:14 Training - Training image download completed. Training in progress..\u001b[34mbash: cannot set terminal process group (-1): Inappropriate ioctl for device\u001b[0m\n",
      "\u001b[34mbash: no job control in this shell\u001b[0m\n",
      "\u001b[34m2020-09-10 12:07:15,544 sagemaker-containers INFO     Imported framework sagemaker_pytorch_container.training\u001b[0m\n",
      "\u001b[34m2020-09-10 12:07:15,569 sagemaker_pytorch_container.training INFO     Block until all host DNS lookups succeed.\u001b[0m\n",
      "\u001b[34m2020-09-10 12:07:17,002 sagemaker_pytorch_container.training INFO     Invoking user training script.\u001b[0m\n",
      "\u001b[34m2020-09-10 12:07:17,278 sagemaker-containers INFO     Module train does not provide a setup.py. \u001b[0m\n",
      "\u001b[34mGenerating setup.py\u001b[0m\n",
      "\u001b[34m2020-09-10 12:07:17,278 sagemaker-containers INFO     Generating setup.cfg\u001b[0m\n",
      "\u001b[34m2020-09-10 12:07:17,278 sagemaker-containers INFO     Generating MANIFEST.in\u001b[0m\n",
      "\u001b[34m2020-09-10 12:07:17,278 sagemaker-containers INFO     Installing module with the following command:\u001b[0m\n",
      "\u001b[34m/usr/bin/python -m pip install -U . -r requirements.txt\u001b[0m\n",
      "\u001b[34mProcessing /opt/ml/code\u001b[0m\n",
      "\u001b[34mCollecting pandas (from -r requirements.txt (line 1))\n",
      "  Downloading https://files.pythonhosted.org/packages/74/24/0cdbf8907e1e3bc5a8da03345c23cbed7044330bb8f73bb12e711a640a00/pandas-0.24.2-cp35-cp35m-manylinux1_x86_64.whl (10.0MB)\u001b[0m\n",
      "\u001b[34mCollecting numpy (from -r requirements.txt (line 2))\u001b[0m\n",
      "\u001b[34m  Downloading https://files.pythonhosted.org/packages/b5/36/88723426b4ff576809fec7d73594fe17a35c27f8d01f93637637a29ae25b/numpy-1.18.5-cp35-cp35m-manylinux1_x86_64.whl (19.9MB)\u001b[0m\n",
      "\u001b[34mCollecting nltk (from -r requirements.txt (line 3))\n",
      "  Downloading https://files.pythonhosted.org/packages/92/75/ce35194d8e3022203cca0d2f896dbb88689f9b3fce8e9f9cff942913519d/nltk-3.5.zip (1.4MB)\u001b[0m\n",
      "\u001b[34mCollecting beautifulsoup4 (from -r requirements.txt (line 4))\n",
      "  Downloading https://files.pythonhosted.org/packages/66/25/ff030e2437265616a1e9b25ccc864e0371a0bc3adb7c5a404fd661c6f4f6/beautifulsoup4-4.9.1-py3-none-any.whl (115kB)\u001b[0m\n",
      "\u001b[34mCollecting html5lib (from -r requirements.txt (line 5))\n",
      "  Downloading https://files.pythonhosted.org/packages/6c/dd/a834df6482147d48e225a49515aabc28974ad5a4ca3215c18a882565b028/html5lib-1.1-py2.py3-none-any.whl (112kB)\u001b[0m\n",
      "\u001b[34mRequirement already satisfied, skipping upgrade: python-dateutil>=2.5.0 in /usr/local/lib/python3.5/dist-packages (from pandas->-r requirements.txt (line 1)) (2.7.5)\u001b[0m\n",
      "\u001b[34mCollecting pytz>=2011k (from pandas->-r requirements.txt (line 1))\n",
      "  Downloading https://files.pythonhosted.org/packages/4f/a4/879454d49688e2fad93e59d7d4efda580b783c745fd2ec2a3adf87b0808d/pytz-2020.1-py2.py3-none-any.whl (510kB)\u001b[0m\n",
      "\u001b[34mRequirement already satisfied, skipping upgrade: click in /usr/local/lib/python3.5/dist-packages (from nltk->-r requirements.txt (line 3)) (7.0)\u001b[0m\n",
      "\u001b[34mCollecting joblib (from nltk->-r requirements.txt (line 3))\n",
      "  Downloading https://files.pythonhosted.org/packages/28/5c/cf6a2b65a321c4a209efcdf64c2689efae2cb62661f8f6f4bb28547cf1bf/joblib-0.14.1-py2.py3-none-any.whl (294kB)\u001b[0m\n",
      "\u001b[34mCollecting regex (from nltk->-r requirements.txt (line 3))\u001b[0m\n",
      "\u001b[34m  Downloading https://files.pythonhosted.org/packages/09/c3/ddaa87500f31ed86290e3d014c0302a51fde28d7139eda0b5f33733726db/regex-2020.7.14.tar.gz (690kB)\u001b[0m\n",
      "\u001b[34mCollecting tqdm (from nltk->-r requirements.txt (line 3))\n",
      "  Downloading https://files.pythonhosted.org/packages/28/7e/281edb5bc3274dfb894d90f4dbacfceaca381c2435ec6187a2c6f329aed7/tqdm-4.48.2-py2.py3-none-any.whl (68kB)\u001b[0m\n",
      "\u001b[34mCollecting soupsieve>1.2 (from beautifulsoup4->-r requirements.txt (line 4))\n",
      "  Downloading https://files.pythonhosted.org/packages/6f/8f/457f4a5390eeae1cc3aeab89deb7724c965be841ffca6cfca9197482e470/soupsieve-2.0.1-py3-none-any.whl\u001b[0m\n",
      "\u001b[34mRequirement already satisfied, skipping upgrade: six>=1.9 in /usr/local/lib/python3.5/dist-packages (from html5lib->-r requirements.txt (line 5)) (1.11.0)\u001b[0m\n",
      "\u001b[34mCollecting webencodings (from html5lib->-r requirements.txt (line 5))\n",
      "  Downloading https://files.pythonhosted.org/packages/f4/24/2a3e3df732393fed8b3ebf2ec078f05546de641fe1b667ee316ec1dcf3b7/webencodings-0.5.1-py2.py3-none-any.whl\u001b[0m\n",
      "\u001b[34mBuilding wheels for collected packages: nltk, train, regex\n",
      "  Running setup.py bdist_wheel for nltk: started\n",
      "  Running setup.py bdist_wheel for nltk: finished with status 'done'\n",
      "  Stored in directory: /root/.cache/pip/wheels/ae/8c/3f/b1fe0ba04555b08b57ab52ab7f86023639a526d8bc8d384306\n",
      "  Running setup.py bdist_wheel for train: started\u001b[0m\n",
      "\u001b[34m  Running setup.py bdist_wheel for train: finished with status 'done'\n",
      "  Stored in directory: /tmp/pip-ephem-wheel-cache-0cge86v7/wheels/35/24/16/37574d11bf9bde50616c67372a334f94fa8356bc7164af8ca3\n",
      "  Running setup.py bdist_wheel for regex: started\u001b[0m\n",
      "\u001b[34m  Running setup.py bdist_wheel for regex: finished with status 'done'\n",
      "  Stored in directory: /root/.cache/pip/wheels/53/55/dc/e17fa4568958f4c53be34b65e474a1327b64641f65df379ec3\u001b[0m\n",
      "\u001b[34mSuccessfully built nltk train regex\u001b[0m\n",
      "\u001b[34mInstalling collected packages: numpy, pytz, pandas, joblib, regex, tqdm, nltk, soupsieve, beautifulsoup4, webencodings, html5lib, train\n",
      "  Found existing installation: numpy 1.15.4\u001b[0m\n",
      "\u001b[34m    Uninstalling numpy-1.15.4:\n",
      "      Successfully uninstalled numpy-1.15.4\u001b[0m\n",
      "\u001b[34mSuccessfully installed beautifulsoup4-4.9.1 html5lib-1.1 joblib-0.14.1 nltk-3.5 numpy-1.18.5 pandas-0.24.2 pytz-2020.1 regex-2020.7.14 soupsieve-2.0.1 tqdm-4.48.2 train-1.0.0 webencodings-0.5.1\u001b[0m\n",
      "\u001b[34mYou are using pip version 18.1, however version 20.2.3 is available.\u001b[0m\n",
      "\u001b[34mYou should consider upgrading via the 'pip install --upgrade pip' command.\u001b[0m\n",
      "\u001b[34m2020-09-10 12:07:39,334 sagemaker-containers INFO     Invoking user script\n",
      "\u001b[0m\n",
      "\u001b[34mTraining Env:\n",
      "\u001b[0m\n",
      "\u001b[34m{\n",
      "    \"module_name\": \"train\",\n",
      "    \"user_entry_point\": \"train.py\",\n",
      "    \"framework_module\": \"sagemaker_pytorch_container.training:main\",\n",
      "    \"log_level\": 20,\n",
      "    \"num_cpus\": 4,\n",
      "    \"hosts\": [\n",
      "        \"algo-1\"\n",
      "    ],\n",
      "    \"additional_framework_parameters\": {},\n",
      "    \"hyperparameters\": {\n",
      "        \"hidden_dim\": 200,\n",
      "        \"epochs\": 9\n",
      "    },\n",
      "    \"input_config_dir\": \"/opt/ml/input/config\",\n",
      "    \"output_intermediate_dir\": \"/opt/ml/output/intermediate\",\n",
      "    \"current_host\": \"algo-1\",\n",
      "    \"network_interface_name\": \"eth0\",\n",
      "    \"job_name\": \"sagemaker-pytorch-2020-09-10-12-03-18-509\",\n",
      "    \"output_dir\": \"/opt/ml/output\",\n",
      "    \"input_dir\": \"/opt/ml/input\",\n",
      "    \"model_dir\": \"/opt/ml/model\",\n",
      "    \"module_dir\": \"s3://sagemaker-us-east-1-087290475802/sagemaker-pytorch-2020-09-10-12-03-18-509/source/sourcedir.tar.gz\",\n",
      "    \"output_data_dir\": \"/opt/ml/output/data\",\n",
      "    \"channel_input_dirs\": {\n",
      "        \"training\": \"/opt/ml/input/data/training\"\n",
      "    },\n",
      "    \"input_data_config\": {\n",
      "        \"training\": {\n",
      "            \"S3DistributionType\": \"FullyReplicated\",\n",
      "            \"RecordWrapperType\": \"None\",\n",
      "            \"TrainingInputMode\": \"File\"\n",
      "        }\n",
      "    },\n",
      "    \"num_gpus\": 1,\n",
      "    \"resource_config\": {\n",
      "        \"current_host\": \"algo-1\",\n",
      "        \"network_interface_name\": \"eth0\",\n",
      "        \"hosts\": [\n",
      "            \"algo-1\"\n",
      "        ]\n",
      "    }\u001b[0m\n",
      "\u001b[34m}\n",
      "\u001b[0m\n",
      "\u001b[34mEnvironment variables:\n",
      "\u001b[0m\n",
      "\u001b[34mSM_CHANNELS=[\"training\"]\u001b[0m\n",
      "\u001b[34mSM_CHANNEL_TRAINING=/opt/ml/input/data/training\u001b[0m\n",
      "\u001b[34mSM_TRAINING_ENV={\"additional_framework_parameters\":{},\"channel_input_dirs\":{\"training\":\"/opt/ml/input/data/training\"},\"current_host\":\"algo-1\",\"framework_module\":\"sagemaker_pytorch_container.training:main\",\"hosts\":[\"algo-1\"],\"hyperparameters\":{\"epochs\":9,\"hidden_dim\":200},\"input_config_dir\":\"/opt/ml/input/config\",\"input_data_config\":{\"training\":{\"RecordWrapperType\":\"None\",\"S3DistributionType\":\"FullyReplicated\",\"TrainingInputMode\":\"File\"}},\"input_dir\":\"/opt/ml/input\",\"job_name\":\"sagemaker-pytorch-2020-09-10-12-03-18-509\",\"log_level\":20,\"model_dir\":\"/opt/ml/model\",\"module_dir\":\"s3://sagemaker-us-east-1-087290475802/sagemaker-pytorch-2020-09-10-12-03-18-509/source/sourcedir.tar.gz\",\"module_name\":\"train\",\"network_interface_name\":\"eth0\",\"num_cpus\":4,\"num_gpus\":1,\"output_data_dir\":\"/opt/ml/output/data\",\"output_dir\":\"/opt/ml/output\",\"output_intermediate_dir\":\"/opt/ml/output/intermediate\",\"resource_config\":{\"current_host\":\"algo-1\",\"hosts\":[\"algo-1\"],\"network_interface_name\":\"eth0\"},\"user_entry_point\":\"train.py\"}\u001b[0m\n",
      "\u001b[34mSM_USER_ARGS=[\"--epochs\",\"9\",\"--hidden_dim\",\"200\"]\u001b[0m\n",
      "\u001b[34mSM_MODEL_DIR=/opt/ml/model\u001b[0m\n",
      "\u001b[34mSM_FRAMEWORK_PARAMS={}\u001b[0m\n",
      "\u001b[34mPYTHONPATH=/usr/local/bin:/usr/lib/python35.zip:/usr/lib/python3.5:/usr/lib/python3.5/plat-x86_64-linux-gnu:/usr/lib/python3.5/lib-dynload:/usr/local/lib/python3.5/dist-packages:/usr/lib/python3/dist-packages\u001b[0m\n",
      "\u001b[34mSM_MODULE_DIR=s3://sagemaker-us-east-1-087290475802/sagemaker-pytorch-2020-09-10-12-03-18-509/source/sourcedir.tar.gz\u001b[0m\n",
      "\u001b[34mSM_OUTPUT_DATA_DIR=/opt/ml/output/data\u001b[0m\n",
      "\u001b[34mSM_NUM_GPUS=1\u001b[0m\n",
      "\u001b[34mSM_INPUT_CONFIG_DIR=/opt/ml/input/config\u001b[0m\n",
      "\u001b[34mSM_INPUT_DATA_CONFIG={\"training\":{\"RecordWrapperType\":\"None\",\"S3DistributionType\":\"FullyReplicated\",\"TrainingInputMode\":\"File\"}}\u001b[0m\n",
      "\u001b[34mSM_HPS={\"epochs\":9,\"hidden_dim\":200}\u001b[0m\n",
      "\u001b[34mSM_HP_EPOCHS=9\u001b[0m\n",
      "\u001b[34mSM_OUTPUT_INTERMEDIATE_DIR=/opt/ml/output/intermediate\u001b[0m\n",
      "\u001b[34mSM_RESOURCE_CONFIG={\"current_host\":\"algo-1\",\"hosts\":[\"algo-1\"],\"network_interface_name\":\"eth0\"}\u001b[0m\n",
      "\u001b[34mSM_USER_ENTRY_POINT=train.py\u001b[0m\n",
      "\u001b[34mSM_HOSTS=[\"algo-1\"]\u001b[0m\n",
      "\u001b[34mSM_NUM_CPUS=4\u001b[0m\n",
      "\u001b[34mSM_CURRENT_HOST=algo-1\u001b[0m\n",
      "\u001b[34mSM_HP_HIDDEN_DIM=200\u001b[0m\n",
      "\u001b[34mSM_INPUT_DIR=/opt/ml/input\u001b[0m\n",
      "\u001b[34mSM_NETWORK_INTERFACE_NAME=eth0\u001b[0m\n",
      "\u001b[34mSM_OUTPUT_DIR=/opt/ml/output\u001b[0m\n",
      "\u001b[34mSM_MODULE_NAME=train\u001b[0m\n",
      "\u001b[34mSM_LOG_LEVEL=20\u001b[0m\n",
      "\u001b[34mSM_FRAMEWORK_MODULE=sagemaker_pytorch_container.training:main\n",
      "\u001b[0m\n",
      "\u001b[34mInvoking script with the following command:\n",
      "\u001b[0m\n",
      "\u001b[34m/usr/bin/python -m train --epochs 9 --hidden_dim 200\n",
      "\n",
      "\u001b[0m\n",
      "\u001b[34mUsing device cuda.\u001b[0m\n",
      "\u001b[34mGet train data loader.\u001b[0m\n",
      "\u001b[34mModel loaded with embedding_dim 32, hidden_dim 200, vocab_size 5000.\u001b[0m\n",
      "\u001b[34mEpoch: 1, BCELoss: 0.6743025463454577\u001b[0m\n",
      "\u001b[34mEpoch: 2, BCELoss: 0.6275498648079074\u001b[0m\n",
      "\u001b[34mEpoch: 3, BCELoss: 0.5389260485464212\u001b[0m\n",
      "\u001b[34mEpoch: 4, BCELoss: 0.45007234811782837\u001b[0m\n",
      "\u001b[34mEpoch: 5, BCELoss: 0.3881907487402157\u001b[0m\n",
      "\u001b[34mEpoch: 6, BCELoss: 0.3461355208134165\u001b[0m\n",
      "\u001b[34mEpoch: 7, BCELoss: 0.31938618543196695\u001b[0m\n",
      "\u001b[34mEpoch: 8, BCELoss: 0.31153736126666165\u001b[0m\n",
      "\n",
      "2020-09-10 12:10:22 Uploading - Uploading generated training model\u001b[34mEpoch: 9, BCELoss: 0.27697037342859776\u001b[0m\n",
      "\u001b[34m2020-09-10 12:10:19,709 sagemaker-containers INFO     Reporting training SUCCESS\u001b[0m\n",
      "\n",
      "2020-09-10 12:10:28 Completed - Training job completed\n",
      "Training seconds: 268\n",
      "Billable seconds: 268\n"
     ]
    }
   ],
   "source": [
    "estimator.fit({'training': input_data})"
   ]
  },
  {
   "cell_type": "markdown",
   "metadata": {},
   "source": [
    "## Step 5: Testing the model\n",
    "\n",
    "As mentioned at the top of this notebook, we will be testing this model by first deploying it and then sending the testing data to the deployed endpoint. We will do this so that we can make sure that the deployed model is working correctly.\n",
    "\n",
    "## Step 6: Deploy the model for testing\n",
    "\n",
    "Now that we have trained our model, we would like to test it to see how it performs. Currently our model takes input of the form `review_length, review[500]` where `review[500]` is a sequence of `500` integers which describe the words present in the review, encoded using `word_dict`. Fortunately for us, SageMaker provides built-in inference code for models with simple inputs such as this.\n",
    "\n",
    "There is one thing that we need to provide, however, and that is a function which loads the saved model. This function must be called `model_fn()` and takes as its only parameter a path to the directory where the model artifacts are stored. This function must also be present in the python file which we specified as the entry point. In our case the model loading function has been provided and so no changes need to be made.\n",
    "\n",
    "**NOTE**: When the built-in inference code is run it must import the `model_fn()` method from the `train.py` file. This is why the training code is wrapped in a main guard ( ie, `if __name__ == '__main__':` )\n",
    "\n",
    "Since we don't need to change anything in the code that was uploaded during training, we can simply deploy the current model as-is.\n",
    "\n",
    "**NOTE:** When deploying a model you are asking SageMaker to launch an compute instance that will wait for data to be sent to it. As a result, this compute instance will continue to run until *you* shut it down. This is important to know since the cost of a deployed endpoint depends on how long it has been running for.\n",
    "\n",
    "In other words **If you are no longer using a deployed endpoint, shut it down!**\n",
    "\n",
    "**TODO:** Deploy the trained model."
   ]
  },
  {
   "cell_type": "code",
   "execution_count": 28,
   "metadata": {},
   "outputs": [
    {
     "name": "stderr",
     "output_type": "stream",
     "text": [
      "Parameter image will be renamed to image_uri in SageMaker Python SDK v2.\n",
      "'create_image_uri' will be deprecated in favor of 'ImageURIProvider' class in SageMaker Python SDK v2.\n"
     ]
    },
    {
     "name": "stdout",
     "output_type": "stream",
     "text": [
      "-----------------!"
     ]
    }
   ],
   "source": [
    "# TODO: Deploy the trained model\n",
    "predictor = estimator.deploy(initial_instance_count=1, instance_type='ml.p2.xlarge')"
   ]
  },
  {
   "cell_type": "markdown",
   "metadata": {},
   "source": [
    "## Step 7 - Use the model for testing\n",
    "\n",
    "Once deployed, we can read in the test data and send it off to our deployed model to get some results. Once we collect all of the results we can determine how accurate our model is."
   ]
  },
  {
   "cell_type": "code",
   "execution_count": 29,
   "metadata": {},
   "outputs": [],
   "source": [
    "test_X = pd.concat([pd.DataFrame(test_X_len), pd.DataFrame(test_X)], axis=1)"
   ]
  },
  {
   "cell_type": "code",
   "execution_count": 30,
   "metadata": {},
   "outputs": [],
   "source": [
    "# We split the data into chunks and send each chunk seperately, accumulating the results.\n",
    "\n",
    "def predict(data, rows=512):\n",
    "    split_array = np.array_split(data, int(data.shape[0] / float(rows) + 1))\n",
    "    predictions = np.array([])\n",
    "    for array in split_array:\n",
    "        predictions = np.append(predictions, predictor.predict(array))\n",
    "    \n",
    "    return predictions"
   ]
  },
  {
   "cell_type": "code",
   "execution_count": 31,
   "metadata": {},
   "outputs": [],
   "source": [
    "predictions = predict(test_X.values)\n",
    "predictions = [round(num) for num in predictions]"
   ]
  },
  {
   "cell_type": "code",
   "execution_count": 32,
   "metadata": {},
   "outputs": [
    {
     "data": {
      "text/plain": [
       "0.8476"
      ]
     },
     "execution_count": 32,
     "metadata": {},
     "output_type": "execute_result"
    }
   ],
   "source": [
    "from sklearn.metrics import accuracy_score\n",
    "accuracy_score(test_y, predictions)"
   ]
  },
  {
   "cell_type": "markdown",
   "metadata": {},
   "source": [
    "**Question:** How does this model compare to the XGBoost model you created earlier? Why might these two models perform differently on this dataset? Which do *you* think is better for sentiment analysis?"
   ]
  },
  {
   "cell_type": "markdown",
   "metadata": {},
   "source": [
    "**Answer:** Recall that the XGBoost model accuracy is 0.85696, we can say that the difference between the two models in terms of accuracy isn't that great, however, I'd prefer the LSTM implementation more than the BoW's implementation since LSTM's keep track of previous inputs."
   ]
  },
  {
   "cell_type": "markdown",
   "metadata": {},
   "source": [
    "### (TODO) More testing\n",
    "\n",
    "We now have a trained model which has been deployed and which we can send processed reviews to and which returns the predicted sentiment. However, ultimately we would like to be able to send our model an unprocessed review. That is, we would like to send the review itself as a string. For example, suppose we wish to send the following review to our model."
   ]
  },
  {
   "cell_type": "code",
   "execution_count": 33,
   "metadata": {},
   "outputs": [],
   "source": [
    "test_review = 'The simplest pleasures in life are the best, and this film is one of them. Combining a rather basic storyline of love and adventure this movie transcends the usual weekend fair with wit and unmitigated charm.'"
   ]
  },
  {
   "cell_type": "markdown",
   "metadata": {},
   "source": [
    "The question we now need to answer is, how do we send this review to our model?\n",
    "\n",
    "Recall in the first section of this notebook we did a bunch of data processing to the IMDb dataset. In particular, we did two specific things to the provided reviews.\n",
    " - Removed any html tags and stemmed the input\n",
    " - Encoded the review as a sequence of integers using `word_dict`\n",
    " \n",
    "In order process the review we will need to repeat these two steps.\n",
    "\n",
    "**TODO**: Using the `review_to_words` and `convert_and_pad` methods from section one, convert `test_review` into a numpy array `test_data` suitable to send to our model. Remember that our model expects input of the form `review_length, review[500]`."
   ]
  },
  {
   "cell_type": "code",
   "execution_count": 34,
   "metadata": {},
   "outputs": [],
   "source": [
    "# TODO: Convert test_review into a form usable by the model and save the results in test_data\n",
    "test_review_words = review_to_words(test_review)\n",
    "test_review_words, length = convert_and_pad(word_dict, test_review_words)\n",
    "test_data = np.array([[length] + test_review_words])"
   ]
  },
  {
   "cell_type": "markdown",
   "metadata": {},
   "source": [
    "Now that we have processed the review, we can send the resulting array to our model to predict the sentiment of the review."
   ]
  },
  {
   "cell_type": "code",
   "execution_count": 35,
   "metadata": {},
   "outputs": [
    {
     "data": {
      "text/plain": [
       "array(0.91919935, dtype=float32)"
      ]
     },
     "execution_count": 35,
     "metadata": {},
     "output_type": "execute_result"
    }
   ],
   "source": [
    "predictor.predict(test_data)"
   ]
  },
  {
   "cell_type": "markdown",
   "metadata": {},
   "source": [
    "Since the return value of our model is close to `1`, we can be certain that the review we submitted is positive."
   ]
  },
  {
   "cell_type": "markdown",
   "metadata": {},
   "source": [
    "### Delete the endpoint\n",
    "\n",
    "Of course, just like in the XGBoost notebook, once we've deployed an endpoint it continues to run until we tell it to shut down. Since we are done using our endpoint for now, we can delete it."
   ]
  },
  {
   "cell_type": "code",
   "execution_count": 36,
   "metadata": {},
   "outputs": [
    {
     "name": "stderr",
     "output_type": "stream",
     "text": [
      "estimator.delete_endpoint() will be deprecated in SageMaker Python SDK v2. Please use the delete_endpoint() function on your predictor instead.\n"
     ]
    }
   ],
   "source": [
    "estimator.delete_endpoint()"
   ]
  },
  {
   "cell_type": "markdown",
   "metadata": {},
   "source": [
    "## Step 6 (again) - Deploy the model for the web app\n",
    "\n",
    "Now that we know that our model is working, it's time to create some custom inference code so that we can send the model a review which has not been processed and have it determine the sentiment of the review.\n",
    "\n",
    "As we saw above, by default the estimator which we created, when deployed, will use the entry script and directory which we provided when creating the model. However, since we now wish to accept a string as input and our model expects a processed review, we need to write some custom inference code.\n",
    "\n",
    "We will store the code that we write in the `serve` directory. Provided in this directory is the `model.py` file that we used to construct our model, a `utils.py` file which contains the `review_to_words` and `convert_and_pad` pre-processing functions which we used during the initial data processing, and `predict.py`, the file which will contain our custom inference code. Note also that `requirements.txt` is present which will tell SageMaker what Python libraries are required by our custom inference code.\n",
    "\n",
    "When deploying a PyTorch model in SageMaker, you are expected to provide four functions which the SageMaker inference container will use.\n",
    " - `model_fn`: This function is the same function that we used in the training script and it tells SageMaker how to load our model.\n",
    " - `input_fn`: This function receives the raw serialized input that has been sent to the model's endpoint and its job is to de-serialize and make the input available for the inference code.\n",
    " - `output_fn`: This function takes the output of the inference code and its job is to serialize this output and return it to the caller of the model's endpoint.\n",
    " - `predict_fn`: The heart of the inference script, this is where the actual prediction is done and is the function which you will need to complete.\n",
    "\n",
    "For the simple website that we are constructing during this project, the `input_fn` and `output_fn` methods are relatively straightforward. We only require being able to accept a string as input and we expect to return a single value as output. You might imagine though that in a more complex application the input or output may be image data or some other binary data which would require some effort to serialize.\n",
    "\n",
    "### (TODO) Writing inference code\n",
    "\n",
    "Before writing our custom inference code, we will begin by taking a look at the code which has been provided."
   ]
  },
  {
   "cell_type": "code",
   "execution_count": 37,
   "metadata": {},
   "outputs": [
    {
     "name": "stdout",
     "output_type": "stream",
     "text": [
      "\u001b[34mimport\u001b[39;49;00m \u001b[04m\u001b[36margparse\u001b[39;49;00m\n",
      "\u001b[34mimport\u001b[39;49;00m \u001b[04m\u001b[36mjson\u001b[39;49;00m\n",
      "\u001b[34mimport\u001b[39;49;00m \u001b[04m\u001b[36mos\u001b[39;49;00m\n",
      "\u001b[34mimport\u001b[39;49;00m \u001b[04m\u001b[36mpickle\u001b[39;49;00m\n",
      "\u001b[34mimport\u001b[39;49;00m \u001b[04m\u001b[36msys\u001b[39;49;00m\n",
      "\u001b[34mimport\u001b[39;49;00m \u001b[04m\u001b[36msagemaker_containers\u001b[39;49;00m\n",
      "\u001b[34mimport\u001b[39;49;00m \u001b[04m\u001b[36mpandas\u001b[39;49;00m \u001b[34mas\u001b[39;49;00m \u001b[04m\u001b[36mpd\u001b[39;49;00m\n",
      "\u001b[34mimport\u001b[39;49;00m \u001b[04m\u001b[36mnumpy\u001b[39;49;00m \u001b[34mas\u001b[39;49;00m \u001b[04m\u001b[36mnp\u001b[39;49;00m\n",
      "\u001b[34mimport\u001b[39;49;00m \u001b[04m\u001b[36mtorch\u001b[39;49;00m\n",
      "\u001b[34mimport\u001b[39;49;00m \u001b[04m\u001b[36mtorch\u001b[39;49;00m\u001b[04m\u001b[36m.\u001b[39;49;00m\u001b[04m\u001b[36mnn\u001b[39;49;00m \u001b[34mas\u001b[39;49;00m \u001b[04m\u001b[36mnn\u001b[39;49;00m\n",
      "\u001b[34mimport\u001b[39;49;00m \u001b[04m\u001b[36mtorch\u001b[39;49;00m\u001b[04m\u001b[36m.\u001b[39;49;00m\u001b[04m\u001b[36moptim\u001b[39;49;00m \u001b[34mas\u001b[39;49;00m \u001b[04m\u001b[36moptim\u001b[39;49;00m\n",
      "\u001b[34mimport\u001b[39;49;00m \u001b[04m\u001b[36mtorch\u001b[39;49;00m\u001b[04m\u001b[36m.\u001b[39;49;00m\u001b[04m\u001b[36mutils\u001b[39;49;00m\u001b[04m\u001b[36m.\u001b[39;49;00m\u001b[04m\u001b[36mdata\u001b[39;49;00m\n",
      "\n",
      "\u001b[34mfrom\u001b[39;49;00m \u001b[04m\u001b[36mmodel\u001b[39;49;00m \u001b[34mimport\u001b[39;49;00m LSTMClassifier\n",
      "\n",
      "\u001b[34mfrom\u001b[39;49;00m \u001b[04m\u001b[36mutils\u001b[39;49;00m \u001b[34mimport\u001b[39;49;00m review_to_words, convert_and_pad\n",
      "\n",
      "\u001b[34mdef\u001b[39;49;00m \u001b[32mmodel_fn\u001b[39;49;00m(model_dir):\n",
      "    \u001b[33m\"\"\"Load the PyTorch model from the `model_dir` directory.\"\"\"\u001b[39;49;00m\n",
      "    \u001b[36mprint\u001b[39;49;00m(\u001b[33m\"\u001b[39;49;00m\u001b[33mLoading model.\u001b[39;49;00m\u001b[33m\"\u001b[39;49;00m)\n",
      "\n",
      "    \u001b[37m# First, load the parameters used to create the model.\u001b[39;49;00m\n",
      "    model_info = {}\n",
      "    model_info_path = os.path.join(model_dir, \u001b[33m'\u001b[39;49;00m\u001b[33mmodel_info.pth\u001b[39;49;00m\u001b[33m'\u001b[39;49;00m)\n",
      "    \u001b[34mwith\u001b[39;49;00m \u001b[36mopen\u001b[39;49;00m(model_info_path, \u001b[33m'\u001b[39;49;00m\u001b[33mrb\u001b[39;49;00m\u001b[33m'\u001b[39;49;00m) \u001b[34mas\u001b[39;49;00m f:\n",
      "        model_info = torch.load(f)\n",
      "\n",
      "    \u001b[36mprint\u001b[39;49;00m(\u001b[33m\"\u001b[39;49;00m\u001b[33mmodel_info: \u001b[39;49;00m\u001b[33m{}\u001b[39;49;00m\u001b[33m\"\u001b[39;49;00m.format(model_info))\n",
      "\n",
      "    \u001b[37m# Determine the device and construct the model.\u001b[39;49;00m\n",
      "    device = torch.device(\u001b[33m\"\u001b[39;49;00m\u001b[33mcuda\u001b[39;49;00m\u001b[33m\"\u001b[39;49;00m \u001b[34mif\u001b[39;49;00m torch.cuda.is_available() \u001b[34melse\u001b[39;49;00m \u001b[33m\"\u001b[39;49;00m\u001b[33mcpu\u001b[39;49;00m\u001b[33m\"\u001b[39;49;00m)\n",
      "    model = LSTMClassifier(model_info[\u001b[33m'\u001b[39;49;00m\u001b[33membedding_dim\u001b[39;49;00m\u001b[33m'\u001b[39;49;00m], model_info[\u001b[33m'\u001b[39;49;00m\u001b[33mhidden_dim\u001b[39;49;00m\u001b[33m'\u001b[39;49;00m], model_info[\u001b[33m'\u001b[39;49;00m\u001b[33mvocab_size\u001b[39;49;00m\u001b[33m'\u001b[39;49;00m])\n",
      "\n",
      "    \u001b[37m# Load the store model parameters.\u001b[39;49;00m\n",
      "    model_path = os.path.join(model_dir, \u001b[33m'\u001b[39;49;00m\u001b[33mmodel.pth\u001b[39;49;00m\u001b[33m'\u001b[39;49;00m)\n",
      "    \u001b[34mwith\u001b[39;49;00m \u001b[36mopen\u001b[39;49;00m(model_path, \u001b[33m'\u001b[39;49;00m\u001b[33mrb\u001b[39;49;00m\u001b[33m'\u001b[39;49;00m) \u001b[34mas\u001b[39;49;00m f:\n",
      "        model.load_state_dict(torch.load(f))\n",
      "\n",
      "    \u001b[37m# Load the saved word_dict.\u001b[39;49;00m\n",
      "    word_dict_path = os.path.join(model_dir, \u001b[33m'\u001b[39;49;00m\u001b[33mword_dict.pkl\u001b[39;49;00m\u001b[33m'\u001b[39;49;00m)\n",
      "    \u001b[34mwith\u001b[39;49;00m \u001b[36mopen\u001b[39;49;00m(word_dict_path, \u001b[33m'\u001b[39;49;00m\u001b[33mrb\u001b[39;49;00m\u001b[33m'\u001b[39;49;00m) \u001b[34mas\u001b[39;49;00m f:\n",
      "        model.word_dict = pickle.load(f)\n",
      "\n",
      "    model.to(device).eval()\n",
      "\n",
      "    \u001b[36mprint\u001b[39;49;00m(\u001b[33m\"\u001b[39;49;00m\u001b[33mDone loading model.\u001b[39;49;00m\u001b[33m\"\u001b[39;49;00m)\n",
      "    \u001b[34mreturn\u001b[39;49;00m model\n",
      "\n",
      "\u001b[34mdef\u001b[39;49;00m \u001b[32minput_fn\u001b[39;49;00m(serialized_input_data, content_type):\n",
      "    \u001b[36mprint\u001b[39;49;00m(\u001b[33m'\u001b[39;49;00m\u001b[33mDeserializing the input data.\u001b[39;49;00m\u001b[33m'\u001b[39;49;00m)\n",
      "    \u001b[34mif\u001b[39;49;00m content_type == \u001b[33m'\u001b[39;49;00m\u001b[33mtext/plain\u001b[39;49;00m\u001b[33m'\u001b[39;49;00m:\n",
      "        data = serialized_input_data.decode(\u001b[33m'\u001b[39;49;00m\u001b[33mutf-8\u001b[39;49;00m\u001b[33m'\u001b[39;49;00m)\n",
      "        \u001b[34mreturn\u001b[39;49;00m data\n",
      "    \u001b[34mraise\u001b[39;49;00m \u001b[36mException\u001b[39;49;00m(\u001b[33m'\u001b[39;49;00m\u001b[33mRequested unsupported ContentType in content_type: \u001b[39;49;00m\u001b[33m'\u001b[39;49;00m + content_type)\n",
      "\n",
      "\u001b[34mdef\u001b[39;49;00m \u001b[32moutput_fn\u001b[39;49;00m(prediction_output, accept):\n",
      "    \u001b[36mprint\u001b[39;49;00m(\u001b[33m'\u001b[39;49;00m\u001b[33mSerializing the generated output.\u001b[39;49;00m\u001b[33m'\u001b[39;49;00m)\n",
      "    \u001b[34mreturn\u001b[39;49;00m \u001b[36mstr\u001b[39;49;00m(prediction_output)\n",
      "\n",
      "\u001b[34mdef\u001b[39;49;00m \u001b[32mpredict_fn\u001b[39;49;00m(input_data, model):\n",
      "    \u001b[36mprint\u001b[39;49;00m(\u001b[33m'\u001b[39;49;00m\u001b[33mInferring sentiment of input data.\u001b[39;49;00m\u001b[33m'\u001b[39;49;00m)\n",
      "\n",
      "    device = torch.device(\u001b[33m\"\u001b[39;49;00m\u001b[33mcuda\u001b[39;49;00m\u001b[33m\"\u001b[39;49;00m \u001b[34mif\u001b[39;49;00m torch.cuda.is_available() \u001b[34melse\u001b[39;49;00m \u001b[33m\"\u001b[39;49;00m\u001b[33mcpu\u001b[39;49;00m\u001b[33m\"\u001b[39;49;00m)\n",
      "    \n",
      "    \u001b[34mif\u001b[39;49;00m model.word_dict \u001b[35mis\u001b[39;49;00m \u001b[34mNone\u001b[39;49;00m:\n",
      "        \u001b[34mraise\u001b[39;49;00m \u001b[36mException\u001b[39;49;00m(\u001b[33m'\u001b[39;49;00m\u001b[33mModel has not been loaded properly, no word_dict.\u001b[39;49;00m\u001b[33m'\u001b[39;49;00m)\n",
      "    \n",
      "    \u001b[37m# TODO: Process input_data so that it is ready to be sent to our model.\u001b[39;49;00m\n",
      "    \u001b[37m#       You should produce two variables:\u001b[39;49;00m\n",
      "    \u001b[37m#         data_X   - A sequence of length 500 which represents the converted review\u001b[39;49;00m\n",
      "    \u001b[37m#         data_len - The length of the review\u001b[39;49;00m\n",
      "\n",
      "    data_X, data_len = convert_and_pad(model.word_dict, review_to_words(input_data))\n",
      "\n",
      "    \u001b[37m# Using data_X and data_len we construct an appropriate input tensor. Remember\u001b[39;49;00m\n",
      "    \u001b[37m# that our model expects input data of the form 'len, review[500]'.\u001b[39;49;00m\n",
      "    data_pack = np.hstack((data_len, data_X))\n",
      "    data_pack = data_pack.reshape(\u001b[34m1\u001b[39;49;00m, -\u001b[34m1\u001b[39;49;00m)\n",
      "    \n",
      "    data = torch.from_numpy(data_pack)\n",
      "    data = data.to(device)\n",
      "\n",
      "    \u001b[37m# Make sure to put the model into evaluation mode\u001b[39;49;00m\n",
      "    model.eval()\n",
      "\n",
      "    \u001b[37m# TODO: Compute the result of applying the model to the input data. The variable `result` should\u001b[39;49;00m\n",
      "    \u001b[37m#       be a numpy array which contains a single integer which is either 1 or 0\u001b[39;49;00m\n",
      "\n",
      "    \u001b[34mwith\u001b[39;49;00m torch.no_grad():\n",
      "        output = model.forward(data)\n",
      "    result = np.round(output.numpy())\n",
      "\n",
      "    \u001b[34mreturn\u001b[39;49;00m result\n"
     ]
    }
   ],
   "source": [
    "!pygmentize serve/predict.py"
   ]
  },
  {
   "cell_type": "markdown",
   "metadata": {},
   "source": [
    "As mentioned earlier, the `model_fn` method is the same as the one provided in the training code and the `input_fn` and `output_fn` methods are very simple and your task will be to complete the `predict_fn` method. Make sure that you save the completed file as `predict.py` in the `serve` directory.\n",
    "\n",
    "**TODO**: Complete the `predict_fn()` method in the `serve/predict.py` file."
   ]
  },
  {
   "cell_type": "markdown",
   "metadata": {},
   "source": [
    "### Deploying the model\n",
    "\n",
    "Now that the custom inference code has been written, we will create and deploy our model. To begin with, we need to construct a new PyTorchModel object which points to the model artifacts created during training and also points to the inference code that we wish to use. Then we can call the deploy method to launch the deployment container.\n",
    "\n",
    "**NOTE**: The default behaviour for a deployed PyTorch model is to assume that any input passed to the predictor is a `numpy` array. In our case we want to send a string so we need to construct a simple wrapper around the `RealTimePredictor` class to accomodate simple strings. In a more complicated situation you may want to provide a serialization object, for example if you wanted to sent image data."
   ]
  },
  {
   "cell_type": "code",
   "execution_count": 38,
   "metadata": {},
   "outputs": [
    {
     "name": "stderr",
     "output_type": "stream",
     "text": [
      "Parameter image will be renamed to image_uri in SageMaker Python SDK v2.\n",
      "'create_image_uri' will be deprecated in favor of 'ImageURIProvider' class in SageMaker Python SDK v2.\n"
     ]
    },
    {
     "name": "stdout",
     "output_type": "stream",
     "text": [
      "-----------------!"
     ]
    }
   ],
   "source": [
    "from sagemaker.predictor import RealTimePredictor\n",
    "from sagemaker.pytorch import PyTorchModel\n",
    "\n",
    "class StringPredictor(RealTimePredictor):\n",
    "    def __init__(self, endpoint_name, sagemaker_session):\n",
    "        super(StringPredictor, self).__init__(endpoint_name, sagemaker_session, content_type='text/plain')\n",
    "\n",
    "model = PyTorchModel(model_data=estimator.model_data,\n",
    "                     role = role,\n",
    "                     framework_version='0.4.0',\n",
    "                     entry_point='predict.py',\n",
    "                     source_dir='serve',\n",
    "                     predictor_cls=StringPredictor)\n",
    "predictor = model.deploy(initial_instance_count=1, instance_type='ml.m4.xlarge')"
   ]
  },
  {
   "cell_type": "markdown",
   "metadata": {},
   "source": [
    "### Testing the model\n",
    "\n",
    "Now that we have deployed our model with the custom inference code, we should test to see if everything is working. Here we test our model by loading the first `250` positive and negative reviews and send them to the endpoint, then collect the results. The reason for only sending some of the data is that the amount of time it takes for our model to process the input and then perform inference is quite long and so testing the entire data set would be prohibitive."
   ]
  },
  {
   "cell_type": "code",
   "execution_count": 42,
   "metadata": {},
   "outputs": [],
   "source": [
    "import glob\n",
    "\n",
    "def test_reviews(data_dir='../data/aclImdb', stop=250):\n",
    "    \n",
    "    results = []\n",
    "    ground = []\n",
    "    \n",
    "    # We make sure to test both positive and negative reviews    \n",
    "    for sentiment in ['pos', 'neg']:\n",
    "        \n",
    "        path = os.path.join(data_dir, 'test', sentiment, '*.txt')\n",
    "        files = glob.glob(path)\n",
    "        \n",
    "        files_read = 0\n",
    "        \n",
    "        print('Starting ', sentiment, ' files')\n",
    "        \n",
    "        # Iterate through the files and send them to the predictor\n",
    "        for f in files:\n",
    "            with open(f) as review:\n",
    "                # First, we store the ground truth (was the review positive or negative)\n",
    "                if sentiment == 'pos':\n",
    "                    ground.append(1)\n",
    "                else:\n",
    "                    ground.append(0)\n",
    "                # Read in the review and convert to 'utf-8' for transmission via HTTP\n",
    "                review_input = review.read().encode('utf-8')\n",
    "                # Send the review to the predictor and store the results\n",
    "                results.append(float(predictor.predict(review_input)))\n",
    "                \n",
    "            # Sending reviews to our endpoint one at a time takes a while so we\n",
    "            # only send a small number of reviews\n",
    "            files_read += 1\n",
    "            if files_read == stop:\n",
    "                break\n",
    "            \n",
    "    return ground, results"
   ]
  },
  {
   "cell_type": "code",
   "execution_count": 43,
   "metadata": {},
   "outputs": [
    {
     "name": "stdout",
     "output_type": "stream",
     "text": [
      "Starting  pos  files\n",
      "Starting  neg  files\n"
     ]
    }
   ],
   "source": [
    "ground, results = test_reviews()"
   ]
  },
  {
   "cell_type": "code",
   "execution_count": 44,
   "metadata": {},
   "outputs": [
    {
     "data": {
      "text/plain": [
       "0.832"
      ]
     },
     "execution_count": 44,
     "metadata": {},
     "output_type": "execute_result"
    }
   ],
   "source": [
    "from sklearn.metrics import accuracy_score\n",
    "accuracy_score(ground, results)"
   ]
  },
  {
   "cell_type": "markdown",
   "metadata": {},
   "source": [
    "As an additional test, we can try sending the `test_review` that we looked at earlier."
   ]
  },
  {
   "cell_type": "code",
   "execution_count": 45,
   "metadata": {},
   "outputs": [
    {
     "data": {
      "text/plain": [
       "b'1.0'"
      ]
     },
     "execution_count": 45,
     "metadata": {},
     "output_type": "execute_result"
    }
   ],
   "source": [
    "predictor.predict(test_review)"
   ]
  },
  {
   "cell_type": "markdown",
   "metadata": {},
   "source": [
    "Now that we know our endpoint is working as expected, we can set up the web page that will interact with it. If you don't have time to finish the project now, make sure to skip down to the end of this notebook and shut down your endpoint. You can deploy it again when you come back."
   ]
  },
  {
   "cell_type": "markdown",
   "metadata": {},
   "source": [
    "## Step 7 (again): Use the model for the web app\n",
    "\n",
    "> **TODO:** This entire section and the next contain tasks for you to complete, mostly using the AWS console.\n",
    "\n",
    "So far we have been accessing our model endpoint by constructing a predictor object which uses the endpoint and then just using the predictor object to perform inference. What if we wanted to create a web app which accessed our model? The way things are set up currently makes that not possible since in order to access a SageMaker endpoint the app would first have to authenticate with AWS using an IAM role which included access to SageMaker endpoints. However, there is an easier way! We just need to use some additional AWS services.\n",
    "\n",
    "<img src=\"Web App Diagram.svg\">\n",
    "\n",
    "The diagram above gives an overview of how the various services will work together. On the far right is the model which we trained above and which is deployed using SageMaker. On the far left is our web app that collects a user's movie review, sends it off and expects a positive or negative sentiment in return.\n",
    "\n",
    "In the middle is where some of the magic happens. We will construct a Lambda function, which you can think of as a straightforward Python function that can be executed whenever a specified event occurs. We will give this function permission to send and recieve data from a SageMaker endpoint.\n",
    "\n",
    "Lastly, the method we will use to execute the Lambda function is a new endpoint that we will create using API Gateway. This endpoint will be a url that listens for data to be sent to it. Once it gets some data it will pass that data on to the Lambda function and then return whatever the Lambda function returns. Essentially it will act as an interface that lets our web app communicate with the Lambda function.\n",
    "\n",
    "### Setting up a Lambda function\n",
    "\n",
    "The first thing we are going to do is set up a Lambda function. This Lambda function will be executed whenever our public API has data sent to it. When it is executed it will receive the data, perform any sort of processing that is required, send the data (the review) to the SageMaker endpoint we've created and then return the result.\n",
    "\n",
    "#### Part A: Create an IAM Role for the Lambda function\n",
    "\n",
    "Since we want the Lambda function to call a SageMaker endpoint, we need to make sure that it has permission to do so. To do this, we will construct a role that we can later give the Lambda function.\n",
    "\n",
    "Using the AWS Console, navigate to the **IAM** page and click on **Roles**. Then, click on **Create role**. Make sure that the **AWS service** is the type of trusted entity selected and choose **Lambda** as the service that will use this role, then click **Next: Permissions**.\n",
    "\n",
    "In the search box type `sagemaker` and select the check box next to the **AmazonSageMakerFullAccess** policy. Then, click on **Next: Review**.\n",
    "\n",
    "Lastly, give this role a name. Make sure you use a name that you will remember later on, for example `LambdaSageMakerRole`. Then, click on **Create role**.\n",
    "\n",
    "#### Part B: Create a Lambda function\n",
    "\n",
    "Now it is time to actually create the Lambda function.\n",
    "\n",
    "Using the AWS Console, navigate to the AWS Lambda page and click on **Create a function**. When you get to the next page, make sure that **Author from scratch** is selected. Now, name your Lambda function, using a name that you will remember later on, for example `sentiment_analysis_func`. Make sure that the **Python 3.6** runtime is selected and then choose the role that you created in the previous part. Then, click on **Create Function**.\n",
    "\n",
    "On the next page you will see some information about the Lambda function you've just created. If you scroll down you should see an editor in which you can write the code that will be executed when your Lambda function is triggered. In our example, we will use the code below. \n",
    "\n",
    "```python\n",
    "# We need to use the low-level library to interact with SageMaker since the SageMaker API\n",
    "# is not available natively through Lambda.\n",
    "import boto3\n",
    "\n",
    "def lambda_handler(event, context):\n",
    "\n",
    "    # The SageMaker runtime is what allows us to invoke the endpoint that we've created.\n",
    "    runtime = boto3.Session().client('sagemaker-runtime')\n",
    "\n",
    "    # Now we use the SageMaker runtime to invoke our endpoint, sending the review we were given\n",
    "    response = runtime.invoke_endpoint(EndpointName = '**ENDPOINT NAME HERE**',    # The name of the endpoint we created\n",
    "                                       ContentType = 'text/plain',                 # The data format that is expected\n",
    "                                       Body = event['body'])                       # The actual review\n",
    "\n",
    "    # The response is an HTTP response whose body contains the result of our inference\n",
    "    result = response['Body'].read().decode('utf-8')\n",
    "\n",
    "    return {\n",
    "        'statusCode' : 200,\n",
    "        'headers' : { 'Content-Type' : 'text/plain', 'Access-Control-Allow-Origin' : '*' },\n",
    "        'body' : result\n",
    "    }\n",
    "```\n",
    "\n",
    "Once you have copy and pasted the code above into the Lambda code editor, replace the `**ENDPOINT NAME HERE**` portion with the name of the endpoint that we deployed earlier. You can determine the name of the endpoint using the code cell below."
   ]
  },
  {
   "cell_type": "code",
   "execution_count": 46,
   "metadata": {},
   "outputs": [
    {
     "data": {
      "text/plain": [
       "'sagemaker-pytorch-2020-09-10-12-19-48-093'"
      ]
     },
     "execution_count": 46,
     "metadata": {},
     "output_type": "execute_result"
    }
   ],
   "source": [
    "predictor.endpoint"
   ]
  },
  {
   "cell_type": "markdown",
   "metadata": {},
   "source": [
    "Once you have added the endpoint name to the Lambda function, click on **Save**. Your Lambda function is now up and running. Next we need to create a way for our web app to execute the Lambda function.\n",
    "\n",
    "### Setting up API Gateway\n",
    "\n",
    "Now that our Lambda function is set up, it is time to create a new API using API Gateway that will trigger the Lambda function we have just created.\n",
    "\n",
    "Using AWS Console, navigate to **Amazon API Gateway** and then click on **Get started**.\n",
    "\n",
    "On the next page, make sure that **New API** is selected and give the new api a name, for example, `sentiment_analysis_api`. Then, click on **Create API**.\n",
    "\n",
    "Now we have created an API, however it doesn't currently do anything. What we want it to do is to trigger the Lambda function that we created earlier.\n",
    "\n",
    "Select the **Actions** dropdown menu and click **Create Method**. A new blank method will be created, select its dropdown menu and select **POST**, then click on the check mark beside it.\n",
    "\n",
    "For the integration point, make sure that **Lambda Function** is selected and click on the **Use Lambda Proxy integration**. This option makes sure that the data that is sent to the API is then sent directly to the Lambda function with no processing. It also means that the return value must be a proper response object as it will also not be processed by API Gateway.\n",
    "\n",
    "Type the name of the Lambda function you created earlier into the **Lambda Function** text entry box and then click on **Save**. Click on **OK** in the pop-up box that then appears, giving permission to API Gateway to invoke the Lambda function you created.\n",
    "\n",
    "The last step in creating the API Gateway is to select the **Actions** dropdown and click on **Deploy API**. You will need to create a new Deployment stage and name it anything you like, for example `prod`.\n",
    "\n",
    "You have now successfully set up a public API to access your SageMaker model. Make sure to copy or write down the URL provided to invoke your newly created public API as this will be needed in the next step. This URL can be found at the top of the page, highlighted in blue next to the text **Invoke URL**."
   ]
  },
  {
   "cell_type": "markdown",
   "metadata": {},
   "source": [
    "## Step 4: Deploying our web app\n",
    "\n",
    "Now that we have a publicly available API, we can start using it in a web app. For our purposes, we have provided a simple static html file which can make use of the public api you created earlier.\n",
    "\n",
    "In the `website` folder there should be a file called `index.html`. Download the file to your computer and open that file up in a text editor of your choice. There should be a line which contains **\\*\\*REPLACE WITH PUBLIC API URL\\*\\***. Replace this string with the url that you wrote down in the last step and then save the file.\n",
    "\n",
    "Now, if you open `index.html` on your local computer, your browser will behave as a local web server and you can use the provided site to interact with your SageMaker model.\n",
    "\n",
    "If you'd like to go further, you can host this html file anywhere you'd like, for example using github or hosting a static site on Amazon's S3. Once you have done this you can share the link with anyone you'd like and have them play with it too!\n",
    "\n",
    "> **Important Note** In order for the web app to communicate with the SageMaker endpoint, the endpoint has to actually be deployed and running. This means that you are paying for it. Make sure that the endpoint is running when you want to use the web app but that you shut it down when you don't need it, otherwise you will end up with a surprisingly large AWS bill.\n",
    "\n",
    "**TODO:** Make sure that you include the edited `index.html` file in your project submission."
   ]
  },
  {
   "cell_type": "markdown",
   "metadata": {},
   "source": [
    "Now that your web app is working, trying playing around with it and see how well it works.\n",
    "\n",
    "**Question**: Give an example of a review that you entered into your web app. What was the predicted sentiment of your example review?"
   ]
  },
  {
   "cell_type": "markdown",
   "metadata": {},
   "source": [
    "**Answer:**  \n",
    "**_Example Review:_** In my opinion the greatest comedy ever made! Daniels and Carrey work magic together in this film that more than 20 years later is finally considered a classic. When it first came out it was labeled as complete garbage and toilet humour. But to those people I say it is the best garbage and toilet humour you could ask for. What do you expect to see when the title of the film is ''Dumb and Dumber''. The quick back and forth between the two lead actors and not so subtle chirping often goes unnoticed because your'e laughing so hard from the previous scene.the jokes and dialogue are so good and Carey and Daniels deliver them with such authenticity. It's because of this reason that I am able to watch this movie countless times and still be entertained, as I listen to funny remarks that I missed on the previous 100 viewings. What's truly great about this film is that even people who say they hate it will always without fail crack a laugh or two when re-watching it. They just don't want to admit that they find this nonsense to be funny...but it is. More than 20 years later and I still have not seen a buddy comedy that comes close to matching it. _[Source: Dumb and Dumber, IMDB]_  \n",
    "**_Predicted Sentiment:_** POSITIVE"
   ]
  },
  {
   "cell_type": "markdown",
   "metadata": {},
   "source": [
    "### Delete the endpoint\n",
    "\n",
    "Remember to always shut down your endpoint if you are no longer using it. You are charged for the length of time that the endpoint is running so if you forget and leave it on you could end up with an unexpectedly large bill."
   ]
  },
  {
   "cell_type": "code",
   "execution_count": 47,
   "metadata": {},
   "outputs": [],
   "source": [
    "predictor.delete_endpoint()"
   ]
  },
  {
   "cell_type": "code",
   "execution_count": null,
   "metadata": {},
   "outputs": [],
   "source": []
  }
 ],
 "metadata": {
  "kernelspec": {
   "display_name": "conda_pytorch_p36",
   "language": "python",
   "name": "conda_pytorch_p36"
  },
  "language_info": {
   "codemirror_mode": {
    "name": "ipython",
    "version": 3
   },
   "file_extension": ".py",
   "mimetype": "text/x-python",
   "name": "python",
   "nbconvert_exporter": "python",
   "pygments_lexer": "ipython3",
   "version": "3.6.10"
  }
 },
 "nbformat": 4,
 "nbformat_minor": 2
}
